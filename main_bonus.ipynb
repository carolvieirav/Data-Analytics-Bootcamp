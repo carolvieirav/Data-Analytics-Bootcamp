{
  "nbformat": 4,
  "nbformat_minor": 0,
  "metadata": {
    "kernelspec": {
      "display_name": "Python 3",
      "language": "python",
      "name": "python3"
    },
    "language_info": {
      "codemirror_mode": {
        "name": "ipython",
        "version": 3
      },
      "file_extension": ".py",
      "mimetype": "text/x-python",
      "name": "python",
      "nbconvert_exporter": "python",
      "pygments_lexer": "ipython3",
      "version": "3.7.3"
    },
    "colab": {
      "name": "main_bonus.ipynb",
      "provenance": [],
      "include_colab_link": true
    }
  },
  "cells": [
    {
      "cell_type": "markdown",
      "metadata": {
        "id": "view-in-github",
        "colab_type": "text"
      },
      "source": [
        "<a href=\"https://colab.research.google.com/github/carolvieirav/Labs/blob/master/main_bonus.ipynb\" target=\"_parent\"><img src=\"https://colab.research.google.com/assets/colab-badge.svg\" alt=\"Open In Colab\"/></a>"
      ]
    },
    {
      "cell_type": "markdown",
      "metadata": {
        "id": "s8dfZ2yxWkDS",
        "colab_type": "text"
      },
      "source": [
        "# Introduction to Pandas\n",
        "\n",
        "Complete the following set of exercises to solidify your knowledge of Pandas fundamentals."
      ]
    },
    {
      "cell_type": "markdown",
      "metadata": {
        "id": "CG7X_nnIWkDg",
        "colab_type": "text"
      },
      "source": [
        "#### 1. Import Numpy and Pandas and alias them to `np` and `pd` respectively."
      ]
    },
    {
      "cell_type": "code",
      "metadata": {
        "id": "SvyGHZcMWkDo",
        "colab_type": "code",
        "colab": {}
      },
      "source": [
        "# your code here\n",
        "import numpy as np\n",
        "import pandas as pd"
      ],
      "execution_count": 0,
      "outputs": []
    },
    {
      "cell_type": "markdown",
      "metadata": {
        "id": "am5N--ypWkEF",
        "colab_type": "text"
      },
      "source": [
        "#### 2. Create a Pandas Series containing the elements of the list below."
      ]
    },
    {
      "cell_type": "code",
      "metadata": {
        "id": "G7DXV9fUWkEK",
        "colab_type": "code",
        "colab": {}
      },
      "source": [
        "lst = [5.7, 75.2, 74.4, 84.0, 66.5, 66.3, 55.8, 75.7, 29.1, 43.7]"
      ],
      "execution_count": 0,
      "outputs": []
    },
    {
      "cell_type": "code",
      "metadata": {
        "id": "NPrcaxbdWkEc",
        "colab_type": "code",
        "outputId": "e0ccbf27-0cd9-4d00-a1a9-3789b8727426",
        "colab": {
          "base_uri": "https://localhost:8080/",
          "height": 208
        }
      },
      "source": [
        "# your code here\n",
        "pd.Series(lst)"
      ],
      "execution_count": 0,
      "outputs": [
        {
          "output_type": "execute_result",
          "data": {
            "text/plain": [
              "0     5.7\n",
              "1    75.2\n",
              "2    74.4\n",
              "3    84.0\n",
              "4    66.5\n",
              "5    66.3\n",
              "6    55.8\n",
              "7    75.7\n",
              "8    29.1\n",
              "9    43.7\n",
              "dtype: float64"
            ]
          },
          "metadata": {
            "tags": []
          },
          "execution_count": 3
        }
      ]
    },
    {
      "cell_type": "markdown",
      "metadata": {
        "id": "-lLMTneqWkEt",
        "colab_type": "text"
      },
      "source": [
        "#### 3. Use indexing to return the third value in the Series above.\n",
        "\n",
        "*Hint: Remember that indexing begins at 0.*"
      ]
    },
    {
      "cell_type": "code",
      "metadata": {
        "id": "ddd5qvzlWkEy",
        "colab_type": "code",
        "outputId": "7ab2c7da-bf22-4c04-d564-5fc92b0fe6e9",
        "colab": {
          "base_uri": "https://localhost:8080/",
          "height": 34
        }
      },
      "source": [
        "# your code here\n",
        "pd.Series(lst)[2]"
      ],
      "execution_count": 0,
      "outputs": [
        {
          "output_type": "execute_result",
          "data": {
            "text/plain": [
              "74.4"
            ]
          },
          "metadata": {
            "tags": []
          },
          "execution_count": 4
        }
      ]
    },
    {
      "cell_type": "markdown",
      "metadata": {
        "id": "TMws-yNLWkFB",
        "colab_type": "text"
      },
      "source": [
        "#### 4. Create a Pandas DataFrame from the list of lists below. Each sublist should be represented as a row."
      ]
    },
    {
      "cell_type": "code",
      "metadata": {
        "id": "X3JTF7tDWkFG",
        "colab_type": "code",
        "colab": {}
      },
      "source": [
        "b = [[53.1, 95.0, 67.5, 35.0, 78.4],\n",
        "     [61.3, 40.8, 30.8, 37.8, 87.6],\n",
        "     [20.6, 73.2, 44.2, 14.6, 91.8],\n",
        "     [57.4, 0.1, 96.1, 4.2, 69.5],\n",
        "     [83.6, 20.5, 85.4, 22.8, 35.9],\n",
        "     [49.0, 69.0, 0.1, 31.8, 89.1],\n",
        "     [23.3, 40.7, 95.0, 83.8, 26.9],\n",
        "     [27.6, 26.4, 53.8, 88.8, 68.5],\n",
        "     [96.6, 96.4, 53.4, 72.4, 50.1],\n",
        "     [73.7, 39.0, 43.2, 81.6, 34.7]]"
      ],
      "execution_count": 0,
      "outputs": []
    },
    {
      "cell_type": "code",
      "metadata": {
        "id": "h8iQfSgQWkFU",
        "colab_type": "code",
        "outputId": "5e61fc99-05c6-4c66-ca7d-2db0048b6eb3",
        "colab": {
          "base_uri": "https://localhost:8080/",
          "height": 363
        }
      },
      "source": [
        "# your code herepd\n",
        "pd.DataFrame(b)"
      ],
      "execution_count": 0,
      "outputs": [
        {
          "output_type": "execute_result",
          "data": {
            "text/html": [
              "<div>\n",
              "<style scoped>\n",
              "    .dataframe tbody tr th:only-of-type {\n",
              "        vertical-align: middle;\n",
              "    }\n",
              "\n",
              "    .dataframe tbody tr th {\n",
              "        vertical-align: top;\n",
              "    }\n",
              "\n",
              "    .dataframe thead th {\n",
              "        text-align: right;\n",
              "    }\n",
              "</style>\n",
              "<table border=\"1\" class=\"dataframe\">\n",
              "  <thead>\n",
              "    <tr style=\"text-align: right;\">\n",
              "      <th></th>\n",
              "      <th>0</th>\n",
              "      <th>1</th>\n",
              "      <th>2</th>\n",
              "      <th>3</th>\n",
              "      <th>4</th>\n",
              "    </tr>\n",
              "  </thead>\n",
              "  <tbody>\n",
              "    <tr>\n",
              "      <th>0</th>\n",
              "      <td>53.1</td>\n",
              "      <td>95.0</td>\n",
              "      <td>67.5</td>\n",
              "      <td>35.0</td>\n",
              "      <td>78.4</td>\n",
              "    </tr>\n",
              "    <tr>\n",
              "      <th>1</th>\n",
              "      <td>61.3</td>\n",
              "      <td>40.8</td>\n",
              "      <td>30.8</td>\n",
              "      <td>37.8</td>\n",
              "      <td>87.6</td>\n",
              "    </tr>\n",
              "    <tr>\n",
              "      <th>2</th>\n",
              "      <td>20.6</td>\n",
              "      <td>73.2</td>\n",
              "      <td>44.2</td>\n",
              "      <td>14.6</td>\n",
              "      <td>91.8</td>\n",
              "    </tr>\n",
              "    <tr>\n",
              "      <th>3</th>\n",
              "      <td>57.4</td>\n",
              "      <td>0.1</td>\n",
              "      <td>96.1</td>\n",
              "      <td>4.2</td>\n",
              "      <td>69.5</td>\n",
              "    </tr>\n",
              "    <tr>\n",
              "      <th>4</th>\n",
              "      <td>83.6</td>\n",
              "      <td>20.5</td>\n",
              "      <td>85.4</td>\n",
              "      <td>22.8</td>\n",
              "      <td>35.9</td>\n",
              "    </tr>\n",
              "    <tr>\n",
              "      <th>5</th>\n",
              "      <td>49.0</td>\n",
              "      <td>69.0</td>\n",
              "      <td>0.1</td>\n",
              "      <td>31.8</td>\n",
              "      <td>89.1</td>\n",
              "    </tr>\n",
              "    <tr>\n",
              "      <th>6</th>\n",
              "      <td>23.3</td>\n",
              "      <td>40.7</td>\n",
              "      <td>95.0</td>\n",
              "      <td>83.8</td>\n",
              "      <td>26.9</td>\n",
              "    </tr>\n",
              "    <tr>\n",
              "      <th>7</th>\n",
              "      <td>27.6</td>\n",
              "      <td>26.4</td>\n",
              "      <td>53.8</td>\n",
              "      <td>88.8</td>\n",
              "      <td>68.5</td>\n",
              "    </tr>\n",
              "    <tr>\n",
              "      <th>8</th>\n",
              "      <td>96.6</td>\n",
              "      <td>96.4</td>\n",
              "      <td>53.4</td>\n",
              "      <td>72.4</td>\n",
              "      <td>50.1</td>\n",
              "    </tr>\n",
              "    <tr>\n",
              "      <th>9</th>\n",
              "      <td>73.7</td>\n",
              "      <td>39.0</td>\n",
              "      <td>43.2</td>\n",
              "      <td>81.6</td>\n",
              "      <td>34.7</td>\n",
              "    </tr>\n",
              "  </tbody>\n",
              "</table>\n",
              "</div>"
            ],
            "text/plain": [
              "      0     1     2     3     4\n",
              "0  53.1  95.0  67.5  35.0  78.4\n",
              "1  61.3  40.8  30.8  37.8  87.6\n",
              "2  20.6  73.2  44.2  14.6  91.8\n",
              "3  57.4   0.1  96.1   4.2  69.5\n",
              "4  83.6  20.5  85.4  22.8  35.9\n",
              "5  49.0  69.0   0.1  31.8  89.1\n",
              "6  23.3  40.7  95.0  83.8  26.9\n",
              "7  27.6  26.4  53.8  88.8  68.5\n",
              "8  96.6  96.4  53.4  72.4  50.1\n",
              "9  73.7  39.0  43.2  81.6  34.7"
            ]
          },
          "metadata": {
            "tags": []
          },
          "execution_count": 10
        }
      ]
    },
    {
      "cell_type": "markdown",
      "metadata": {
        "id": "rID3NGvyWkFn",
        "colab_type": "text"
      },
      "source": [
        "#### 5. Rename the data frame columns based on the names in the list below."
      ]
    },
    {
      "cell_type": "code",
      "metadata": {
        "id": "OibMBVR0WkFt",
        "colab_type": "code",
        "colab": {}
      },
      "source": [
        "colnames = ['Score_1', 'Score_2', 'Score_3', 'Score_4', 'Score_5']"
      ],
      "execution_count": 0,
      "outputs": []
    },
    {
      "cell_type": "code",
      "metadata": {
        "id": "0oDivgb4WkF5",
        "colab_type": "code",
        "outputId": "dc71ae2e-636a-4310-8b1a-174f2c2c3c9b",
        "colab": {
          "base_uri": "https://localhost:8080/",
          "height": 363
        }
      },
      "source": [
        "# your code here\n",
        "pd.DataFrame(b, columns=colnames)\n",
        "b"
      ],
      "execution_count": 0,
      "outputs": [
        {
          "output_type": "execute_result",
          "data": {
            "text/html": [
              "<div>\n",
              "<style scoped>\n",
              "    .dataframe tbody tr th:only-of-type {\n",
              "        vertical-align: middle;\n",
              "    }\n",
              "\n",
              "    .dataframe tbody tr th {\n",
              "        vertical-align: top;\n",
              "    }\n",
              "\n",
              "    .dataframe thead th {\n",
              "        text-align: right;\n",
              "    }\n",
              "</style>\n",
              "<table border=\"1\" class=\"dataframe\">\n",
              "  <thead>\n",
              "    <tr style=\"text-align: right;\">\n",
              "      <th></th>\n",
              "      <th>Score_1</th>\n",
              "      <th>Score_2</th>\n",
              "      <th>Score_3</th>\n",
              "      <th>Score_4</th>\n",
              "      <th>Score_5</th>\n",
              "    </tr>\n",
              "  </thead>\n",
              "  <tbody>\n",
              "    <tr>\n",
              "      <th>0</th>\n",
              "      <td>53.1</td>\n",
              "      <td>95.0</td>\n",
              "      <td>67.5</td>\n",
              "      <td>35.0</td>\n",
              "      <td>78.4</td>\n",
              "    </tr>\n",
              "    <tr>\n",
              "      <th>1</th>\n",
              "      <td>61.3</td>\n",
              "      <td>40.8</td>\n",
              "      <td>30.8</td>\n",
              "      <td>37.8</td>\n",
              "      <td>87.6</td>\n",
              "    </tr>\n",
              "    <tr>\n",
              "      <th>2</th>\n",
              "      <td>20.6</td>\n",
              "      <td>73.2</td>\n",
              "      <td>44.2</td>\n",
              "      <td>14.6</td>\n",
              "      <td>91.8</td>\n",
              "    </tr>\n",
              "    <tr>\n",
              "      <th>3</th>\n",
              "      <td>57.4</td>\n",
              "      <td>0.1</td>\n",
              "      <td>96.1</td>\n",
              "      <td>4.2</td>\n",
              "      <td>69.5</td>\n",
              "    </tr>\n",
              "    <tr>\n",
              "      <th>4</th>\n",
              "      <td>83.6</td>\n",
              "      <td>20.5</td>\n",
              "      <td>85.4</td>\n",
              "      <td>22.8</td>\n",
              "      <td>35.9</td>\n",
              "    </tr>\n",
              "    <tr>\n",
              "      <th>5</th>\n",
              "      <td>49.0</td>\n",
              "      <td>69.0</td>\n",
              "      <td>0.1</td>\n",
              "      <td>31.8</td>\n",
              "      <td>89.1</td>\n",
              "    </tr>\n",
              "    <tr>\n",
              "      <th>6</th>\n",
              "      <td>23.3</td>\n",
              "      <td>40.7</td>\n",
              "      <td>95.0</td>\n",
              "      <td>83.8</td>\n",
              "      <td>26.9</td>\n",
              "    </tr>\n",
              "    <tr>\n",
              "      <th>7</th>\n",
              "      <td>27.6</td>\n",
              "      <td>26.4</td>\n",
              "      <td>53.8</td>\n",
              "      <td>88.8</td>\n",
              "      <td>68.5</td>\n",
              "    </tr>\n",
              "    <tr>\n",
              "      <th>8</th>\n",
              "      <td>96.6</td>\n",
              "      <td>96.4</td>\n",
              "      <td>53.4</td>\n",
              "      <td>72.4</td>\n",
              "      <td>50.1</td>\n",
              "    </tr>\n",
              "    <tr>\n",
              "      <th>9</th>\n",
              "      <td>73.7</td>\n",
              "      <td>39.0</td>\n",
              "      <td>43.2</td>\n",
              "      <td>81.6</td>\n",
              "      <td>34.7</td>\n",
              "    </tr>\n",
              "  </tbody>\n",
              "</table>\n",
              "</div>"
            ],
            "text/plain": [
              "   Score_1  Score_2  Score_3  Score_4  Score_5\n",
              "0     53.1     95.0     67.5     35.0     78.4\n",
              "1     61.3     40.8     30.8     37.8     87.6\n",
              "2     20.6     73.2     44.2     14.6     91.8\n",
              "3     57.4      0.1     96.1      4.2     69.5\n",
              "4     83.6     20.5     85.4     22.8     35.9\n",
              "5     49.0     69.0      0.1     31.8     89.1\n",
              "6     23.3     40.7     95.0     83.8     26.9\n",
              "7     27.6     26.4     53.8     88.8     68.5\n",
              "8     96.6     96.4     53.4     72.4     50.1\n",
              "9     73.7     39.0     43.2     81.6     34.7"
            ]
          },
          "metadata": {
            "tags": []
          },
          "execution_count": 41
        }
      ]
    },
    {
      "cell_type": "markdown",
      "metadata": {
        "id": "Jyz1FbqKWkGK",
        "colab_type": "text"
      },
      "source": [
        "#### 6. Create a subset of this data frame that contains only the Score 1, 3, and 5 columns."
      ]
    },
    {
      "cell_type": "code",
      "metadata": {
        "id": "N8AHG8FkWkGO",
        "colab_type": "code",
        "outputId": "97b657d8-2530-4598-bc90-ba6f20f3ec89",
        "colab": {
          "base_uri": "https://localhost:8080/",
          "height": 330
        }
      },
      "source": [
        "# your code here\n",
        "subset_b = pd.DataFrame(b[['Score_1', 'Score_3']], columns= b['0':'5'])\n",
        "subset_b"
      ],
      "execution_count": 0,
      "outputs": [
        {
          "output_type": "error",
          "ename": "TypeError",
          "evalue": "ignored",
          "traceback": [
            "\u001b[0;31m---------------------------------------------------------------------------\u001b[0m",
            "\u001b[0;31mTypeError\u001b[0m                                 Traceback (most recent call last)",
            "\u001b[0;32m<ipython-input-29-b975c8887a1d>\u001b[0m in \u001b[0;36m<module>\u001b[0;34m()\u001b[0m\n\u001b[0;32m----> 1\u001b[0;31m \u001b[0msubset_b\u001b[0m \u001b[0;34m=\u001b[0m \u001b[0mpd\u001b[0m\u001b[0;34m.\u001b[0m\u001b[0mDataFrame\u001b[0m\u001b[0;34m(\u001b[0m\u001b[0mb\u001b[0m\u001b[0;34m[\u001b[0m\u001b[0;34m[\u001b[0m\u001b[0;34m'Score_1'\u001b[0m\u001b[0;34m,\u001b[0m \u001b[0;34m'Score_3'\u001b[0m\u001b[0;34m]\u001b[0m\u001b[0;34m]\u001b[0m\u001b[0;34m,\u001b[0m \u001b[0mcolumns\u001b[0m\u001b[0;34m=\u001b[0m \u001b[0mb\u001b[0m\u001b[0;34m[\u001b[0m\u001b[0;34m'0'\u001b[0m\u001b[0;34m:\u001b[0m\u001b[0;34m'5'\u001b[0m\u001b[0;34m]\u001b[0m\u001b[0;34m)\u001b[0m\u001b[0;34m\u001b[0m\u001b[0;34m\u001b[0m\u001b[0m\n\u001b[0m\u001b[1;32m      2\u001b[0m \u001b[0msubset_b\u001b[0m\u001b[0;34m\u001b[0m\u001b[0;34m\u001b[0m\u001b[0m\n",
            "\u001b[0;32m/usr/local/lib/python3.6/dist-packages/pandas/core/frame.py\u001b[0m in \u001b[0;36m__getitem__\u001b[0;34m(self, key)\u001b[0m\n\u001b[1;32m   2974\u001b[0m \u001b[0;34m\u001b[0m\u001b[0m\n\u001b[1;32m   2975\u001b[0m         \u001b[0;31m# Do we have a slicer (on rows)?\u001b[0m\u001b[0;34m\u001b[0m\u001b[0;34m\u001b[0m\u001b[0;34m\u001b[0m\u001b[0m\n\u001b[0;32m-> 2976\u001b[0;31m         \u001b[0mindexer\u001b[0m \u001b[0;34m=\u001b[0m \u001b[0mconvert_to_index_sliceable\u001b[0m\u001b[0;34m(\u001b[0m\u001b[0mself\u001b[0m\u001b[0;34m,\u001b[0m \u001b[0mkey\u001b[0m\u001b[0;34m)\u001b[0m\u001b[0;34m\u001b[0m\u001b[0;34m\u001b[0m\u001b[0m\n\u001b[0m\u001b[1;32m   2977\u001b[0m         \u001b[0;32mif\u001b[0m \u001b[0mindexer\u001b[0m \u001b[0;32mis\u001b[0m \u001b[0;32mnot\u001b[0m \u001b[0;32mNone\u001b[0m\u001b[0;34m:\u001b[0m\u001b[0;34m\u001b[0m\u001b[0;34m\u001b[0m\u001b[0m\n\u001b[1;32m   2978\u001b[0m             \u001b[0;32mreturn\u001b[0m \u001b[0mself\u001b[0m\u001b[0;34m.\u001b[0m\u001b[0m_slice\u001b[0m\u001b[0;34m(\u001b[0m\u001b[0mindexer\u001b[0m\u001b[0;34m,\u001b[0m \u001b[0maxis\u001b[0m\u001b[0;34m=\u001b[0m\u001b[0;36m0\u001b[0m\u001b[0;34m)\u001b[0m\u001b[0;34m\u001b[0m\u001b[0;34m\u001b[0m\u001b[0m\n",
            "\u001b[0;32m/usr/local/lib/python3.6/dist-packages/pandas/core/indexing.py\u001b[0m in \u001b[0;36mconvert_to_index_sliceable\u001b[0;34m(obj, key)\u001b[0m\n\u001b[1;32m   2356\u001b[0m     \u001b[0midx\u001b[0m \u001b[0;34m=\u001b[0m \u001b[0mobj\u001b[0m\u001b[0;34m.\u001b[0m\u001b[0mindex\u001b[0m\u001b[0;34m\u001b[0m\u001b[0;34m\u001b[0m\u001b[0m\n\u001b[1;32m   2357\u001b[0m     \u001b[0;32mif\u001b[0m \u001b[0misinstance\u001b[0m\u001b[0;34m(\u001b[0m\u001b[0mkey\u001b[0m\u001b[0;34m,\u001b[0m \u001b[0mslice\u001b[0m\u001b[0;34m)\u001b[0m\u001b[0;34m:\u001b[0m\u001b[0;34m\u001b[0m\u001b[0;34m\u001b[0m\u001b[0m\n\u001b[0;32m-> 2358\u001b[0;31m         \u001b[0;32mreturn\u001b[0m \u001b[0midx\u001b[0m\u001b[0;34m.\u001b[0m\u001b[0m_convert_slice_indexer\u001b[0m\u001b[0;34m(\u001b[0m\u001b[0mkey\u001b[0m\u001b[0;34m,\u001b[0m \u001b[0mkind\u001b[0m\u001b[0;34m=\u001b[0m\u001b[0;34m\"getitem\"\u001b[0m\u001b[0;34m)\u001b[0m\u001b[0;34m\u001b[0m\u001b[0;34m\u001b[0m\u001b[0m\n\u001b[0m\u001b[1;32m   2359\u001b[0m \u001b[0;34m\u001b[0m\u001b[0m\n\u001b[1;32m   2360\u001b[0m     \u001b[0;32melif\u001b[0m \u001b[0misinstance\u001b[0m\u001b[0;34m(\u001b[0m\u001b[0mkey\u001b[0m\u001b[0;34m,\u001b[0m \u001b[0mstr\u001b[0m\u001b[0;34m)\u001b[0m\u001b[0;34m:\u001b[0m\u001b[0;34m\u001b[0m\u001b[0;34m\u001b[0m\u001b[0m\n",
            "\u001b[0;32m/usr/local/lib/python3.6/dist-packages/pandas/core/indexes/base.py\u001b[0m in \u001b[0;36m_convert_slice_indexer\u001b[0;34m(self, key, kind)\u001b[0m\n\u001b[1;32m   3188\u001b[0m             \u001b[0;32mif\u001b[0m \u001b[0mself\u001b[0m\u001b[0;34m.\u001b[0m\u001b[0mis_integer\u001b[0m\u001b[0;34m(\u001b[0m\u001b[0;34m)\u001b[0m \u001b[0;32mor\u001b[0m \u001b[0mis_index_slice\u001b[0m\u001b[0;34m:\u001b[0m\u001b[0;34m\u001b[0m\u001b[0;34m\u001b[0m\u001b[0m\n\u001b[1;32m   3189\u001b[0m                 return slice(\n\u001b[0;32m-> 3190\u001b[0;31m                     \u001b[0mself\u001b[0m\u001b[0;34m.\u001b[0m\u001b[0m_validate_indexer\u001b[0m\u001b[0;34m(\u001b[0m\u001b[0;34m\"slice\"\u001b[0m\u001b[0;34m,\u001b[0m \u001b[0mkey\u001b[0m\u001b[0;34m.\u001b[0m\u001b[0mstart\u001b[0m\u001b[0;34m,\u001b[0m \u001b[0mkind\u001b[0m\u001b[0;34m)\u001b[0m\u001b[0;34m,\u001b[0m\u001b[0;34m\u001b[0m\u001b[0;34m\u001b[0m\u001b[0m\n\u001b[0m\u001b[1;32m   3191\u001b[0m                     \u001b[0mself\u001b[0m\u001b[0;34m.\u001b[0m\u001b[0m_validate_indexer\u001b[0m\u001b[0;34m(\u001b[0m\u001b[0;34m\"slice\"\u001b[0m\u001b[0;34m,\u001b[0m \u001b[0mkey\u001b[0m\u001b[0;34m.\u001b[0m\u001b[0mstop\u001b[0m\u001b[0;34m,\u001b[0m \u001b[0mkind\u001b[0m\u001b[0;34m)\u001b[0m\u001b[0;34m,\u001b[0m\u001b[0;34m\u001b[0m\u001b[0;34m\u001b[0m\u001b[0m\n\u001b[1;32m   3192\u001b[0m                     \u001b[0mself\u001b[0m\u001b[0;34m.\u001b[0m\u001b[0m_validate_indexer\u001b[0m\u001b[0;34m(\u001b[0m\u001b[0;34m\"slice\"\u001b[0m\u001b[0;34m,\u001b[0m \u001b[0mkey\u001b[0m\u001b[0;34m.\u001b[0m\u001b[0mstep\u001b[0m\u001b[0;34m,\u001b[0m \u001b[0mkind\u001b[0m\u001b[0;34m)\u001b[0m\u001b[0;34m,\u001b[0m\u001b[0;34m\u001b[0m\u001b[0;34m\u001b[0m\u001b[0m\n",
            "\u001b[0;32m/usr/local/lib/python3.6/dist-packages/pandas/core/indexes/base.py\u001b[0m in \u001b[0;36m_validate_indexer\u001b[0;34m(self, form, key, kind)\u001b[0m\n\u001b[1;32m   5069\u001b[0m             \u001b[0;32mpass\u001b[0m\u001b[0;34m\u001b[0m\u001b[0;34m\u001b[0m\u001b[0m\n\u001b[1;32m   5070\u001b[0m         \u001b[0;32melif\u001b[0m \u001b[0mkind\u001b[0m \u001b[0;32min\u001b[0m \u001b[0;34m[\u001b[0m\u001b[0;34m\"iloc\"\u001b[0m\u001b[0;34m,\u001b[0m \u001b[0;34m\"getitem\"\u001b[0m\u001b[0;34m]\u001b[0m\u001b[0;34m:\u001b[0m\u001b[0;34m\u001b[0m\u001b[0;34m\u001b[0m\u001b[0m\n\u001b[0;32m-> 5071\u001b[0;31m             \u001b[0mself\u001b[0m\u001b[0;34m.\u001b[0m\u001b[0m_invalid_indexer\u001b[0m\u001b[0;34m(\u001b[0m\u001b[0mform\u001b[0m\u001b[0;34m,\u001b[0m \u001b[0mkey\u001b[0m\u001b[0;34m)\u001b[0m\u001b[0;34m\u001b[0m\u001b[0;34m\u001b[0m\u001b[0m\n\u001b[0m\u001b[1;32m   5072\u001b[0m         \u001b[0;32mreturn\u001b[0m \u001b[0mkey\u001b[0m\u001b[0;34m\u001b[0m\u001b[0;34m\u001b[0m\u001b[0m\n\u001b[1;32m   5073\u001b[0m \u001b[0;34m\u001b[0m\u001b[0m\n",
            "\u001b[0;32m/usr/local/lib/python3.6/dist-packages/pandas/core/indexes/base.py\u001b[0m in \u001b[0;36m_invalid_indexer\u001b[0;34m(self, form, key)\u001b[0m\n\u001b[1;32m   3338\u001b[0m             \u001b[0;34m\"cannot do {form} indexing on {klass} with these \"\u001b[0m\u001b[0;34m\u001b[0m\u001b[0;34m\u001b[0m\u001b[0m\n\u001b[1;32m   3339\u001b[0m             \"indexers [{key}] of {kind}\".format(\n\u001b[0;32m-> 3340\u001b[0;31m                 \u001b[0mform\u001b[0m\u001b[0;34m=\u001b[0m\u001b[0mform\u001b[0m\u001b[0;34m,\u001b[0m \u001b[0mklass\u001b[0m\u001b[0;34m=\u001b[0m\u001b[0mtype\u001b[0m\u001b[0;34m(\u001b[0m\u001b[0mself\u001b[0m\u001b[0;34m)\u001b[0m\u001b[0;34m,\u001b[0m \u001b[0mkey\u001b[0m\u001b[0;34m=\u001b[0m\u001b[0mkey\u001b[0m\u001b[0;34m,\u001b[0m \u001b[0mkind\u001b[0m\u001b[0;34m=\u001b[0m\u001b[0mtype\u001b[0m\u001b[0;34m(\u001b[0m\u001b[0mkey\u001b[0m\u001b[0;34m)\u001b[0m\u001b[0;34m\u001b[0m\u001b[0;34m\u001b[0m\u001b[0m\n\u001b[0m\u001b[1;32m   3341\u001b[0m             )\n\u001b[1;32m   3342\u001b[0m         )\n",
            "\u001b[0;31mTypeError\u001b[0m: cannot do slice indexing on <class 'pandas.core.indexes.range.RangeIndex'> with these indexers [0] of <class 'str'>"
          ]
        }
      ]
    },
    {
      "cell_type": "markdown",
      "metadata": {
        "id": "y23IG-ayWkGe",
        "colab_type": "text"
      },
      "source": [
        "#### 7. From the original data frame, calculate the average Score_3 value."
      ]
    },
    {
      "cell_type": "code",
      "metadata": {
        "id": "9L3RJV2jWkGj",
        "colab_type": "code",
        "outputId": "48a53bf2-c990-4622-9a44-f5369e553052",
        "colab": {
          "base_uri": "https://localhost:8080/",
          "height": 208
        }
      },
      "source": [
        "# your code here\n",
        "pd.DataFrame(b[['Score_3']]).mean"
      ],
      "execution_count": 0,
      "outputs": [
        {
          "output_type": "execute_result",
          "data": {
            "text/plain": [
              "<bound method DataFrame.mean of    Score_3\n",
              "0     67.5\n",
              "1     30.8\n",
              "2     44.2\n",
              "3     96.1\n",
              "4     85.4\n",
              "5      0.1\n",
              "6     95.0\n",
              "7     53.8\n",
              "8     53.4\n",
              "9     43.2>"
            ]
          },
          "metadata": {
            "tags": []
          },
          "execution_count": 34
        }
      ]
    },
    {
      "cell_type": "markdown",
      "metadata": {
        "id": "59DmOUuMWkGy",
        "colab_type": "text"
      },
      "source": [
        "#### 8. From the original data frame, calculate the maximum Score_4 value."
      ]
    },
    {
      "cell_type": "code",
      "metadata": {
        "id": "kG9ut-n_WkG1",
        "colab_type": "code",
        "outputId": "f44b2031-cf0a-4d3d-ba49-72dd1250ec22",
        "colab": {
          "base_uri": "https://localhost:8080/",
          "height": 52
        }
      },
      "source": [
        "# your code here\n",
        "\n",
        "pd.DataFrame(b[['Score_4']]).max()"
      ],
      "execution_count": 0,
      "outputs": [
        {
          "output_type": "execute_result",
          "data": {
            "text/plain": [
              "Score_4    88.8\n",
              "dtype: float64"
            ]
          },
          "metadata": {
            "tags": []
          },
          "execution_count": 42
        }
      ]
    },
    {
      "cell_type": "markdown",
      "metadata": {
        "id": "79AgUX-VWkHA",
        "colab_type": "text"
      },
      "source": [
        "#### 9. From the original data frame, calculate the median Score 2 value."
      ]
    },
    {
      "cell_type": "code",
      "metadata": {
        "id": "k5vlbcRrWkHF",
        "colab_type": "code",
        "outputId": "9ce2ca34-1535-4c65-ab54-3cb1b943ef19",
        "colab": {
          "base_uri": "https://localhost:8080/",
          "height": 208
        }
      },
      "source": [
        "# your code here\n",
        "pd.DataFrame(b[['Score_2']]).median "
      ],
      "execution_count": 0,
      "outputs": [
        {
          "output_type": "execute_result",
          "data": {
            "text/plain": [
              "<bound method DataFrame.median of    Score_2\n",
              "0     95.0\n",
              "1     40.8\n",
              "2     73.2\n",
              "3      0.1\n",
              "4     20.5\n",
              "5     69.0\n",
              "6     40.7\n",
              "7     26.4\n",
              "8     96.4\n",
              "9     39.0>"
            ]
          },
          "metadata": {
            "tags": []
          },
          "execution_count": 43
        }
      ]
    },
    {
      "cell_type": "markdown",
      "metadata": {
        "id": "JaFg4QjMWkHU",
        "colab_type": "text"
      },
      "source": [
        "#### 10. Create a Pandas DataFrame from the dictionary of product orders below."
      ]
    },
    {
      "cell_type": "code",
      "metadata": {
        "id": "mKjxTxA1WkHX",
        "colab_type": "code",
        "colab": {}
      },
      "source": [
        "orders = {'Description': ['LUNCH BAG APPLE DESIGN',\n",
        "  'SET OF 60 VINTAGE LEAF CAKE CASES ',\n",
        "  'RIBBON REEL STRIPES DESIGN ',\n",
        "  'WORLD WAR 2 GLIDERS ASSTD DESIGNS',\n",
        "  'PLAYING CARDS JUBILEE UNION JACK',\n",
        "  'POPCORN HOLDER',\n",
        "  'BOX OF VINTAGE ALPHABET BLOCKS',\n",
        "  'PARTY BUNTING',\n",
        "  'JAZZ HEARTS ADDRESS BOOK',\n",
        "  'SET OF 4 SANTA PLACE SETTINGS'],\n",
        " 'Quantity': [1, 24, 1, 2880, 2, 7, 1, 4, 10, 48],\n",
        " 'UnitPrice': [1.65, 0.55, 1.65, 0.18, 1.25, 0.85, 11.95, 4.95, 0.19, 1.25],\n",
        " 'Revenue': [1.65, 13.2, 1.65, 518.4, 2.5, 5.95, 11.95, 19.8, 1.9, 60.0]}"
      ],
      "execution_count": 0,
      "outputs": []
    },
    {
      "cell_type": "code",
      "metadata": {
        "id": "VsDFiPDOWkHk",
        "colab_type": "code",
        "outputId": "23f8c0b4-0ccf-4778-afdd-2725143001a2",
        "colab": {
          "base_uri": "https://localhost:8080/",
          "height": 394
        }
      },
      "source": [
        "# your code here\n",
        "df_orders = pd.DataFrame(orders)\n",
        "df_orders = df_orders.set_index('Description')\n",
        "df_orders\n"
      ],
      "execution_count": 0,
      "outputs": [
        {
          "output_type": "execute_result",
          "data": {
            "text/html": [
              "<div>\n",
              "<style scoped>\n",
              "    .dataframe tbody tr th:only-of-type {\n",
              "        vertical-align: middle;\n",
              "    }\n",
              "\n",
              "    .dataframe tbody tr th {\n",
              "        vertical-align: top;\n",
              "    }\n",
              "\n",
              "    .dataframe thead th {\n",
              "        text-align: right;\n",
              "    }\n",
              "</style>\n",
              "<table border=\"1\" class=\"dataframe\">\n",
              "  <thead>\n",
              "    <tr style=\"text-align: right;\">\n",
              "      <th></th>\n",
              "      <th>Quantity</th>\n",
              "      <th>UnitPrice</th>\n",
              "      <th>Revenue</th>\n",
              "    </tr>\n",
              "    <tr>\n",
              "      <th>Description</th>\n",
              "      <th></th>\n",
              "      <th></th>\n",
              "      <th></th>\n",
              "    </tr>\n",
              "  </thead>\n",
              "  <tbody>\n",
              "    <tr>\n",
              "      <th>LUNCH BAG APPLE DESIGN</th>\n",
              "      <td>1</td>\n",
              "      <td>1.65</td>\n",
              "      <td>1.65</td>\n",
              "    </tr>\n",
              "    <tr>\n",
              "      <th>SET OF 60 VINTAGE LEAF CAKE CASES</th>\n",
              "      <td>24</td>\n",
              "      <td>0.55</td>\n",
              "      <td>13.20</td>\n",
              "    </tr>\n",
              "    <tr>\n",
              "      <th>RIBBON REEL STRIPES DESIGN</th>\n",
              "      <td>1</td>\n",
              "      <td>1.65</td>\n",
              "      <td>1.65</td>\n",
              "    </tr>\n",
              "    <tr>\n",
              "      <th>WORLD WAR 2 GLIDERS ASSTD DESIGNS</th>\n",
              "      <td>2880</td>\n",
              "      <td>0.18</td>\n",
              "      <td>518.40</td>\n",
              "    </tr>\n",
              "    <tr>\n",
              "      <th>PLAYING CARDS JUBILEE UNION JACK</th>\n",
              "      <td>2</td>\n",
              "      <td>1.25</td>\n",
              "      <td>2.50</td>\n",
              "    </tr>\n",
              "    <tr>\n",
              "      <th>POPCORN HOLDER</th>\n",
              "      <td>7</td>\n",
              "      <td>0.85</td>\n",
              "      <td>5.95</td>\n",
              "    </tr>\n",
              "    <tr>\n",
              "      <th>BOX OF VINTAGE ALPHABET BLOCKS</th>\n",
              "      <td>1</td>\n",
              "      <td>11.95</td>\n",
              "      <td>11.95</td>\n",
              "    </tr>\n",
              "    <tr>\n",
              "      <th>PARTY BUNTING</th>\n",
              "      <td>4</td>\n",
              "      <td>4.95</td>\n",
              "      <td>19.80</td>\n",
              "    </tr>\n",
              "    <tr>\n",
              "      <th>JAZZ HEARTS ADDRESS BOOK</th>\n",
              "      <td>10</td>\n",
              "      <td>0.19</td>\n",
              "      <td>1.90</td>\n",
              "    </tr>\n",
              "    <tr>\n",
              "      <th>SET OF 4 SANTA PLACE SETTINGS</th>\n",
              "      <td>48</td>\n",
              "      <td>1.25</td>\n",
              "      <td>60.00</td>\n",
              "    </tr>\n",
              "  </tbody>\n",
              "</table>\n",
              "</div>"
            ],
            "text/plain": [
              "                                    Quantity  UnitPrice  Revenue\n",
              "Description                                                     \n",
              "LUNCH BAG APPLE DESIGN                     1       1.65     1.65\n",
              "SET OF 60 VINTAGE LEAF CAKE CASES         24       0.55    13.20\n",
              "RIBBON REEL STRIPES DESIGN                 1       1.65     1.65\n",
              "WORLD WAR 2 GLIDERS ASSTD DESIGNS       2880       0.18   518.40\n",
              "PLAYING CARDS JUBILEE UNION JACK           2       1.25     2.50\n",
              "POPCORN HOLDER                             7       0.85     5.95\n",
              "BOX OF VINTAGE ALPHABET BLOCKS             1      11.95    11.95\n",
              "PARTY BUNTING                              4       4.95    19.80\n",
              "JAZZ HEARTS ADDRESS BOOK                  10       0.19     1.90\n",
              "SET OF 4 SANTA PLACE SETTINGS             48       1.25    60.00"
            ]
          },
          "metadata": {
            "tags": []
          },
          "execution_count": 54
        }
      ]
    },
    {
      "cell_type": "markdown",
      "metadata": {
        "id": "m8USjaOgWkHt",
        "colab_type": "text"
      },
      "source": [
        "#### 11. Calculate the total quantity ordered and revenue generated from these orders."
      ]
    },
    {
      "cell_type": "code",
      "metadata": {
        "id": "6h8VNLA9WkHw",
        "colab_type": "code",
        "colab": {
          "base_uri": "https://localhost:8080/",
          "height": 225
        },
        "outputId": "a83d481c-2fb1-4ec5-9d12-deca3225c050"
      },
      "source": [
        "# your code here\n",
        "pd.DataFrame(df_orders[['Quantity','Revenue']]).sum"
      ],
      "execution_count": 55,
      "outputs": [
        {
          "output_type": "execute_result",
          "data": {
            "text/plain": [
              "<bound method DataFrame.sum of                                     Quantity  Revenue\n",
              "Description                                          \n",
              "LUNCH BAG APPLE DESIGN                     1     1.65\n",
              "SET OF 60 VINTAGE LEAF CAKE CASES         24    13.20\n",
              "RIBBON REEL STRIPES DESIGN                 1     1.65\n",
              "WORLD WAR 2 GLIDERS ASSTD DESIGNS       2880   518.40\n",
              "PLAYING CARDS JUBILEE UNION JACK           2     2.50\n",
              "POPCORN HOLDER                             7     5.95\n",
              "BOX OF VINTAGE ALPHABET BLOCKS             1    11.95\n",
              "PARTY BUNTING                              4    19.80\n",
              "JAZZ HEARTS ADDRESS BOOK                  10     1.90\n",
              "SET OF 4 SANTA PLACE SETTINGS             48    60.00>"
            ]
          },
          "metadata": {
            "tags": []
          },
          "execution_count": 55
        }
      ]
    },
    {
      "cell_type": "markdown",
      "metadata": {
        "id": "Ijz84WuJWkH7",
        "colab_type": "text"
      },
      "source": [
        "#### 12. Obtain the prices of the most expensive and least expensive items ordered and print the difference."
      ]
    },
    {
      "cell_type": "code",
      "metadata": {
        "id": "EJwWpKGKWkH9",
        "colab_type": "code",
        "colab": {}
      },
      "source": [
        "# your code here\n",
        "pd.DataFrame(df_orders['UnitPrice']).max\n",
        "pd.DataFrame(df_orders['UnitPrice']).min"
      ],
      "execution_count": 0,
      "outputs": []
    },
    {
      "cell_type": "markdown",
      "metadata": {
        "id": "_gDz20vvWkII",
        "colab_type": "text"
      },
      "source": [
        "# BONUS"
      ]
    },
    {
      "cell_type": "markdown",
      "metadata": {
        "id": "wcUhshVkWkIK",
        "colab_type": "text"
      },
      "source": [
        "#### 1 Create a random dataframe containing 3 columns and 10 rows. \n",
        "\n",
        "*Hint: You'll have to use a `numpy.random` method to create random observations*"
      ]
    },
    {
      "cell_type": "code",
      "metadata": {
        "id": "UgsjdvXnWkIO",
        "colab_type": "code",
        "colab": {}
      },
      "source": [
        "# your code here"
      ],
      "execution_count": 0,
      "outputs": []
    },
    {
      "cell_type": "markdown",
      "metadata": {
        "id": "KwFBv4arWkIc",
        "colab_type": "text"
      },
      "source": [
        "#### 2 Create a random dataframe containing 3 columns and 10 rows with specific column names. \n",
        "\n",
        "Use `['column1', 'column2', 'column3']` as the column names."
      ]
    },
    {
      "cell_type": "code",
      "metadata": {
        "id": "KnoMbOoFWkIf",
        "colab_type": "code",
        "colab": {}
      },
      "source": [
        "# your code here"
      ],
      "execution_count": 0,
      "outputs": []
    },
    {
      "cell_type": "markdown",
      "metadata": {
        "id": "7mggBPu4WkIq",
        "colab_type": "text"
      },
      "source": [
        "#### 3 Create a random dataframe containing N columns and M rows with specific column names.\n",
        "\n",
        "For this task you'll have to name the columns as `['column1', 'column2', 'column3', ...,'columnN']`. You can use a list comprehension to do that."
      ]
    },
    {
      "cell_type": "code",
      "metadata": {
        "id": "pZWGwDKZWkIt",
        "colab_type": "code",
        "colab": {}
      },
      "source": [
        "N = 10\n",
        "M = 30\n",
        "\n",
        "# your code here"
      ],
      "execution_count": 0,
      "outputs": []
    }
  ]
}