{
  "nbformat": 4,
  "nbformat_minor": 0,
  "metadata": {
    "kernelspec": {
      "display_name": "Python 3",
      "language": "python",
      "name": "python3"
    },
    "language_info": {
      "codemirror_mode": {
        "name": "ipython",
        "version": 3
      },
      "file_extension": ".py",
      "mimetype": "text/x-python",
      "name": "python",
      "nbconvert_exporter": "python",
      "pygments_lexer": "ipython3",
      "version": "3.7.3"
    },
    "toc": {
      "base_numbering": 1,
      "nav_menu": {},
      "number_sections": true,
      "sideBar": true,
      "skip_h1_title": false,
      "title_cell": "Table of Contents",
      "title_sidebar": "Contents",
      "toc_cell": false,
      "toc_position": {},
      "toc_section_display": true,
      "toc_window_display": false
    },
    "colab": {
      "name": "lab-data-manipulation-part1-and-part2.ipynb",
      "provenance": [],
      "include_colab_link": true
    }
  },
  "cells": [
    {
      "cell_type": "markdown",
      "metadata": {
        "id": "view-in-github",
        "colab_type": "text"
      },
      "source": [
        "<a href=\"https://colab.research.google.com/github/carolvieirav/Labs/blob/master/lab_data_manipulation_part1_and_part2.ipynb\" target=\"_parent\"><img src=\"https://colab.research.google.com/assets/colab-badge.svg\" alt=\"Open In Colab\"/></a>"
      ]
    },
    {
      "cell_type": "markdown",
      "metadata": {
        "id": "bWHFDbJXmeRd",
        "colab_type": "text"
      },
      "source": [
        "# Lab-Data-Manipulation (PART-1)"
      ]
    },
    {
      "cell_type": "code",
      "metadata": {
        "id": "nOIejjummeRl",
        "colab_type": "code",
        "colab": {}
      },
      "source": [
        "import pandas as pd"
      ],
      "execution_count": 0,
      "outputs": []
    },
    {
      "cell_type": "markdown",
      "metadata": {
        "id": "-zbVdbr6meR8",
        "colab_type": "text"
      },
      "source": [
        "# Context \n",
        "\n",
        "For this lab you'll use a dataset for UFO observations. The objective is to exercise the manipulation of a dataframe, so we'll use the tools we've learned about `reading`, `renaming`, `selecting specific columns`, `filtering based on conditions` and `merging` dataframes to try to better understand our dataset and store an enriched version of our dataset at the end.\n",
        "\n",
        "Good Luck."
      ]
    },
    {
      "cell_type": "markdown",
      "metadata": {
        "id": "J3UjjXwhmeSA",
        "colab_type": "text"
      },
      "source": [
        "variable\t|class|\tdescription\n",
        "------------|-----|-------------\n",
        "date_time\t|datetime (mdy h:m)\t| Date time sighting occurred\n",
        "city_area\t|character\t        | City or area of sighting\n",
        "state\t    |character          |\tstate/region of sighting\n",
        "country\t    |character          |\tCountry of sighting\n",
        "ufo_shape\t|character          |\tUFO Shape\n",
        "encounter_length\t|double     |\tEncounter length in seconds\n",
        "described_encounter_length\t|character |\tEncounter length as described (eg 1 hour, etc)\n",
        "description\t|character          |\tDescription of encounter\n",
        "date_documented\t|character      |\tDate documented\n",
        "latitude\t|double             |\tLatitude\n",
        "longitude\t|double             |\tLongitude"
      ]
    },
    {
      "cell_type": "markdown",
      "metadata": {
        "id": "P8M1eZERmeSD",
        "colab_type": "text"
      },
      "source": [
        "## Read the dataset and store it in a dataframe called `ufo`\n",
        "\n",
        "Pay attention at the file separator."
      ]
    },
    {
      "cell_type": "code",
      "metadata": {
        "scrolled": true,
        "id": "9b8JO5r6meSI",
        "colab_type": "code",
        "colab": {}
      },
      "source": [
        "ufo = pd.read_csv('/content/ufo.csv', sep=';')"
      ],
      "execution_count": 0,
      "outputs": []
    },
    {
      "cell_type": "markdown",
      "metadata": {
        "id": "10IH3cNvmeSS",
        "colab_type": "text"
      },
      "source": [
        "## Check the first 6 columns of the dataframe"
      ]
    },
    {
      "cell_type": "code",
      "metadata": {
        "scrolled": true,
        "id": "fNxryw5AmeSX",
        "colab_type": "code",
        "colab": {
          "base_uri": "https://localhost:8080/",
          "height": 640
        },
        "outputId": "3619aa5d-e892-489f-f0e4-d1674adf722e"
      },
      "source": [
        "ufo.head(6)"
      ],
      "execution_count": 44,
      "outputs": [
        {
          "output_type": "execute_result",
          "data": {
            "text/html": [
              "<div>\n",
              "<style scoped>\n",
              "    .dataframe tbody tr th:only-of-type {\n",
              "        vertical-align: middle;\n",
              "    }\n",
              "\n",
              "    .dataframe tbody tr th {\n",
              "        vertical-align: top;\n",
              "    }\n",
              "\n",
              "    .dataframe thead th {\n",
              "        text-align: right;\n",
              "    }\n",
              "</style>\n",
              "<table border=\"1\" class=\"dataframe\">\n",
              "  <thead>\n",
              "    <tr style=\"text-align: right;\">\n",
              "      <th></th>\n",
              "      <th>Unnamed: 0</th>\n",
              "      <th>date</th>\n",
              "      <th>year</th>\n",
              "      <th>month</th>\n",
              "      <th>day</th>\n",
              "      <th>date_time</th>\n",
              "      <th>city_area</th>\n",
              "      <th>state</th>\n",
              "      <th>country</th>\n",
              "      <th>ufo_shape</th>\n",
              "      <th>encounter_length</th>\n",
              "      <th>described_encounter_length</th>\n",
              "      <th>description</th>\n",
              "      <th>date_documented</th>\n",
              "      <th>latitude</th>\n",
              "      <th>longitude</th>\n",
              "    </tr>\n",
              "  </thead>\n",
              "  <tbody>\n",
              "    <tr>\n",
              "      <th>0</th>\n",
              "      <td>0</td>\n",
              "      <td>1949-10-10</td>\n",
              "      <td>1949</td>\n",
              "      <td>10</td>\n",
              "      <td>10</td>\n",
              "      <td>10/10/1949 20:30</td>\n",
              "      <td>san marcos</td>\n",
              "      <td>tx</td>\n",
              "      <td>us</td>\n",
              "      <td>cylinder</td>\n",
              "      <td>2700.0</td>\n",
              "      <td>45 minutes</td>\n",
              "      <td>This event took place in early fall around 194...</td>\n",
              "      <td>4/27/2004</td>\n",
              "      <td>29.883056</td>\n",
              "      <td>-97.941111</td>\n",
              "    </tr>\n",
              "    <tr>\n",
              "      <th>1</th>\n",
              "      <td>1</td>\n",
              "      <td>1949-10-10</td>\n",
              "      <td>1949</td>\n",
              "      <td>10</td>\n",
              "      <td>10</td>\n",
              "      <td>10/10/1949 21:00</td>\n",
              "      <td>lackland afb</td>\n",
              "      <td>tx</td>\n",
              "      <td>NaN</td>\n",
              "      <td>light</td>\n",
              "      <td>7200.0</td>\n",
              "      <td>1-2 hrs</td>\n",
              "      <td>1949 Lackland AFB&amp;#44 TX.  Lights racing acros...</td>\n",
              "      <td>12/16/2005</td>\n",
              "      <td>29.384210</td>\n",
              "      <td>-98.581082</td>\n",
              "    </tr>\n",
              "    <tr>\n",
              "      <th>2</th>\n",
              "      <td>2</td>\n",
              "      <td>1955-10-10</td>\n",
              "      <td>1955</td>\n",
              "      <td>10</td>\n",
              "      <td>10</td>\n",
              "      <td>10/10/1955 17:00</td>\n",
              "      <td>chester (uk/england)</td>\n",
              "      <td>NaN</td>\n",
              "      <td>gb</td>\n",
              "      <td>circle</td>\n",
              "      <td>20.0</td>\n",
              "      <td>20 seconds</td>\n",
              "      <td>Green/Orange circular disc over Chester&amp;#44 En...</td>\n",
              "      <td>1/21/2008</td>\n",
              "      <td>53.200000</td>\n",
              "      <td>-2.916667</td>\n",
              "    </tr>\n",
              "    <tr>\n",
              "      <th>3</th>\n",
              "      <td>3</td>\n",
              "      <td>1956-10-10</td>\n",
              "      <td>1956</td>\n",
              "      <td>10</td>\n",
              "      <td>10</td>\n",
              "      <td>10/10/1956 21:00</td>\n",
              "      <td>edna</td>\n",
              "      <td>tx</td>\n",
              "      <td>us</td>\n",
              "      <td>circle</td>\n",
              "      <td>20.0</td>\n",
              "      <td>1/2 hour</td>\n",
              "      <td>My older brother and twin sister were leaving ...</td>\n",
              "      <td>1/17/2004</td>\n",
              "      <td>28.978333</td>\n",
              "      <td>-96.645833</td>\n",
              "    </tr>\n",
              "    <tr>\n",
              "      <th>4</th>\n",
              "      <td>4</td>\n",
              "      <td>1960-10-10</td>\n",
              "      <td>1960</td>\n",
              "      <td>10</td>\n",
              "      <td>10</td>\n",
              "      <td>10/10/1960 20:00</td>\n",
              "      <td>kaneohe</td>\n",
              "      <td>hi</td>\n",
              "      <td>us</td>\n",
              "      <td>light</td>\n",
              "      <td>900.0</td>\n",
              "      <td>15 minutes</td>\n",
              "      <td>AS a Marine 1st Lt. flying an FJ4B fighter/att...</td>\n",
              "      <td>1/22/2004</td>\n",
              "      <td>21.418056</td>\n",
              "      <td>-157.803611</td>\n",
              "    </tr>\n",
              "    <tr>\n",
              "      <th>5</th>\n",
              "      <td>5</td>\n",
              "      <td>1961-10-10</td>\n",
              "      <td>1961</td>\n",
              "      <td>10</td>\n",
              "      <td>10</td>\n",
              "      <td>10/10/1961 19:00</td>\n",
              "      <td>bristol</td>\n",
              "      <td>tn</td>\n",
              "      <td>us</td>\n",
              "      <td>sphere</td>\n",
              "      <td>300.0</td>\n",
              "      <td>5 minutes</td>\n",
              "      <td>My father is now 89 my brother 52 the girl wit...</td>\n",
              "      <td>4/27/2007</td>\n",
              "      <td>36.595000</td>\n",
              "      <td>-82.188889</td>\n",
              "    </tr>\n",
              "  </tbody>\n",
              "</table>\n",
              "</div>"
            ],
            "text/plain": [
              "   Unnamed: 0        date  year  ...  date_documented   latitude   longitude\n",
              "0           0  1949-10-10  1949  ...        4/27/2004  29.883056  -97.941111\n",
              "1           1  1949-10-10  1949  ...       12/16/2005  29.384210  -98.581082\n",
              "2           2  1955-10-10  1955  ...        1/21/2008  53.200000   -2.916667\n",
              "3           3  1956-10-10  1956  ...        1/17/2004  28.978333  -96.645833\n",
              "4           4  1960-10-10  1960  ...        1/22/2004  21.418056 -157.803611\n",
              "5           5  1961-10-10  1961  ...        4/27/2007  36.595000  -82.188889\n",
              "\n",
              "[6 rows x 16 columns]"
            ]
          },
          "metadata": {
            "tags": []
          },
          "execution_count": 44
        }
      ]
    },
    {
      "cell_type": "markdown",
      "metadata": {
        "id": "nou8d4G7meSh",
        "colab_type": "text"
      },
      "source": [
        "## Check the shape of your dataframe to see how many rows and columns it has"
      ]
    },
    {
      "cell_type": "code",
      "metadata": {
        "id": "tSc7z6UQmeSl",
        "colab_type": "code",
        "colab": {
          "base_uri": "https://localhost:8080/",
          "height": 34
        },
        "outputId": "f8d497e9-b1e0-4180-b86a-915519ea0952"
      },
      "source": [
        "ufo.shape"
      ],
      "execution_count": 45,
      "outputs": [
        {
          "output_type": "execute_result",
          "data": {
            "text/plain": [
              "(80332, 16)"
            ]
          },
          "metadata": {
            "tags": []
          },
          "execution_count": 45
        }
      ]
    },
    {
      "cell_type": "markdown",
      "metadata": {
        "id": "M6dq0Wq4meSy",
        "colab_type": "text"
      },
      "source": [
        "## Bring the date information to the beginning of the dataframe\n",
        "\n",
        "If you check the dataframe columns, there are some information of the date at the end of the dataframe. For this task, you should reorder the columns in a way that the first few columns all show the date information. \n",
        "\n",
        "*Hint: Use the ufo.columns to see all the column names you have."
      ]
    },
    {
      "cell_type": "code",
      "metadata": {
        "id": "EeVzV5CNmeS1",
        "colab_type": "code",
        "colab": {}
      },
      "source": [
        "ufo_columns = ['Unnamed: 0', 'date', 'year', 'month', 'day', 'date_time', 'date_documented', 'city_area',\n",
        "       'state', 'country', 'ufo_shape', 'encounter_length',\n",
        "       'described_encounter_length', 'description',\n",
        "       'latitude', 'longitude']\n",
        "\n",
        "\n",
        "ufo = ufo[ufo_columns]"
      ],
      "execution_count": 0,
      "outputs": []
    },
    {
      "cell_type": "code",
      "metadata": {
        "id": "jicNIdmJmeS9",
        "colab_type": "code",
        "colab": {}
      },
      "source": [
        ""
      ],
      "execution_count": 0,
      "outputs": []
    },
    {
      "cell_type": "markdown",
      "metadata": {
        "id": "b87WLeSqmeTH",
        "colab_type": "text"
      },
      "source": [
        "## Just check if you did it the right way. Take a look at the head of the dataframe again and see if the `ufo` dataframe now is reordered."
      ]
    },
    {
      "cell_type": "code",
      "metadata": {
        "scrolled": true,
        "id": "spjallVAmeTL",
        "colab_type": "code",
        "colab": {
          "base_uri": "https://localhost:8080/",
          "height": 556
        },
        "outputId": "76df7086-91fe-4f2a-d300-3775588c27b7"
      },
      "source": [
        "ufo.head()"
      ],
      "execution_count": 56,
      "outputs": [
        {
          "output_type": "execute_result",
          "data": {
            "text/html": [
              "<div>\n",
              "<style scoped>\n",
              "    .dataframe tbody tr th:only-of-type {\n",
              "        vertical-align: middle;\n",
              "    }\n",
              "\n",
              "    .dataframe tbody tr th {\n",
              "        vertical-align: top;\n",
              "    }\n",
              "\n",
              "    .dataframe thead th {\n",
              "        text-align: right;\n",
              "    }\n",
              "</style>\n",
              "<table border=\"1\" class=\"dataframe\">\n",
              "  <thead>\n",
              "    <tr style=\"text-align: right;\">\n",
              "      <th></th>\n",
              "      <th>Unnamed: 0</th>\n",
              "      <th>date</th>\n",
              "      <th>year</th>\n",
              "      <th>month</th>\n",
              "      <th>day</th>\n",
              "      <th>date_time</th>\n",
              "      <th>date_documented</th>\n",
              "      <th>city_area</th>\n",
              "      <th>state</th>\n",
              "      <th>country</th>\n",
              "      <th>ufo_shape</th>\n",
              "      <th>encounter_length</th>\n",
              "      <th>described_encounter_length</th>\n",
              "      <th>description</th>\n",
              "      <th>latitude</th>\n",
              "      <th>longitude</th>\n",
              "    </tr>\n",
              "  </thead>\n",
              "  <tbody>\n",
              "    <tr>\n",
              "      <th>0</th>\n",
              "      <td>0</td>\n",
              "      <td>1949-10-10</td>\n",
              "      <td>1949</td>\n",
              "      <td>10</td>\n",
              "      <td>10</td>\n",
              "      <td>10/10/1949 20:30</td>\n",
              "      <td>4/27/2004</td>\n",
              "      <td>san marcos</td>\n",
              "      <td>tx</td>\n",
              "      <td>us</td>\n",
              "      <td>cylinder</td>\n",
              "      <td>2700.0</td>\n",
              "      <td>45 minutes</td>\n",
              "      <td>This event took place in early fall around 194...</td>\n",
              "      <td>29.883056</td>\n",
              "      <td>-97.941111</td>\n",
              "    </tr>\n",
              "    <tr>\n",
              "      <th>1</th>\n",
              "      <td>1</td>\n",
              "      <td>1949-10-10</td>\n",
              "      <td>1949</td>\n",
              "      <td>10</td>\n",
              "      <td>10</td>\n",
              "      <td>10/10/1949 21:00</td>\n",
              "      <td>12/16/2005</td>\n",
              "      <td>lackland afb</td>\n",
              "      <td>tx</td>\n",
              "      <td>NaN</td>\n",
              "      <td>light</td>\n",
              "      <td>7200.0</td>\n",
              "      <td>1-2 hrs</td>\n",
              "      <td>1949 Lackland AFB&amp;#44 TX.  Lights racing acros...</td>\n",
              "      <td>29.384210</td>\n",
              "      <td>-98.581082</td>\n",
              "    </tr>\n",
              "    <tr>\n",
              "      <th>2</th>\n",
              "      <td>2</td>\n",
              "      <td>1955-10-10</td>\n",
              "      <td>1955</td>\n",
              "      <td>10</td>\n",
              "      <td>10</td>\n",
              "      <td>10/10/1955 17:00</td>\n",
              "      <td>1/21/2008</td>\n",
              "      <td>chester (uk/england)</td>\n",
              "      <td>NaN</td>\n",
              "      <td>gb</td>\n",
              "      <td>circle</td>\n",
              "      <td>20.0</td>\n",
              "      <td>20 seconds</td>\n",
              "      <td>Green/Orange circular disc over Chester&amp;#44 En...</td>\n",
              "      <td>53.200000</td>\n",
              "      <td>-2.916667</td>\n",
              "    </tr>\n",
              "    <tr>\n",
              "      <th>3</th>\n",
              "      <td>3</td>\n",
              "      <td>1956-10-10</td>\n",
              "      <td>1956</td>\n",
              "      <td>10</td>\n",
              "      <td>10</td>\n",
              "      <td>10/10/1956 21:00</td>\n",
              "      <td>1/17/2004</td>\n",
              "      <td>edna</td>\n",
              "      <td>tx</td>\n",
              "      <td>us</td>\n",
              "      <td>circle</td>\n",
              "      <td>20.0</td>\n",
              "      <td>1/2 hour</td>\n",
              "      <td>My older brother and twin sister were leaving ...</td>\n",
              "      <td>28.978333</td>\n",
              "      <td>-96.645833</td>\n",
              "    </tr>\n",
              "    <tr>\n",
              "      <th>4</th>\n",
              "      <td>4</td>\n",
              "      <td>1960-10-10</td>\n",
              "      <td>1960</td>\n",
              "      <td>10</td>\n",
              "      <td>10</td>\n",
              "      <td>10/10/1960 20:00</td>\n",
              "      <td>1/22/2004</td>\n",
              "      <td>kaneohe</td>\n",
              "      <td>hi</td>\n",
              "      <td>us</td>\n",
              "      <td>light</td>\n",
              "      <td>900.0</td>\n",
              "      <td>15 minutes</td>\n",
              "      <td>AS a Marine 1st Lt. flying an FJ4B fighter/att...</td>\n",
              "      <td>21.418056</td>\n",
              "      <td>-157.803611</td>\n",
              "    </tr>\n",
              "  </tbody>\n",
              "</table>\n",
              "</div>"
            ],
            "text/plain": [
              "   Unnamed: 0        date  ...   latitude   longitude\n",
              "0           0  1949-10-10  ...  29.883056  -97.941111\n",
              "1           1  1949-10-10  ...  29.384210  -98.581082\n",
              "2           2  1955-10-10  ...  53.200000   -2.916667\n",
              "3           3  1956-10-10  ...  28.978333  -96.645833\n",
              "4           4  1960-10-10  ...  21.418056 -157.803611\n",
              "\n",
              "[5 rows x 16 columns]"
            ]
          },
          "metadata": {
            "tags": []
          },
          "execution_count": 56
        }
      ]
    },
    {
      "cell_type": "markdown",
      "metadata": {
        "id": "Nf-SGL-DmeTS",
        "colab_type": "text"
      },
      "source": [
        "## Select a piece of your dataframe. Create a new dataframe called `ufo_vars` and select only the following columns of the `ufo` dataframe. \n",
        "\n",
        "`year`, `month`, `state`, `country`, `ufo_shape`, `encounter_length`"
      ]
    },
    {
      "cell_type": "code",
      "metadata": {
        "id": "MMUEeAjPmeTV",
        "colab_type": "code",
        "colab": {}
      },
      "source": [
        "vars_columns = 'year', 'month', 'state', 'country', 'ufo_shape', 'encounter_length'\n",
        "ufo_vars = ufo.loc[:, vars_columns]"
      ],
      "execution_count": 0,
      "outputs": []
    },
    {
      "cell_type": "markdown",
      "metadata": {
        "id": "TfrrcessmeTe",
        "colab_type": "text"
      },
      "source": [
        "Perform a *.head()* on your result to check if you did it right."
      ]
    },
    {
      "cell_type": "code",
      "metadata": {
        "id": "hhE2Z118meTk",
        "colab_type": "code",
        "colab": {
          "base_uri": "https://localhost:8080/",
          "height": 206
        },
        "outputId": "bb4a0512-e68e-4afc-ad50-bc6e96f573fd"
      },
      "source": [
        "ufo_vars.head()"
      ],
      "execution_count": 68,
      "outputs": [
        {
          "output_type": "execute_result",
          "data": {
            "text/html": [
              "<div>\n",
              "<style scoped>\n",
              "    .dataframe tbody tr th:only-of-type {\n",
              "        vertical-align: middle;\n",
              "    }\n",
              "\n",
              "    .dataframe tbody tr th {\n",
              "        vertical-align: top;\n",
              "    }\n",
              "\n",
              "    .dataframe thead th {\n",
              "        text-align: right;\n",
              "    }\n",
              "</style>\n",
              "<table border=\"1\" class=\"dataframe\">\n",
              "  <thead>\n",
              "    <tr style=\"text-align: right;\">\n",
              "      <th></th>\n",
              "      <th>year</th>\n",
              "      <th>month</th>\n",
              "      <th>state</th>\n",
              "      <th>country</th>\n",
              "      <th>ufo_shape</th>\n",
              "      <th>encounter_length</th>\n",
              "    </tr>\n",
              "  </thead>\n",
              "  <tbody>\n",
              "    <tr>\n",
              "      <th>0</th>\n",
              "      <td>1949</td>\n",
              "      <td>10</td>\n",
              "      <td>tx</td>\n",
              "      <td>us</td>\n",
              "      <td>cylinder</td>\n",
              "      <td>2700.0</td>\n",
              "    </tr>\n",
              "    <tr>\n",
              "      <th>1</th>\n",
              "      <td>1949</td>\n",
              "      <td>10</td>\n",
              "      <td>tx</td>\n",
              "      <td>NaN</td>\n",
              "      <td>light</td>\n",
              "      <td>7200.0</td>\n",
              "    </tr>\n",
              "    <tr>\n",
              "      <th>2</th>\n",
              "      <td>1955</td>\n",
              "      <td>10</td>\n",
              "      <td>NaN</td>\n",
              "      <td>gb</td>\n",
              "      <td>circle</td>\n",
              "      <td>20.0</td>\n",
              "    </tr>\n",
              "    <tr>\n",
              "      <th>3</th>\n",
              "      <td>1956</td>\n",
              "      <td>10</td>\n",
              "      <td>tx</td>\n",
              "      <td>us</td>\n",
              "      <td>circle</td>\n",
              "      <td>20.0</td>\n",
              "    </tr>\n",
              "    <tr>\n",
              "      <th>4</th>\n",
              "      <td>1960</td>\n",
              "      <td>10</td>\n",
              "      <td>hi</td>\n",
              "      <td>us</td>\n",
              "      <td>light</td>\n",
              "      <td>900.0</td>\n",
              "    </tr>\n",
              "  </tbody>\n",
              "</table>\n",
              "</div>"
            ],
            "text/plain": [
              "   year  month state country ufo_shape  encounter_length\n",
              "0  1949     10    tx      us  cylinder            2700.0\n",
              "1  1949     10    tx     NaN     light            7200.0\n",
              "2  1955     10   NaN      gb    circle              20.0\n",
              "3  1956     10    tx      us    circle              20.0\n",
              "4  1960     10    hi      us     light             900.0"
            ]
          },
          "metadata": {
            "tags": []
          },
          "execution_count": 68
        }
      ]
    },
    {
      "cell_type": "markdown",
      "metadata": {
        "id": "wfN1tV27meTt",
        "colab_type": "text"
      },
      "source": [
        "## Rename the variable `encounter_length` to `encounter_seconds`. Keep using the `ufo_vars` dataset for the following tasks, unless specifically specified.\n",
        "\n",
        "Again, check your results to check if you did it right."
      ]
    },
    {
      "cell_type": "code",
      "metadata": {
        "id": "lAQJndqHmeTw",
        "colab_type": "code",
        "colab": {}
      },
      "source": [
        "ufo.rename({'enconter_lenght':'encounter_seconds'}, axis=1, inplace=True)"
      ],
      "execution_count": 0,
      "outputs": []
    },
    {
      "cell_type": "markdown",
      "metadata": {
        "id": "F9COxuDemeT6",
        "colab_type": "text"
      },
      "source": [
        "## Let's start filtering some records. Create a new dataframe called `ufo_us` and filter the `ufo_vars` dataframe bringing only the results in which the `country` is `\"us\"`"
      ]
    },
    {
      "cell_type": "markdown",
      "metadata": {
        "id": "eXeuw6I8meT9",
        "colab_type": "text"
      },
      "source": [
        "### Use a mask to perform this task \n",
        "\n",
        "A `mask` is nothing more than a condition. This condition is applied to your whole dataframe (or pandas Series).\n",
        "So for example, if you had a pandas Series with a variable called `Age`, you could create a mask for all people whose `Age` is less than 18 years old using the syntax:\n",
        "\n",
        "`df['Age'] <= 18`\n",
        "\n",
        "This would return a pandas series containing `True` and `False` values. For each index, you'd get a value of `True` or `False`.\n",
        "\n",
        "You could save this mask in a variable, for example:\n",
        "\n",
        "`condition = (df['Age'] <= 18)`\n",
        "\n",
        "And then you could use that variable `condition` to select only the cases of the dataframe in which the index returned `True` using:\n",
        "df[condition]."
      ]
    },
    {
      "cell_type": "code",
      "metadata": {
        "id": "7fEgmPLcmeUA",
        "colab_type": "code",
        "colab": {
          "base_uri": "https://localhost:8080/",
          "height": 424
        },
        "outputId": "cc5e29a1-c798-43ff-9e17-5fa3ae4c9972"
      },
      "source": [
        "cond = (ufo_vars['country'] == 'us')\n",
        "ufo_us = ufo_vars[cond]\n",
        "ufo_us"
      ],
      "execution_count": 112,
      "outputs": [
        {
          "output_type": "execute_result",
          "data": {
            "text/html": [
              "<div>\n",
              "<style scoped>\n",
              "    .dataframe tbody tr th:only-of-type {\n",
              "        vertical-align: middle;\n",
              "    }\n",
              "\n",
              "    .dataframe tbody tr th {\n",
              "        vertical-align: top;\n",
              "    }\n",
              "\n",
              "    .dataframe thead th {\n",
              "        text-align: right;\n",
              "    }\n",
              "</style>\n",
              "<table border=\"1\" class=\"dataframe\">\n",
              "  <thead>\n",
              "    <tr style=\"text-align: right;\">\n",
              "      <th></th>\n",
              "      <th>year</th>\n",
              "      <th>month</th>\n",
              "      <th>state</th>\n",
              "      <th>country</th>\n",
              "      <th>ufo_shape</th>\n",
              "      <th>encounter_length</th>\n",
              "    </tr>\n",
              "  </thead>\n",
              "  <tbody>\n",
              "    <tr>\n",
              "      <th>0</th>\n",
              "      <td>1949</td>\n",
              "      <td>10</td>\n",
              "      <td>tx</td>\n",
              "      <td>us</td>\n",
              "      <td>cylinder</td>\n",
              "      <td>2700.0</td>\n",
              "    </tr>\n",
              "    <tr>\n",
              "      <th>3</th>\n",
              "      <td>1956</td>\n",
              "      <td>10</td>\n",
              "      <td>tx</td>\n",
              "      <td>us</td>\n",
              "      <td>circle</td>\n",
              "      <td>20.0</td>\n",
              "    </tr>\n",
              "    <tr>\n",
              "      <th>4</th>\n",
              "      <td>1960</td>\n",
              "      <td>10</td>\n",
              "      <td>hi</td>\n",
              "      <td>us</td>\n",
              "      <td>light</td>\n",
              "      <td>900.0</td>\n",
              "    </tr>\n",
              "    <tr>\n",
              "      <th>5</th>\n",
              "      <td>1961</td>\n",
              "      <td>10</td>\n",
              "      <td>tn</td>\n",
              "      <td>us</td>\n",
              "      <td>sphere</td>\n",
              "      <td>300.0</td>\n",
              "    </tr>\n",
              "    <tr>\n",
              "      <th>7</th>\n",
              "      <td>1965</td>\n",
              "      <td>10</td>\n",
              "      <td>ct</td>\n",
              "      <td>us</td>\n",
              "      <td>disk</td>\n",
              "      <td>1200.0</td>\n",
              "    </tr>\n",
              "    <tr>\n",
              "      <th>...</th>\n",
              "      <td>...</td>\n",
              "      <td>...</td>\n",
              "      <td>...</td>\n",
              "      <td>...</td>\n",
              "      <td>...</td>\n",
              "      <td>...</td>\n",
              "    </tr>\n",
              "    <tr>\n",
              "      <th>80327</th>\n",
              "      <td>2013</td>\n",
              "      <td>9</td>\n",
              "      <td>tn</td>\n",
              "      <td>us</td>\n",
              "      <td>light</td>\n",
              "      <td>600.0</td>\n",
              "    </tr>\n",
              "    <tr>\n",
              "      <th>80328</th>\n",
              "      <td>2013</td>\n",
              "      <td>9</td>\n",
              "      <td>id</td>\n",
              "      <td>us</td>\n",
              "      <td>circle</td>\n",
              "      <td>1200.0</td>\n",
              "    </tr>\n",
              "    <tr>\n",
              "      <th>80329</th>\n",
              "      <td>2013</td>\n",
              "      <td>9</td>\n",
              "      <td>ca</td>\n",
              "      <td>us</td>\n",
              "      <td>other</td>\n",
              "      <td>1200.0</td>\n",
              "    </tr>\n",
              "    <tr>\n",
              "      <th>80330</th>\n",
              "      <td>2013</td>\n",
              "      <td>9</td>\n",
              "      <td>va</td>\n",
              "      <td>us</td>\n",
              "      <td>circle</td>\n",
              "      <td>5.0</td>\n",
              "    </tr>\n",
              "    <tr>\n",
              "      <th>80331</th>\n",
              "      <td>2013</td>\n",
              "      <td>9</td>\n",
              "      <td>ok</td>\n",
              "      <td>us</td>\n",
              "      <td>cigar</td>\n",
              "      <td>1020.0</td>\n",
              "    </tr>\n",
              "  </tbody>\n",
              "</table>\n",
              "<p>65114 rows × 6 columns</p>\n",
              "</div>"
            ],
            "text/plain": [
              "       year  month state country ufo_shape  encounter_length\n",
              "0      1949     10    tx      us  cylinder            2700.0\n",
              "3      1956     10    tx      us    circle              20.0\n",
              "4      1960     10    hi      us     light             900.0\n",
              "5      1961     10    tn      us    sphere             300.0\n",
              "7      1965     10    ct      us      disk            1200.0\n",
              "...     ...    ...   ...     ...       ...               ...\n",
              "80327  2013      9    tn      us     light             600.0\n",
              "80328  2013      9    id      us    circle            1200.0\n",
              "80329  2013      9    ca      us     other            1200.0\n",
              "80330  2013      9    va      us    circle               5.0\n",
              "80331  2013      9    ok      us     cigar            1020.0\n",
              "\n",
              "[65114 rows x 6 columns]"
            ]
          },
          "metadata": {
            "tags": []
          },
          "execution_count": 112
        }
      ]
    },
    {
      "cell_type": "markdown",
      "metadata": {
        "id": "u8Rn291smeUK",
        "colab_type": "text"
      },
      "source": [
        "### Use the .query() method to perform the same task\n",
        "\n",
        "Remember that the .query() method expects a string. That string should contain the variable of your dataframe without quotation marks and the comparison. For example, if you had a variable called `name`, you'd use a syntax like:\n",
        " `df.query('name == \"Jack\"')`\n",
        " \n",
        "to bring all observations whose column `name` is exactly equal to `\"Jack\"` (note that Jack should be within quotation marks because a name is a string in this example)."
      ]
    },
    {
      "cell_type": "code",
      "metadata": {
        "id": "yoFsYojLmeUN",
        "colab_type": "code",
        "colab": {
          "base_uri": "https://localhost:8080/",
          "height": 424
        },
        "outputId": "67211503-e9a7-4529-bb67-9153a5292b34"
      },
      "source": [
        "country = ufo_vars['country']\n",
        "ufo_us = ufo_vars.query('country == \"us\"')\n",
        "ufo_us"
      ],
      "execution_count": 111,
      "outputs": [
        {
          "output_type": "execute_result",
          "data": {
            "text/html": [
              "<div>\n",
              "<style scoped>\n",
              "    .dataframe tbody tr th:only-of-type {\n",
              "        vertical-align: middle;\n",
              "    }\n",
              "\n",
              "    .dataframe tbody tr th {\n",
              "        vertical-align: top;\n",
              "    }\n",
              "\n",
              "    .dataframe thead th {\n",
              "        text-align: right;\n",
              "    }\n",
              "</style>\n",
              "<table border=\"1\" class=\"dataframe\">\n",
              "  <thead>\n",
              "    <tr style=\"text-align: right;\">\n",
              "      <th></th>\n",
              "      <th>year</th>\n",
              "      <th>month</th>\n",
              "      <th>state</th>\n",
              "      <th>country</th>\n",
              "      <th>ufo_shape</th>\n",
              "      <th>encounter_length</th>\n",
              "    </tr>\n",
              "  </thead>\n",
              "  <tbody>\n",
              "    <tr>\n",
              "      <th>0</th>\n",
              "      <td>1949</td>\n",
              "      <td>10</td>\n",
              "      <td>tx</td>\n",
              "      <td>us</td>\n",
              "      <td>cylinder</td>\n",
              "      <td>2700.0</td>\n",
              "    </tr>\n",
              "    <tr>\n",
              "      <th>3</th>\n",
              "      <td>1956</td>\n",
              "      <td>10</td>\n",
              "      <td>tx</td>\n",
              "      <td>us</td>\n",
              "      <td>circle</td>\n",
              "      <td>20.0</td>\n",
              "    </tr>\n",
              "    <tr>\n",
              "      <th>4</th>\n",
              "      <td>1960</td>\n",
              "      <td>10</td>\n",
              "      <td>hi</td>\n",
              "      <td>us</td>\n",
              "      <td>light</td>\n",
              "      <td>900.0</td>\n",
              "    </tr>\n",
              "    <tr>\n",
              "      <th>5</th>\n",
              "      <td>1961</td>\n",
              "      <td>10</td>\n",
              "      <td>tn</td>\n",
              "      <td>us</td>\n",
              "      <td>sphere</td>\n",
              "      <td>300.0</td>\n",
              "    </tr>\n",
              "    <tr>\n",
              "      <th>7</th>\n",
              "      <td>1965</td>\n",
              "      <td>10</td>\n",
              "      <td>ct</td>\n",
              "      <td>us</td>\n",
              "      <td>disk</td>\n",
              "      <td>1200.0</td>\n",
              "    </tr>\n",
              "    <tr>\n",
              "      <th>...</th>\n",
              "      <td>...</td>\n",
              "      <td>...</td>\n",
              "      <td>...</td>\n",
              "      <td>...</td>\n",
              "      <td>...</td>\n",
              "      <td>...</td>\n",
              "    </tr>\n",
              "    <tr>\n",
              "      <th>80327</th>\n",
              "      <td>2013</td>\n",
              "      <td>9</td>\n",
              "      <td>tn</td>\n",
              "      <td>us</td>\n",
              "      <td>light</td>\n",
              "      <td>600.0</td>\n",
              "    </tr>\n",
              "    <tr>\n",
              "      <th>80328</th>\n",
              "      <td>2013</td>\n",
              "      <td>9</td>\n",
              "      <td>id</td>\n",
              "      <td>us</td>\n",
              "      <td>circle</td>\n",
              "      <td>1200.0</td>\n",
              "    </tr>\n",
              "    <tr>\n",
              "      <th>80329</th>\n",
              "      <td>2013</td>\n",
              "      <td>9</td>\n",
              "      <td>ca</td>\n",
              "      <td>us</td>\n",
              "      <td>other</td>\n",
              "      <td>1200.0</td>\n",
              "    </tr>\n",
              "    <tr>\n",
              "      <th>80330</th>\n",
              "      <td>2013</td>\n",
              "      <td>9</td>\n",
              "      <td>va</td>\n",
              "      <td>us</td>\n",
              "      <td>circle</td>\n",
              "      <td>5.0</td>\n",
              "    </tr>\n",
              "    <tr>\n",
              "      <th>80331</th>\n",
              "      <td>2013</td>\n",
              "      <td>9</td>\n",
              "      <td>ok</td>\n",
              "      <td>us</td>\n",
              "      <td>cigar</td>\n",
              "      <td>1020.0</td>\n",
              "    </tr>\n",
              "  </tbody>\n",
              "</table>\n",
              "<p>65114 rows × 6 columns</p>\n",
              "</div>"
            ],
            "text/plain": [
              "       year  month state country ufo_shape  encounter_length\n",
              "0      1949     10    tx      us  cylinder            2700.0\n",
              "3      1956     10    tx      us    circle              20.0\n",
              "4      1960     10    hi      us     light             900.0\n",
              "5      1961     10    tn      us    sphere             300.0\n",
              "7      1965     10    ct      us      disk            1200.0\n",
              "...     ...    ...   ...     ...       ...               ...\n",
              "80327  2013      9    tn      us     light             600.0\n",
              "80328  2013      9    id      us    circle            1200.0\n",
              "80329  2013      9    ca      us     other            1200.0\n",
              "80330  2013      9    va      us    circle               5.0\n",
              "80331  2013      9    ok      us     cigar            1020.0\n",
              "\n",
              "[65114 rows x 6 columns]"
            ]
          },
          "metadata": {
            "tags": []
          },
          "execution_count": 111
        }
      ]
    },
    {
      "cell_type": "markdown",
      "metadata": {
        "id": "30lbcPk6meUU",
        "colab_type": "text"
      },
      "source": [
        "See which one do you prefer the most and keep using it for the exercises that follow"
      ]
    },
    {
      "cell_type": "markdown",
      "metadata": {
        "id": "cmXE8WUCmeUW",
        "colab_type": "text"
      },
      "source": [
        "## For the `ufo_us` dataframe, select only the cases in which the year is in the first decade (2001-2010). Put that in a variable called `ufo_us_2000`.\n",
        "\n",
        "Check your results."
      ]
    },
    {
      "cell_type": "code",
      "metadata": {
        "scrolled": true,
        "id": "YaBvplb3meUZ",
        "colab_type": "code",
        "colab": {
          "base_uri": "https://localhost:8080/",
          "height": 424
        },
        "outputId": "96006dc1-72e5-4d38-e4a3-52df981ca506"
      },
      "source": [
        "cond = (ufo_us['year'] <= 2001) & (ufo_us['year'] <= 2001)\n",
        "ufo_us_2000 = ufo_us[cond]"
      ],
      "execution_count": 119,
      "outputs": [
        {
          "output_type": "execute_result",
          "data": {
            "text/html": [
              "<div>\n",
              "<style scoped>\n",
              "    .dataframe tbody tr th:only-of-type {\n",
              "        vertical-align: middle;\n",
              "    }\n",
              "\n",
              "    .dataframe tbody tr th {\n",
              "        vertical-align: top;\n",
              "    }\n",
              "\n",
              "    .dataframe thead th {\n",
              "        text-align: right;\n",
              "    }\n",
              "</style>\n",
              "<table border=\"1\" class=\"dataframe\">\n",
              "  <thead>\n",
              "    <tr style=\"text-align: right;\">\n",
              "      <th></th>\n",
              "      <th>year</th>\n",
              "      <th>month</th>\n",
              "      <th>state</th>\n",
              "      <th>country</th>\n",
              "      <th>ufo_shape</th>\n",
              "      <th>encounter_length</th>\n",
              "    </tr>\n",
              "  </thead>\n",
              "  <tbody>\n",
              "    <tr>\n",
              "      <th>0</th>\n",
              "      <td>1949</td>\n",
              "      <td>10</td>\n",
              "      <td>tx</td>\n",
              "      <td>us</td>\n",
              "      <td>cylinder</td>\n",
              "      <td>2700.0</td>\n",
              "    </tr>\n",
              "    <tr>\n",
              "      <th>3</th>\n",
              "      <td>1956</td>\n",
              "      <td>10</td>\n",
              "      <td>tx</td>\n",
              "      <td>us</td>\n",
              "      <td>circle</td>\n",
              "      <td>20.0</td>\n",
              "    </tr>\n",
              "    <tr>\n",
              "      <th>4</th>\n",
              "      <td>1960</td>\n",
              "      <td>10</td>\n",
              "      <td>hi</td>\n",
              "      <td>us</td>\n",
              "      <td>light</td>\n",
              "      <td>900.0</td>\n",
              "    </tr>\n",
              "    <tr>\n",
              "      <th>5</th>\n",
              "      <td>1961</td>\n",
              "      <td>10</td>\n",
              "      <td>tn</td>\n",
              "      <td>us</td>\n",
              "      <td>sphere</td>\n",
              "      <td>300.0</td>\n",
              "    </tr>\n",
              "    <tr>\n",
              "      <th>7</th>\n",
              "      <td>1965</td>\n",
              "      <td>10</td>\n",
              "      <td>ct</td>\n",
              "      <td>us</td>\n",
              "      <td>disk</td>\n",
              "      <td>1200.0</td>\n",
              "    </tr>\n",
              "    <tr>\n",
              "      <th>...</th>\n",
              "      <td>...</td>\n",
              "      <td>...</td>\n",
              "      <td>...</td>\n",
              "      <td>...</td>\n",
              "      <td>...</td>\n",
              "      <td>...</td>\n",
              "    </tr>\n",
              "    <tr>\n",
              "      <th>80147</th>\n",
              "      <td>2001</td>\n",
              "      <td>9</td>\n",
              "      <td>wa</td>\n",
              "      <td>us</td>\n",
              "      <td>unknown</td>\n",
              "      <td>1200.0</td>\n",
              "    </tr>\n",
              "    <tr>\n",
              "      <th>80149</th>\n",
              "      <td>2001</td>\n",
              "      <td>9</td>\n",
              "      <td>nh</td>\n",
              "      <td>us</td>\n",
              "      <td>sphere</td>\n",
              "      <td>900.0</td>\n",
              "    </tr>\n",
              "    <tr>\n",
              "      <th>80150</th>\n",
              "      <td>2001</td>\n",
              "      <td>9</td>\n",
              "      <td>ma</td>\n",
              "      <td>us</td>\n",
              "      <td>unknown</td>\n",
              "      <td>180.0</td>\n",
              "    </tr>\n",
              "    <tr>\n",
              "      <th>80151</th>\n",
              "      <td>2001</td>\n",
              "      <td>9</td>\n",
              "      <td>tx</td>\n",
              "      <td>us</td>\n",
              "      <td>light</td>\n",
              "      <td>15.0</td>\n",
              "    </tr>\n",
              "    <tr>\n",
              "      <th>80152</th>\n",
              "      <td>2001</td>\n",
              "      <td>9</td>\n",
              "      <td>or</td>\n",
              "      <td>us</td>\n",
              "      <td>sphere</td>\n",
              "      <td>60.0</td>\n",
              "    </tr>\n",
              "  </tbody>\n",
              "</table>\n",
              "<p>16930 rows × 6 columns</p>\n",
              "</div>"
            ],
            "text/plain": [
              "       year  month state country ufo_shape  encounter_length\n",
              "0      1949     10    tx      us  cylinder            2700.0\n",
              "3      1956     10    tx      us    circle              20.0\n",
              "4      1960     10    hi      us     light             900.0\n",
              "5      1961     10    tn      us    sphere             300.0\n",
              "7      1965     10    ct      us      disk            1200.0\n",
              "...     ...    ...   ...     ...       ...               ...\n",
              "80147  2001      9    wa      us   unknown            1200.0\n",
              "80149  2001      9    nh      us    sphere             900.0\n",
              "80150  2001      9    ma      us   unknown             180.0\n",
              "80151  2001      9    tx      us     light              15.0\n",
              "80152  2001      9    or      us    sphere              60.0\n",
              "\n",
              "[16930 rows x 6 columns]"
            ]
          },
          "metadata": {
            "tags": []
          },
          "execution_count": 119
        }
      ]
    },
    {
      "cell_type": "markdown",
      "metadata": {
        "id": "JlS6LPm-meUj",
        "colab_type": "text"
      },
      "source": [
        "## Try to do the same without the intermediate step of creating the `ufo_us` dataframe. That is, try to filter the dataset for the cases in which the country is \"us\" and the year is (2001-2010)\n",
        "\n",
        "\n",
        "\n",
        "*Hint:* You have to make sure all of these conditions are applied simultaneously - using the `and` (or `&`) operator. Try to understand when to use the `and` and the `&` operator."
      ]
    },
    {
      "cell_type": "code",
      "metadata": {
        "id": "09aYCVosmeUl",
        "colab_type": "code",
        "colab": {}
      },
      "source": [
        "cond1 = (ufo_vars['country'] == 'us') \n",
        "cond2 = (ufo_us['year'] <= 2001) & (ufo_us['year'] <= 2001)\n",
        "ufo_us_2000 = ufo_vars.loc[cond1 & cond2]"
      ],
      "execution_count": 0,
      "outputs": []
    },
    {
      "cell_type": "markdown",
      "metadata": {
        "id": "bWmfhChdmeUy",
        "colab_type": "text"
      },
      "source": [
        "## BONUS 1:  Compare the number of triangular UFO occurrances (checking the `ufo_shape` variable) in the US from the year 2001 up to 2010 as compared to the years of 1991 up to 2000.\n",
        "\n",
        "*Hint: you should expect roughly ~3 times more cases for 2001-2010 than 1991-2000.*"
      ]
    },
    {
      "cell_type": "code",
      "metadata": {
        "scrolled": true,
        "id": "eHonuLilmeU0",
        "colab_type": "code",
        "colab": {}
      },
      "source": [
        "# calculate the dataframe from 2001-2010 here\n"
      ],
      "execution_count": 0,
      "outputs": []
    },
    {
      "cell_type": "code",
      "metadata": {
        "id": "IVPyQjuWmeU7",
        "colab_type": "code",
        "colab": {}
      },
      "source": [
        "# calculate the dataframe from 1991-2000 here\n"
      ],
      "execution_count": 0,
      "outputs": []
    },
    {
      "cell_type": "markdown",
      "metadata": {
        "id": "7FfPiJ_RmeVF",
        "colab_type": "text"
      },
      "source": [
        "How many rows does each dataset have?"
      ]
    },
    {
      "cell_type": "markdown",
      "metadata": {
        "id": "lf2oV6MEmeVI",
        "colab_type": "text"
      },
      "source": [
        "## BONUS 1.1: How many values does each category of `ufo_shape` has. \n",
        "\n"
      ]
    },
    {
      "cell_type": "code",
      "metadata": {
        "id": "J_zdPWsimeVM",
        "colab_type": "code",
        "colab": {}
      },
      "source": [
        ""
      ],
      "execution_count": 0,
      "outputs": []
    },
    {
      "cell_type": "code",
      "metadata": {
        "id": "B5zKGtTzmeVT",
        "colab_type": "code",
        "colab": {}
      },
      "source": [
        ""
      ],
      "execution_count": 0,
      "outputs": []
    },
    {
      "cell_type": "code",
      "metadata": {
        "id": "_9g5Pdt-meVa",
        "colab_type": "code",
        "colab": {}
      },
      "source": [
        ""
      ],
      "execution_count": 0,
      "outputs": []
    },
    {
      "cell_type": "code",
      "metadata": {
        "id": "O3hPl1zdmeVf",
        "colab_type": "code",
        "colab": {}
      },
      "source": [
        ""
      ],
      "execution_count": 0,
      "outputs": []
    },
    {
      "cell_type": "code",
      "metadata": {
        "id": "M9N8YYXGmeVl",
        "colab_type": "code",
        "colab": {}
      },
      "source": [
        ""
      ],
      "execution_count": 0,
      "outputs": []
    },
    {
      "cell_type": "code",
      "metadata": {
        "id": "NWpmM4G5meVq",
        "colab_type": "code",
        "colab": {}
      },
      "source": [
        ""
      ],
      "execution_count": 0,
      "outputs": []
    },
    {
      "cell_type": "code",
      "metadata": {
        "id": "ybDFfpEHmeVx",
        "colab_type": "code",
        "colab": {}
      },
      "source": [
        ""
      ],
      "execution_count": 0,
      "outputs": []
    },
    {
      "cell_type": "code",
      "metadata": {
        "id": "alXzwnwKmeV5",
        "colab_type": "code",
        "colab": {}
      },
      "source": [
        ""
      ],
      "execution_count": 0,
      "outputs": []
    },
    {
      "cell_type": "code",
      "metadata": {
        "id": "jozPbCJumeV-",
        "colab_type": "code",
        "colab": {}
      },
      "source": [
        ""
      ],
      "execution_count": 0,
      "outputs": []
    },
    {
      "cell_type": "code",
      "metadata": {
        "id": "eu4daNYRmeWG",
        "colab_type": "code",
        "colab": {}
      },
      "source": [
        ""
      ],
      "execution_count": 0,
      "outputs": []
    },
    {
      "cell_type": "code",
      "metadata": {
        "id": "k8gtLKMumeWL",
        "colab_type": "code",
        "colab": {}
      },
      "source": [
        ""
      ],
      "execution_count": 0,
      "outputs": []
    },
    {
      "cell_type": "code",
      "metadata": {
        "id": "QxHm8xc6meWO",
        "colab_type": "code",
        "colab": {}
      },
      "source": [
        ""
      ],
      "execution_count": 0,
      "outputs": []
    },
    {
      "cell_type": "code",
      "metadata": {
        "id": "oTBlddrmmeWU",
        "colab_type": "code",
        "colab": {}
      },
      "source": [
        ""
      ],
      "execution_count": 0,
      "outputs": []
    },
    {
      "cell_type": "code",
      "metadata": {
        "id": "0lOezwe-meWZ",
        "colab_type": "code",
        "colab": {}
      },
      "source": [
        ""
      ],
      "execution_count": 0,
      "outputs": []
    },
    {
      "cell_type": "code",
      "metadata": {
        "id": "2TK0uqXzmeWf",
        "colab_type": "code",
        "colab": {}
      },
      "source": [
        ""
      ],
      "execution_count": 0,
      "outputs": []
    },
    {
      "cell_type": "markdown",
      "metadata": {
        "id": "8rV9J_d2meWk",
        "colab_type": "text"
      },
      "source": [
        "# Lab-Data-Manipulation (PART-2)"
      ]
    },
    {
      "cell_type": "markdown",
      "metadata": {
        "id": "B9TiJ69fmeWp",
        "colab_type": "text"
      },
      "source": [
        "The second part of this lab consists of grouping and merging results."
      ]
    },
    {
      "cell_type": "markdown",
      "metadata": {
        "id": "I7hmh2gBmeWq",
        "colab_type": "text"
      },
      "source": [
        "# Grouping up the results. "
      ]
    },
    {
      "cell_type": "markdown",
      "metadata": {
        "id": "tlJVhFb2meWs",
        "colab_type": "text"
      },
      "source": [
        "## Let's calculate the average of the encounter for each country.\n",
        "\n",
        "We should now group the results by the country column to see what is the mean encounter_seconds for each country. Do this using the `groupby` method of your dataframe `ufo_vars`. What is the average of the encounter for the us? And for Canada?\n",
        "\n",
        "Remember that after grouping by a column, you have to specify a `aggregating function`. If you don't do that, the results of the groupby will only be a `groupby` pandas object. For this case, we want the aggregating function to be the `mean` function and then the results will appear for us.\n",
        "\n",
        "Also remember that **if you don't** specify the `as_index=False` argument, the variables you use to group are going to become your new indexes."
      ]
    },
    {
      "cell_type": "code",
      "metadata": {
        "id": "H80w7T-KmeWt",
        "colab_type": "code",
        "colab": {}
      },
      "source": [
        ""
      ],
      "execution_count": 0,
      "outputs": []
    },
    {
      "cell_type": "markdown",
      "metadata": {
        "id": "yx5B0I2VmeWx",
        "colab_type": "text"
      },
      "source": [
        "## Perform the same task, but instead of calculating the mean, count how many occurrances for each country.\n",
        "\n",
        "For this case, the aggregating function should be the `count` function. Try to understand the results for each column."
      ]
    },
    {
      "cell_type": "code",
      "metadata": {
        "id": "AWOUwIQcmeWz",
        "colab_type": "code",
        "colab": {}
      },
      "source": [
        ""
      ],
      "execution_count": 0,
      "outputs": []
    },
    {
      "cell_type": "markdown",
      "metadata": {
        "id": "2nbb6HdCmeW4",
        "colab_type": "text"
      },
      "source": [
        "## Perform the same task, but instead of calculating the mean, use the `.describe()` aggregating function to see the effects.\n",
        "\n",
        "The describe aggregating function will show you several important statistics for the grouped results, such as `mean`, `median`, `standard deviation`, `count`, `max`, `min`, and so on.\n",
        "\n",
        "*Hint: If it starts to get difficult to see the results, you can tranpose the resulting dataframe by just putting a `.T` at the end.*"
      ]
    },
    {
      "cell_type": "code",
      "metadata": {
        "id": "52frPJYOmeW5",
        "colab_type": "code",
        "colab": {}
      },
      "source": [
        ""
      ],
      "execution_count": 0,
      "outputs": []
    },
    {
      "cell_type": "markdown",
      "metadata": {
        "id": "LJt2ukFsmeW_",
        "colab_type": "text"
      },
      "source": [
        "## Now, let's get deeper in the analysis and group the results not only by country. But by `country` and `year`"
      ]
    },
    {
      "cell_type": "markdown",
      "metadata": {
        "id": "Cez5wqghmeXA",
        "colab_type": "text"
      },
      "source": [
        "### Check the values of the mean and count for the `encounter_seconds` variable for each year. Can you see some discrepancy?\n",
        "\n",
        "*Hint*: If you want, you can use the `ufo_us` dataset just to see the results for the united states. You could also (in a hacky way) perform the filter right before the groupby operation if you wanted."
      ]
    },
    {
      "cell_type": "code",
      "metadata": {
        "id": "CwjmfKVcmeXC",
        "colab_type": "code",
        "colab": {}
      },
      "source": [
        ""
      ],
      "execution_count": 0,
      "outputs": []
    },
    {
      "cell_type": "markdown",
      "metadata": {
        "id": "4QECYu3gmeXM",
        "colab_type": "text"
      },
      "source": [
        "# BONUS 2: Which months are the ones with the highest numbers of occurrences?\n",
        "\n"
      ]
    },
    {
      "cell_type": "code",
      "metadata": {
        "scrolled": true,
        "id": "WoTkXUl7meXO",
        "colab_type": "code",
        "colab": {}
      },
      "source": [
        ""
      ],
      "execution_count": 0,
      "outputs": []
    },
    {
      "cell_type": "markdown",
      "metadata": {
        "id": "DDGsTLohmeXT",
        "colab_type": "text"
      },
      "source": [
        "# BONUS 3: Finally, you gathered information about the UFO dataset. Using your last result, try to bring that information for your original dataset."
      ]
    },
    {
      "cell_type": "markdown",
      "metadata": {
        "id": "vfEPHuajmeXV",
        "colab_type": "text"
      },
      "source": [
        "1. Store the results of your previous analysis (the mean value for the encounter_seconds for each year and each country) in a dataframe called `avg_results`. "
      ]
    },
    {
      "cell_type": "code",
      "metadata": {
        "id": "fLqGlkDNmeXX",
        "colab_type": "code",
        "colab": {}
      },
      "source": [
        ""
      ],
      "execution_count": 0,
      "outputs": []
    },
    {
      "cell_type": "markdown",
      "metadata": {
        "id": "liDxP1c0meXn",
        "colab_type": "text"
      },
      "source": [
        "2. Rename the column named `encounter_seconds` to `avg_encounter_seconds`."
      ]
    },
    {
      "cell_type": "code",
      "metadata": {
        "id": "UI5YQNYEmeXp",
        "colab_type": "code",
        "colab": {}
      },
      "source": [
        ""
      ],
      "execution_count": 0,
      "outputs": []
    },
    {
      "cell_type": "markdown",
      "metadata": {
        "id": "sIbAljJXmeXu",
        "colab_type": "text"
      },
      "source": [
        "3. Use the pd.merge( ... ) function to bring that new collected information to your original dataset.\n",
        "The pd.merge() function requires several arguments, let's understand the most important ones.\n",
        "\n",
        "`left` is the dataframe you want to bring information **to** - the table on the left. In this case, this will be our original dataframe called `ufo`\n",
        "\n",
        "`right` is the dataframe you want to bring information **from** - the table on the right. In this case, this will be our resulting dataframe `avg_results`.\n",
        "\n",
        "`on` is the key you want to perform the merge. That is, if those values are **exactly equal** in both dataframes, then the information will be brought.\n",
        "\n",
        "Put your results on a dataframe called `merged_ufo`"
      ]
    },
    {
      "cell_type": "code",
      "metadata": {
        "scrolled": true,
        "id": "M6qZNHPKmeXw",
        "colab_type": "code",
        "colab": {}
      },
      "source": [
        ""
      ],
      "execution_count": 0,
      "outputs": []
    },
    {
      "cell_type": "markdown",
      "metadata": {
        "id": "PM4yJApCmeXz",
        "colab_type": "text"
      },
      "source": [
        "Check how many rows the final result has and try to explain it. Did the dataset get smaller? Bigger? Or the same? Can you explain why? \n",
        "\n",
        "*hint: If you've found something weird, try looking back at your original dataframe and find something interesting on it.*"
      ]
    },
    {
      "cell_type": "code",
      "metadata": {
        "id": "QkW-lkrvmeX2",
        "colab_type": "code",
        "colab": {}
      },
      "source": [
        ""
      ],
      "execution_count": 0,
      "outputs": []
    },
    {
      "cell_type": "markdown",
      "metadata": {
        "id": "_Z-7f9BqmeX7",
        "colab_type": "text"
      },
      "source": [
        "## Store the results into a new csv file called `ufo_enriched.csv`. \n",
        "\n",
        "Don't forget to use `index=False`."
      ]
    },
    {
      "cell_type": "code",
      "metadata": {
        "id": "Tm67Xg2UmeX8",
        "colab_type": "code",
        "colab": {}
      },
      "source": [
        ""
      ],
      "execution_count": 0,
      "outputs": []
    }
  ]
}