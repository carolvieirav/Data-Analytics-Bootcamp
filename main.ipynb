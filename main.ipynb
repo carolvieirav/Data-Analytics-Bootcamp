{
  "nbformat": 4,
  "nbformat_minor": 0,
  "metadata": {
    "kernelspec": {
      "display_name": "Python 3",
      "language": "python",
      "name": "python3"
    },
    "language_info": {
      "codemirror_mode": {
        "name": "ipython",
        "version": 3
      },
      "file_extension": ".py",
      "mimetype": "text/x-python",
      "name": "python",
      "nbconvert_exporter": "python",
      "pygments_lexer": "ipython3",
      "version": "3.7.3"
    },
    "toc": {
      "base_numbering": 1,
      "nav_menu": {},
      "number_sections": true,
      "sideBar": true,
      "skip_h1_title": false,
      "title_cell": "Table of Contents",
      "title_sidebar": "Contents",
      "toc_cell": false,
      "toc_position": {},
      "toc_section_display": true,
      "toc_window_display": false
    },
    "varInspector": {
      "cols": {
        "lenName": 16,
        "lenType": 16,
        "lenVar": 40
      },
      "kernels_config": {
        "python": {
          "delete_cmd_postfix": "",
          "delete_cmd_prefix": "del ",
          "library": "var_list.py",
          "varRefreshCmd": "print(var_dic_list())"
        },
        "r": {
          "delete_cmd_postfix": ") ",
          "delete_cmd_prefix": "rm(",
          "library": "var_list.r",
          "varRefreshCmd": "cat(var_dic_list()) "
        }
      },
      "types_to_exclude": [
        "module",
        "function",
        "builtin_function_or_method",
        "instance",
        "_Feature"
      ],
      "window_display": false
    },
    "colab": {
      "name": "main.ipynb",
      "provenance": [],
      "include_colab_link": true
    }
  },
  "cells": [
    {
      "cell_type": "markdown",
      "metadata": {
        "id": "view-in-github",
        "colab_type": "text"
      },
      "source": [
        "<a href=\"https://colab.research.google.com/github/carolvieirav/Labs/blob/master/main.ipynb\" target=\"_parent\"><img src=\"https://colab.research.google.com/assets/colab-badge.svg\" alt=\"Open In Colab\"/></a>"
      ]
    },
    {
      "cell_type": "markdown",
      "metadata": {
        "id": "_c5CnjfBlryZ",
        "colab_type": "text"
      },
      "source": [
        "# Intrduction to NumPy\n",
        "\n",
        "\n",
        "#### 1. Import NumPy under the name np."
      ]
    },
    {
      "cell_type": "code",
      "metadata": {
        "id": "n1Ya5Rdnlryi",
        "colab_type": "code",
        "colab": {}
      },
      "source": [
        "# your code here\n",
        "import numpy as np"
      ],
      "execution_count": 0,
      "outputs": []
    },
    {
      "cell_type": "markdown",
      "metadata": {
        "id": "S7FwZbIblrzA",
        "colab_type": "text"
      },
      "source": [
        "#### 2. Print your NumPy version."
      ]
    },
    {
      "cell_type": "code",
      "metadata": {
        "id": "cvelGI9XlrzH",
        "colab_type": "code",
        "colab": {
          "base_uri": "https://localhost:8080/",
          "height": 34
        },
        "outputId": "915e9581-c7eb-4a5c-dcc5-3fd10e9078c6"
      },
      "source": [
        "# your code here\n",
        "np.__version__"
      ],
      "execution_count": 5,
      "outputs": [
        {
          "output_type": "execute_result",
          "data": {
            "text/plain": [
              "'1.17.5'"
            ]
          },
          "metadata": {
            "tags": []
          },
          "execution_count": 5
        }
      ]
    },
    {
      "cell_type": "markdown",
      "metadata": {
        "id": "kN9Tf2H7lrzW",
        "colab_type": "text"
      },
      "source": [
        "#### 3. Generate a 2x3x5 3-dimensional array with random values. Assign the array to variable *a*.\n",
        "**Challenge**: there are at least three easy ways that use numpy to generate random arrays. How many ways can you find?"
      ]
    },
    {
      "cell_type": "code",
      "metadata": {
        "id": "hNsTd_JDlrzc",
        "colab_type": "code",
        "colab": {
          "base_uri": "https://localhost:8080/",
          "height": 139
        },
        "outputId": "c14b8d5f-c960-41e7-a0dc-a50e39448ca7"
      },
      "source": [
        "# Method 1 \n",
        "a= np.random.random((2,3,5))"
      ],
      "execution_count": 10,
      "outputs": [
        {
          "output_type": "execute_result",
          "data": {
            "text/plain": [
              "[array([[[0.90945954, 0.5749582 , 0.81691596, 0.12945464, 0.37676355],\n",
              "         [0.99018882, 0.12395717, 0.67153331, 0.52918566, 0.67512204],\n",
              "         [0.20101671, 0.47660514, 0.48063388, 0.94167482, 0.95113593]],\n",
              " \n",
              "        [[0.74957647, 0.49011444, 0.51261298, 0.56725894, 0.19880707],\n",
              "         [0.5483454 , 0.49115247, 0.57094557, 0.69678297, 0.75389902],\n",
              "         [0.09237059, 0.81740585, 0.7172741 , 0.55188813, 0.48924165]]])]"
            ]
          },
          "metadata": {
            "tags": []
          },
          "execution_count": 10
        }
      ]
    },
    {
      "cell_type": "code",
      "metadata": {
        "id": "KAgd5Sg3lrzs",
        "colab_type": "code",
        "colab": {}
      },
      "source": [
        "# Method 2"
      ],
      "execution_count": 0,
      "outputs": []
    },
    {
      "cell_type": "code",
      "metadata": {
        "id": "jas_GiHplrz5",
        "colab_type": "code",
        "colab": {}
      },
      "source": [
        "# Method 3"
      ],
      "execution_count": 0,
      "outputs": []
    },
    {
      "cell_type": "markdown",
      "metadata": {
        "id": "SeL3AJK0lr0H",
        "colab_type": "text"
      },
      "source": [
        "#### 4. Print *a*.\n"
      ]
    },
    {
      "cell_type": "code",
      "metadata": {
        "id": "edoEkUfglr0K",
        "colab_type": "code",
        "colab": {}
      },
      "source": [
        "# your code here\n",
        "print(np.array(a))"
      ],
      "execution_count": 0,
      "outputs": []
    },
    {
      "cell_type": "markdown",
      "metadata": {
        "id": "Sjz5_wCglr0X",
        "colab_type": "text"
      },
      "source": [
        "#### 5. Create a 5x2x3 3-dimensional array with all values equaling 1. Assign the array to variable *b*."
      ]
    },
    {
      "cell_type": "code",
      "metadata": {
        "id": "g1n2UIIblr0c",
        "colab_type": "code",
        "colab": {}
      },
      "source": [
        "# your code here\n",
        "b = np.ones((5,2,3))"
      ],
      "execution_count": 0,
      "outputs": []
    },
    {
      "cell_type": "markdown",
      "metadata": {
        "id": "8EpYfzhGlr0q",
        "colab_type": "text"
      },
      "source": [
        "#### 6. Print *b*.\n"
      ]
    },
    {
      "cell_type": "code",
      "metadata": {
        "id": "Lnyom3bPlr0s",
        "colab_type": "code",
        "colab": {
          "base_uri": "https://localhost:8080/",
          "height": 260
        },
        "outputId": "37fdd603-478e-450d-e8c3-d0f906991485"
      },
      "source": [
        "# your code here\n",
        "print(np.array(b))"
      ],
      "execution_count": 25,
      "outputs": [
        {
          "output_type": "stream",
          "text": [
            "[[[[1. 1. 1.]\n",
            "   [1. 1. 1.]]\n",
            "\n",
            "  [[1. 1. 1.]\n",
            "   [1. 1. 1.]]\n",
            "\n",
            "  [[1. 1. 1.]\n",
            "   [1. 1. 1.]]\n",
            "\n",
            "  [[1. 1. 1.]\n",
            "   [1. 1. 1.]]\n",
            "\n",
            "  [[1. 1. 1.]\n",
            "   [1. 1. 1.]]]]\n"
          ],
          "name": "stdout"
        }
      ]
    },
    {
      "cell_type": "markdown",
      "metadata": {
        "id": "N5wClA2Rlr05",
        "colab_type": "text"
      },
      "source": [
        "#### 7. Do *a* and *b* have the same size? How do you prove that in Python code?"
      ]
    },
    {
      "cell_type": "code",
      "metadata": {
        "id": "h0q7q80Wlr08",
        "colab_type": "code",
        "colab": {
          "base_uri": "https://localhost:8080/",
          "height": 34
        },
        "outputId": "8aab9e2e-0cc7-4b00-ad85-a4eb05bb287d"
      },
      "source": [
        "# your code here\n",
        "if np.array(a).shape is np.array(b).shape:\n",
        "  print(\"It's a match!\")\n",
        "else:\n",
        "  print(\"They have diferent sizes!\")"
      ],
      "execution_count": 36,
      "outputs": [
        {
          "output_type": "stream",
          "text": [
            "They have diferent sizes!\n"
          ],
          "name": "stdout"
        }
      ]
    },
    {
      "cell_type": "markdown",
      "metadata": {
        "id": "wvZOUXuFlr1M",
        "colab_type": "text"
      },
      "source": [
        "#### 8. Are you able to add *a* and *b*? Why or why not?\n"
      ]
    },
    {
      "cell_type": "code",
      "metadata": {
        "id": "y1bfDPBDlr1Q",
        "colab_type": "code",
        "colab": {
          "base_uri": "https://localhost:8080/",
          "height": 34
        },
        "outputId": "d883f84e-f43d-49db-8645-9f9c55a72e26"
      },
      "source": [
        "# your answer here\n",
        "a + b\n",
        "print('No, It needs to be in the same structure!')"
      ],
      "execution_count": 35,
      "outputs": [
        {
          "output_type": "stream",
          "text": [
            "No, It needs to be in the same structure!\n"
          ],
          "name": "stdout"
        }
      ]
    },
    {
      "cell_type": "markdown",
      "metadata": {
        "id": "SgQIK6pblr1l",
        "colab_type": "text"
      },
      "source": [
        "#### 9. Reshape *b* so that it has the same structure of *a* (i.e. become a 2x3x5 array). Assign the reshaped array to variable *c*."
      ]
    },
    {
      "cell_type": "code",
      "metadata": {
        "id": "kxW7Kr1Jlr1o",
        "colab_type": "code",
        "colab": {}
      },
      "source": [
        "# your code here\n",
        "c = b.reshape((2,3,5))"
      ],
      "execution_count": 0,
      "outputs": []
    },
    {
      "cell_type": "code",
      "metadata": {
        "id": "rqVhRu5zxCfC",
        "colab_type": "code",
        "colab": {
          "base_uri": "https://localhost:8080/",
          "height": 34
        },
        "outputId": "6f367364-5cf0-48de-ba1d-78e279b6b0a8"
      },
      "source": [
        "c.shape"
      ],
      "execution_count": 56,
      "outputs": [
        {
          "output_type": "execute_result",
          "data": {
            "text/plain": [
              "(2, 3, 5)"
            ]
          },
          "metadata": {
            "tags": []
          },
          "execution_count": 56
        }
      ]
    },
    {
      "cell_type": "code",
      "metadata": {
        "id": "6VzrPyjbwxg1",
        "colab_type": "code",
        "colab": {}
      },
      "source": [
        "?np.reshape"
      ],
      "execution_count": 0,
      "outputs": []
    },
    {
      "cell_type": "markdown",
      "metadata": {
        "id": "gFU1tzvRlr1y",
        "colab_type": "text"
      },
      "source": [
        "#### 10. Try to add *a* and *c*. Now it should work. Assign the sum to variable *d*. But why does it work now?"
      ]
    },
    {
      "cell_type": "code",
      "metadata": {
        "id": "E2XbokxDlr13",
        "colab_type": "code",
        "colab": {
          "base_uri": "https://localhost:8080/",
          "height": 34
        },
        "outputId": "f258a0b4-c538-4e32-f3bf-c91ff7f32ad4"
      },
      "source": [
        "# your code/answer here\n",
        "d = a+c\n",
        "print('Now it has the same structure!')"
      ],
      "execution_count": 45,
      "outputs": [
        {
          "output_type": "stream",
          "text": [
            "Now it has the same structure!\n"
          ],
          "name": "stdout"
        }
      ]
    },
    {
      "cell_type": "markdown",
      "metadata": {
        "id": "Xkdgkkmclr2B",
        "colab_type": "text"
      },
      "source": [
        "#### 11. Print *a* and *d*. Notice the difference and relation of the two array in terms of the values? Explain."
      ]
    },
    {
      "cell_type": "code",
      "metadata": {
        "id": "YWv0fpohlr2E",
        "colab_type": "code",
        "colab": {
          "base_uri": "https://localhost:8080/",
          "height": 278
        },
        "outputId": "d097da11-218a-4c44-9e67-3e9bf9a1c0a5"
      },
      "source": [
        "# your code/answer here\n",
        "print(a)\n",
        "print(d)\n",
        "print(\"The diferance is the permutation of the arrays with 'c' and the relation between the two is that all values are type float!\")"
      ],
      "execution_count": 66,
      "outputs": [
        {
          "output_type": "stream",
          "text": [
            "[array([[[0.90945954, 0.5749582 , 0.81691596, 0.12945464, 0.37676355],\n",
            "        [0.99018882, 0.12395717, 0.67153331, 0.52918566, 0.67512204],\n",
            "        [0.20101671, 0.47660514, 0.48063388, 0.94167482, 0.95113593]],\n",
            "\n",
            "       [[0.74957647, 0.49011444, 0.51261298, 0.56725894, 0.19880707],\n",
            "        [0.5483454 , 0.49115247, 0.57094557, 0.69678297, 0.75389902],\n",
            "        [0.09237059, 0.81740585, 0.7172741 , 0.55188813, 0.48924165]]])]\n",
            "[[[[1.90945954 1.5749582  1.81691596 1.12945464 1.37676355]\n",
            "   [1.99018882 1.12395717 1.67153331 1.52918566 1.67512204]\n",
            "   [1.20101671 1.47660514 1.48063388 1.94167482 1.95113593]]\n",
            "\n",
            "  [[1.74957647 1.49011444 1.51261298 1.56725894 1.19880707]\n",
            "   [1.5483454  1.49115247 1.57094557 1.69678297 1.75389902]\n",
            "   [1.09237059 1.81740585 1.7172741  1.55188813 1.48924165]]]]\n",
            "The diferance is the permutation of the arrays with 'c' and the relation between the two is that all values are type float!\n"
          ],
          "name": "stdout"
        }
      ]
    },
    {
      "cell_type": "markdown",
      "metadata": {
        "id": "Yk60T9JZlr2M",
        "colab_type": "text"
      },
      "source": [
        "#### 12. Multiply *a* and *c*. Assign the result to *e*."
      ]
    },
    {
      "cell_type": "code",
      "metadata": {
        "id": "c2WP8OdBlr2T",
        "colab_type": "code",
        "colab": {}
      },
      "source": [
        "# your code here\n",
        "e = np.multiply(a,c)"
      ],
      "execution_count": 0,
      "outputs": []
    },
    {
      "cell_type": "markdown",
      "metadata": {
        "id": "3_nHVmlblr2d",
        "colab_type": "text"
      },
      "source": [
        "#### 13. Does *e* equal to *a*? Why or why not?\n"
      ]
    },
    {
      "cell_type": "code",
      "metadata": {
        "id": "wsayXOpNlr2g",
        "colab_type": "code",
        "colab": {
          "base_uri": "https://localhost:8080/",
          "height": 34
        },
        "outputId": "2ee470ed-e372-4685-e4a2-48c0cb884186"
      },
      "source": [
        "# your code/answer here\n",
        "e is a\n",
        "print(\"They are not equal because the permutation with 'c' infers diferent values\")"
      ],
      "execution_count": 70,
      "outputs": [
        {
          "output_type": "stream",
          "text": [
            "They are not equal because of the state of the permutation with 'c'\n"
          ],
          "name": "stdout"
        }
      ]
    },
    {
      "cell_type": "markdown",
      "metadata": {
        "id": "tsv3LdKBlr2p",
        "colab_type": "text"
      },
      "source": [
        "#### 14. Identify the max, min, and mean values in *d*. Assign those values to variables *d_max*, *d_min* and *d_mean*."
      ]
    },
    {
      "cell_type": "code",
      "metadata": {
        "id": "TnK1-C0Plr2t",
        "colab_type": "code",
        "colab": {}
      },
      "source": [
        "# your code here\n",
        "d_max = np.max(d)\n",
        "d_min = np.min(d)\n",
        "d_mean = np.mean(d)"
      ],
      "execution_count": 0,
      "outputs": []
    },
    {
      "cell_type": "markdown",
      "metadata": {
        "id": "hVAS4O20lr26",
        "colab_type": "text"
      },
      "source": [
        "#### 15. Now we want to label the values in *d*. First create an empty array *f* with the same shape (i.e. 2x3x5) as *d* using `np.empty`.\n"
      ]
    },
    {
      "cell_type": "code",
      "metadata": {
        "id": "ceZ2aAUOlr28",
        "colab_type": "code",
        "colab": {}
      },
      "source": [
        "# your code here\n",
        "\n",
        "f = np.empty((2,3,6))"
      ],
      "execution_count": 0,
      "outputs": []
    },
    {
      "cell_type": "markdown",
      "metadata": {
        "id": "9Rb61VfOlr3H",
        "colab_type": "text"
      },
      "source": [
        "#### 16. Populate the values in *f*. \n",
        "\n",
        "For each value in *d*, if it's larger than *d_min* but smaller than *d_mean*, assign 25 to the corresponding value in *f*. If a value in *d* is larger than *d_mean* but smaller than *d_max*, assign 75 to the corresponding value in *f*. If a value equals to *d_mean*, assign 50 to the corresponding value in *f*. Assign 0 to the corresponding value(s) in *f* for *d_min* in *d*. Assign 100 to the corresponding value(s) in *f* for *d_max* in *d*. In the end, f should have only the following values: 0, 25, 50, 75, and 100.\n",
        "\n",
        "**Note**: you don't have to use Numpy in this question."
      ]
    },
    {
      "cell_type": "code",
      "metadata": {
        "id": "ZRw4sJKelr3L",
        "colab_type": "code",
        "colab": {}
      },
      "source": [
        "# your code here\n",
        "\n",
        "f[item > d_min & item < d_mean] = 25\n",
        "f[item > d_mean & item < d_max] = 75\n",
        "f[item == d_mean] = 50\n",
        "f[item == d_min] = 0\n",
        "f[item == d_max] = 100\n",
        " "
      ],
      "execution_count": 0,
      "outputs": []
    },
    {
      "cell_type": "code",
      "metadata": {
        "id": "fsgPjzfOBgJp",
        "colab_type": "code",
        "colab": {
          "base_uri": "https://localhost:8080/",
          "height": 69
        },
        "outputId": "6bf1ec3a-9779-4d46-ab1d-d16405a1ae47"
      },
      "source": [
        ""
      ],
      "execution_count": 110,
      "outputs": [
        {
          "output_type": "execute_result",
          "data": {
            "text/plain": [
              "array([[1., 1., 1., 1., 1.],\n",
              "       [1., 1., 1., 1., 1.],\n",
              "       [1., 1., 1., 1., 1.]])"
            ]
          },
          "metadata": {
            "tags": []
          },
          "execution_count": 110
        }
      ]
    },
    {
      "cell_type": "markdown",
      "metadata": {
        "id": "nFuclqzAlr3W",
        "colab_type": "text"
      },
      "source": [
        "\n",
        "\n",
        "#### 17. Print *d* and *f*. Do you have your expected *f*?\n",
        "For instance, if your *d* is:\n",
        "```python\n",
        "[[[1.85836099, 1.67064465, 1.62576044, 1.40243961, 1.88454931],\n",
        "[1.75354326, 1.69403643, 1.36729252, 1.61415071, 1.12104981],\n",
        "[1.72201435, 1.1862918 , 1.87078449, 1.7726778 , 1.88180042]],\n",
        "[[1.44747908, 1.31673383, 1.02000951, 1.52218947, 1.97066381],\n",
        "[1.79129243, 1.74983003, 1.96028037, 1.85166831, 1.65450881],\n",
        "[1.18068344, 1.9587381 , 1.00656599, 1.93402165, 1.73514584]]]\n",
        "```\n",
        "Your *f* should be:\n",
        "```python\n",
        "[[[ 75.,  75.,  75.,  25.,  75.],\n",
        "[ 75.,  75.,  25.,  25.,  25.],\n",
        "[ 75.,  25.,  75.,  75.,  75.]],\n",
        "[[ 25.,  25.,  25.,  25., 100.],\n",
        "[ 75.,  75.,  75.,  75.,  75.],\n",
        "[ 25.,  75.,   0.,  75.,  75.]]]\n",
        "```"
      ]
    },
    {
      "cell_type": "code",
      "metadata": {
        "id": "m0kb6oLXlr3Z",
        "colab_type": "code",
        "colab": {}
      },
      "source": [
        "# your code here\n",
        "print(d)\n",
        "print(f)"
      ],
      "execution_count": 0,
      "outputs": []
    },
    {
      "cell_type": "markdown",
      "metadata": {
        "id": "xCdgXD0Blr3h",
        "colab_type": "text"
      },
      "source": [
        "#### 18. Bonus question: instead of using numbers (i.e. 0, 25, 50, 75, and 100), use string values  (\"A\", \"B\", \"C\", \"D\", and \"E\") to label the array elements. For the example above, the expected result is:\n",
        "\n",
        "```python\n",
        "[[[ 'D',  'D',  'D',  'B',  'D'],\n",
        "[ 'D',  'D',  'B',  'B',  'B'],\n",
        "[ 'D',  'B',  'D',  'D',  'D']],\n",
        "[[ 'B',  'B',  'B',  'B',  'E'],\n",
        "[ 'D',  'D',  'D',  'D',  'D'],\n",
        "[ 'B',  'D',   'A',  'D', 'D']]]\n",
        "```\n",
        "**Note**: you don't have to use Numpy in this question."
      ]
    },
    {
      "cell_type": "code",
      "metadata": {
        "id": "4oiDz1pylr3j",
        "colab_type": "code",
        "colab": {}
      },
      "source": [
        "# your code here"
      ],
      "execution_count": 0,
      "outputs": []
    }
  ]
}