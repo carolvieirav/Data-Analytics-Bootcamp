{
  "nbformat": 4,
  "nbformat_minor": 0,
  "metadata": {
    "kernelspec": {
      "display_name": "Python 3",
      "language": "python",
      "name": "python3"
    },
    "language_info": {
      "codemirror_mode": {
        "name": "ipython",
        "version": 3
      },
      "file_extension": ".py",
      "mimetype": "text/x-python",
      "name": "python",
      "nbconvert_exporter": "python",
      "pygments_lexer": "ipython3",
      "version": "3.7.3"
    },
    "toc": {
      "base_numbering": 1,
      "nav_menu": {},
      "number_sections": true,
      "sideBar": true,
      "skip_h1_title": false,
      "title_cell": "Table of Contents",
      "title_sidebar": "Contents",
      "toc_cell": false,
      "toc_position": {},
      "toc_section_display": true,
      "toc_window_display": false
    },
    "varInspector": {
      "cols": {
        "lenName": 16,
        "lenType": 16,
        "lenVar": 40
      },
      "kernels_config": {
        "python": {
          "delete_cmd_postfix": "",
          "delete_cmd_prefix": "del ",
          "library": "var_list.py",
          "varRefreshCmd": "print(var_dic_list())"
        },
        "r": {
          "delete_cmd_postfix": ") ",
          "delete_cmd_prefix": "rm(",
          "library": "var_list.r",
          "varRefreshCmd": "cat(var_dic_list()) "
        }
      },
      "types_to_exclude": [
        "module",
        "function",
        "builtin_function_or_method",
        "instance",
        "_Feature"
      ],
      "window_display": false
    },
    "colab": {
      "name": "importing and exporting.ipynb",
      "provenance": [],
      "include_colab_link": true
    }
  },
  "cells": [
    {
      "cell_type": "markdown",
      "metadata": {
        "id": "view-in-github",
        "colab_type": "text"
      },
      "source": [
        "<a href=\"https://colab.research.google.com/github/carolvieirav/Labs/blob/master/importing_and_exporting.ipynb\" target=\"_parent\"><img src=\"https://colab.research.google.com/assets/colab-badge.svg\" alt=\"Open In Colab\"/></a>"
      ]
    },
    {
      "cell_type": "markdown",
      "metadata": {
        "id": "a2-soonwY7gS",
        "colab_type": "text"
      },
      "source": [
        "# Before your start:\n",
        "- Read the README.md file\n",
        "- Comment as much as you can and use the resources in the README.md file\n",
        "- Happy learning!"
      ]
    },
    {
      "cell_type": "markdown",
      "metadata": {
        "id": "PqcapU8XY7ga",
        "colab_type": "text"
      },
      "source": [
        "# Challenge 2 - Working with JSON files\n",
        "\n",
        "Import the pandas library."
      ]
    },
    {
      "cell_type": "code",
      "metadata": {
        "id": "mbBCLABAY7gm",
        "colab_type": "code",
        "colab": {}
      },
      "source": [
        "# your code here\n",
        "import pandas as pd\n"
      ],
      "execution_count": 0,
      "outputs": []
    },
    {
      "cell_type": "markdown",
      "metadata": {
        "id": "hJZsMpIxY7g8",
        "colab_type": "text"
      },
      "source": [
        "In the next cell, load the data in `nasa.json` in the `data` folder and load it into a pandas dataframe. Name the dataframe `nasa`."
      ]
    },
    {
      "cell_type": "code",
      "metadata": {
        "id": "M6DMIMSJY7hA",
        "colab_type": "code",
        "colab": {}
      },
      "source": [
        "# your code here\n",
        "nasa = pd.read_json('/nasa.json')"
      ],
      "execution_count": 0,
      "outputs": []
    },
    {
      "cell_type": "markdown",
      "metadata": {
        "id": "ch8OVmJFY7hQ",
        "colab_type": "text"
      },
      "source": [
        "Now that we have loaded the data, let's examine it using the `head()` function."
      ]
    },
    {
      "cell_type": "code",
      "metadata": {
        "id": "1It0z1Y8Y7hT",
        "colab_type": "code",
        "outputId": "71190887-94a1-4f1e-b0ae-1249bcccb67a",
        "colab": {
          "base_uri": "https://localhost:8080/",
          "height": 574
        }
      },
      "source": [
        "# your code her\n",
        "nasa.head()"
      ],
      "execution_count": 0,
      "outputs": [
        {
          "output_type": "execute_result",
          "data": {
            "text/html": [
              "<div>\n",
              "<style scoped>\n",
              "    .dataframe tbody tr th:only-of-type {\n",
              "        vertical-align: middle;\n",
              "    }\n",
              "\n",
              "    .dataframe tbody tr th {\n",
              "        vertical-align: top;\n",
              "    }\n",
              "\n",
              "    .dataframe thead th {\n",
              "        text-align: right;\n",
              "    }\n",
              "</style>\n",
              "<table border=\"1\" class=\"dataframe\">\n",
              "  <thead>\n",
              "    <tr style=\"text-align: right;\">\n",
              "      <th></th>\n",
              "      <th>:@computed_region_cbhk_fwbd</th>\n",
              "      <th>:@computed_region_nnqa_25f4</th>\n",
              "      <th>fall</th>\n",
              "      <th>geolocation</th>\n",
              "      <th>id</th>\n",
              "      <th>mass</th>\n",
              "      <th>name</th>\n",
              "      <th>nametype</th>\n",
              "      <th>recclass</th>\n",
              "      <th>reclat</th>\n",
              "      <th>reclong</th>\n",
              "      <th>year</th>\n",
              "    </tr>\n",
              "  </thead>\n",
              "  <tbody>\n",
              "    <tr>\n",
              "      <th>0</th>\n",
              "      <td>NaN</td>\n",
              "      <td>NaN</td>\n",
              "      <td>Fell</td>\n",
              "      <td>{'type': 'Point', 'coordinates': [6.08333, 50....</td>\n",
              "      <td>1</td>\n",
              "      <td>21.0</td>\n",
              "      <td>Aachen</td>\n",
              "      <td>Valid</td>\n",
              "      <td>L5</td>\n",
              "      <td>50.77500</td>\n",
              "      <td>6.08333</td>\n",
              "      <td>1880-01-01T00:00:00.000</td>\n",
              "    </tr>\n",
              "    <tr>\n",
              "      <th>1</th>\n",
              "      <td>NaN</td>\n",
              "      <td>NaN</td>\n",
              "      <td>Fell</td>\n",
              "      <td>{'type': 'Point', 'coordinates': [10.23333, 56...</td>\n",
              "      <td>2</td>\n",
              "      <td>720.0</td>\n",
              "      <td>Aarhus</td>\n",
              "      <td>Valid</td>\n",
              "      <td>H6</td>\n",
              "      <td>56.18333</td>\n",
              "      <td>10.23333</td>\n",
              "      <td>1951-01-01T00:00:00.000</td>\n",
              "    </tr>\n",
              "    <tr>\n",
              "      <th>2</th>\n",
              "      <td>NaN</td>\n",
              "      <td>NaN</td>\n",
              "      <td>Fell</td>\n",
              "      <td>{'type': 'Point', 'coordinates': [-113, 54.216...</td>\n",
              "      <td>6</td>\n",
              "      <td>107000.0</td>\n",
              "      <td>Abee</td>\n",
              "      <td>Valid</td>\n",
              "      <td>EH4</td>\n",
              "      <td>54.21667</td>\n",
              "      <td>-113.00000</td>\n",
              "      <td>1952-01-01T00:00:00.000</td>\n",
              "    </tr>\n",
              "    <tr>\n",
              "      <th>3</th>\n",
              "      <td>NaN</td>\n",
              "      <td>NaN</td>\n",
              "      <td>Fell</td>\n",
              "      <td>{'type': 'Point', 'coordinates': [-99.9, 16.88...</td>\n",
              "      <td>10</td>\n",
              "      <td>1914.0</td>\n",
              "      <td>Acapulco</td>\n",
              "      <td>Valid</td>\n",
              "      <td>Acapulcoite</td>\n",
              "      <td>16.88333</td>\n",
              "      <td>-99.90000</td>\n",
              "      <td>1976-01-01T00:00:00.000</td>\n",
              "    </tr>\n",
              "    <tr>\n",
              "      <th>4</th>\n",
              "      <td>NaN</td>\n",
              "      <td>NaN</td>\n",
              "      <td>Fell</td>\n",
              "      <td>{'type': 'Point', 'coordinates': [-64.95, -33....</td>\n",
              "      <td>370</td>\n",
              "      <td>780.0</td>\n",
              "      <td>Achiras</td>\n",
              "      <td>Valid</td>\n",
              "      <td>L6</td>\n",
              "      <td>-33.16667</td>\n",
              "      <td>-64.95000</td>\n",
              "      <td>1902-01-01T00:00:00.000</td>\n",
              "    </tr>\n",
              "  </tbody>\n",
              "</table>\n",
              "</div>"
            ],
            "text/plain": [
              "   :@computed_region_cbhk_fwbd  ...                     year\n",
              "0                          NaN  ...  1880-01-01T00:00:00.000\n",
              "1                          NaN  ...  1951-01-01T00:00:00.000\n",
              "2                          NaN  ...  1952-01-01T00:00:00.000\n",
              "3                          NaN  ...  1976-01-01T00:00:00.000\n",
              "4                          NaN  ...  1902-01-01T00:00:00.000\n",
              "\n",
              "[5 rows x 12 columns]"
            ]
          },
          "metadata": {
            "tags": []
          },
          "execution_count": 20
        }
      ]
    },
    {
      "cell_type": "markdown",
      "metadata": {
        "id": "T819wfqTY7hh",
        "colab_type": "text"
      },
      "source": [
        "#### The `value_counts()` function is commonly used in pandas to find the frequency of every value in a column.\n",
        "\n",
        "In the cell below, use the `value_counts()` function to determine the frequency of all types of asteroid landings by applying the function to the `fall` column."
      ]
    },
    {
      "cell_type": "code",
      "metadata": {
        "id": "aXZA5S-7Y7hm",
        "colab_type": "code",
        "outputId": "745e6979-68df-453b-c920-7837b0692bd3",
        "colab": {
          "base_uri": "https://localhost:8080/",
          "height": 52
        }
      },
      "source": [
        "# your code here\n",
        "pd.value_counts('nasa')"
      ],
      "execution_count": 0,
      "outputs": [
        {
          "output_type": "execute_result",
          "data": {
            "text/plain": [
              "nasa    4\n",
              "dtype: int64"
            ]
          },
          "metadata": {
            "tags": []
          },
          "execution_count": 29
        }
      ]
    },
    {
      "cell_type": "markdown",
      "metadata": {
        "id": "scr90yPRY7hz",
        "colab_type": "text"
      },
      "source": [
        "Finally, let's save the dataframe as a json file again. Save the dataframe using the `orient=records` argument and name the file `nasa-output.json`. Remember to save the file inside the `data` folder."
      ]
    },
    {
      "cell_type": "code",
      "metadata": {
        "id": "Dhu49T1aY7h3",
        "colab_type": "code",
        "colab": {}
      },
      "source": [
        "# your code here\n",
        "data.sample(nasa).to_json('data/nasa-output.json', orient='records')"
      ],
      "execution_count": 0,
      "outputs": []
    },
    {
      "cell_type": "markdown",
      "metadata": {
        "id": "OgTEi240Y7iB",
        "colab_type": "text"
      },
      "source": [
        "## Challenge 2 - Working with CSV and Other Separated Files\n",
        "\n",
        "CSV files are more commonly used as dataframes. In the cell below, load the file from the URL provided using the `read_csv()` function in pandas. Starting version 0.19 of pandas, you can load a CSV file into a dataframe directly from a URL without having to load the file first and then transform it. The dataset we will be using contains information about NASA shuttles.\n",
        "\n",
        "In the cell below, we define the column names and the URL of the data. Following this cell, read the tst file to a variable called `shuttle`. Since the file does not contain the column names, you must add them yourself using the column names declared in `cols` using the `names` argument. Additionally, a tst file is space separated, make sure you pass ` sep=' '` to the function."
      ]
    },
    {
      "cell_type": "code",
      "metadata": {
        "id": "dOlH4s8kY7iF",
        "colab_type": "code",
        "colab": {}
      },
      "source": [
        "cols = ['time', 'rad_flow', 'fpv_close', 'fpv_open', 'high', 'bypass', 'bpv_close', 'bpv_open', 'class']\n",
        "tst_url = 'https://archive.ics.uci.edu/ml/machine-learning-databases/statlog/shuttle/shuttle.tst'"
      ],
      "execution_count": 0,
      "outputs": []
    },
    {
      "cell_type": "code",
      "metadata": {
        "id": "_seaCoVAY7iR",
        "colab_type": "code",
        "outputId": "acdc442b-c420-4e5a-be93-cd5b7112229a",
        "colab": {
          "base_uri": "https://localhost:8080/",
          "height": 424
        }
      },
      "source": [
        "# your code here\n",
        "shuttle = pd.read_csv(tst_url, sep=' ', names=cols)"
      ],
      "execution_count": 0,
      "outputs": [
        {
          "output_type": "execute_result",
          "data": {
            "text/html": [
              "<div>\n",
              "<style scoped>\n",
              "    .dataframe tbody tr th:only-of-type {\n",
              "        vertical-align: middle;\n",
              "    }\n",
              "\n",
              "    .dataframe tbody tr th {\n",
              "        vertical-align: top;\n",
              "    }\n",
              "\n",
              "    .dataframe thead th {\n",
              "        text-align: right;\n",
              "    }\n",
              "</style>\n",
              "<table border=\"1\" class=\"dataframe\">\n",
              "  <thead>\n",
              "    <tr style=\"text-align: right;\">\n",
              "      <th></th>\n",
              "      <th>time</th>\n",
              "      <th>rad_flow</th>\n",
              "      <th>fpv_close</th>\n",
              "      <th>fpv_open</th>\n",
              "      <th>high</th>\n",
              "      <th>bypass</th>\n",
              "      <th>bpv_close</th>\n",
              "      <th>bpv_open</th>\n",
              "      <th>class</th>\n",
              "    </tr>\n",
              "  </thead>\n",
              "  <tbody>\n",
              "    <tr>\n",
              "      <th>55</th>\n",
              "      <td>0</td>\n",
              "      <td>81</td>\n",
              "      <td>0</td>\n",
              "      <td>-6</td>\n",
              "      <td>11</td>\n",
              "      <td>25</td>\n",
              "      <td>88</td>\n",
              "      <td>64</td>\n",
              "      <td>4</td>\n",
              "    </tr>\n",
              "    <tr>\n",
              "      <th>56</th>\n",
              "      <td>0</td>\n",
              "      <td>96</td>\n",
              "      <td>0</td>\n",
              "      <td>52</td>\n",
              "      <td>-4</td>\n",
              "      <td>40</td>\n",
              "      <td>44</td>\n",
              "      <td>4</td>\n",
              "      <td>4</td>\n",
              "    </tr>\n",
              "    <tr>\n",
              "      <th>50</th>\n",
              "      <td>-1</td>\n",
              "      <td>89</td>\n",
              "      <td>-7</td>\n",
              "      <td>50</td>\n",
              "      <td>0</td>\n",
              "      <td>39</td>\n",
              "      <td>40</td>\n",
              "      <td>2</td>\n",
              "      <td>1</td>\n",
              "    </tr>\n",
              "    <tr>\n",
              "      <th>53</th>\n",
              "      <td>9</td>\n",
              "      <td>79</td>\n",
              "      <td>0</td>\n",
              "      <td>42</td>\n",
              "      <td>-2</td>\n",
              "      <td>25</td>\n",
              "      <td>37</td>\n",
              "      <td>12</td>\n",
              "      <td>4</td>\n",
              "    </tr>\n",
              "    <tr>\n",
              "      <th>55</th>\n",
              "      <td>2</td>\n",
              "      <td>82</td>\n",
              "      <td>0</td>\n",
              "      <td>54</td>\n",
              "      <td>-6</td>\n",
              "      <td>26</td>\n",
              "      <td>28</td>\n",
              "      <td>2</td>\n",
              "      <td>1</td>\n",
              "    </tr>\n",
              "    <tr>\n",
              "      <th>...</th>\n",
              "      <td>...</td>\n",
              "      <td>...</td>\n",
              "      <td>...</td>\n",
              "      <td>...</td>\n",
              "      <td>...</td>\n",
              "      <td>...</td>\n",
              "      <td>...</td>\n",
              "      <td>...</td>\n",
              "      <td>...</td>\n",
              "    </tr>\n",
              "    <tr>\n",
              "      <th>80</th>\n",
              "      <td>0</td>\n",
              "      <td>84</td>\n",
              "      <td>0</td>\n",
              "      <td>-36</td>\n",
              "      <td>-29</td>\n",
              "      <td>4</td>\n",
              "      <td>120</td>\n",
              "      <td>116</td>\n",
              "      <td>5</td>\n",
              "    </tr>\n",
              "    <tr>\n",
              "      <th>55</th>\n",
              "      <td>0</td>\n",
              "      <td>81</td>\n",
              "      <td>0</td>\n",
              "      <td>-20</td>\n",
              "      <td>25</td>\n",
              "      <td>26</td>\n",
              "      <td>102</td>\n",
              "      <td>76</td>\n",
              "      <td>4</td>\n",
              "    </tr>\n",
              "    <tr>\n",
              "      <th>55</th>\n",
              "      <td>0</td>\n",
              "      <td>77</td>\n",
              "      <td>0</td>\n",
              "      <td>12</td>\n",
              "      <td>-22</td>\n",
              "      <td>22</td>\n",
              "      <td>65</td>\n",
              "      <td>42</td>\n",
              "      <td>4</td>\n",
              "    </tr>\n",
              "    <tr>\n",
              "      <th>37</th>\n",
              "      <td>0</td>\n",
              "      <td>103</td>\n",
              "      <td>0</td>\n",
              "      <td>18</td>\n",
              "      <td>-16</td>\n",
              "      <td>66</td>\n",
              "      <td>85</td>\n",
              "      <td>20</td>\n",
              "      <td>1</td>\n",
              "    </tr>\n",
              "    <tr>\n",
              "      <th>56</th>\n",
              "      <td>2</td>\n",
              "      <td>98</td>\n",
              "      <td>0</td>\n",
              "      <td>52</td>\n",
              "      <td>1</td>\n",
              "      <td>42</td>\n",
              "      <td>46</td>\n",
              "      <td>4</td>\n",
              "      <td>4</td>\n",
              "    </tr>\n",
              "  </tbody>\n",
              "</table>\n",
              "<p>14500 rows × 9 columns</p>\n",
              "</div>"
            ],
            "text/plain": [
              "    time  rad_flow  fpv_close  fpv_open  ...  bypass  bpv_close  bpv_open  class\n",
              "55     0        81          0        -6  ...      25         88        64      4\n",
              "56     0        96          0        52  ...      40         44         4      4\n",
              "50    -1        89         -7        50  ...      39         40         2      1\n",
              "53     9        79          0        42  ...      25         37        12      4\n",
              "55     2        82          0        54  ...      26         28         2      1\n",
              "..   ...       ...        ...       ...  ...     ...        ...       ...    ...\n",
              "80     0        84          0       -36  ...       4        120       116      5\n",
              "55     0        81          0       -20  ...      26        102        76      4\n",
              "55     0        77          0        12  ...      22         65        42      4\n",
              "37     0       103          0        18  ...      66         85        20      1\n",
              "56     2        98          0        52  ...      42         46         4      4\n",
              "\n",
              "[14500 rows x 9 columns]"
            ]
          },
          "metadata": {
            "tags": []
          },
          "execution_count": 41
        }
      ]
    },
    {
      "cell_type": "markdown",
      "metadata": {
        "id": "KVtG_3CAY7ia",
        "colab_type": "text"
      },
      "source": [
        "Let's verify that this worked by looking at the `head()` function."
      ]
    },
    {
      "cell_type": "code",
      "metadata": {
        "id": "518fspgrY7ic",
        "colab_type": "code",
        "outputId": "a22e434e-4264-4003-f998-ec8f56cb8d3f",
        "colab": {
          "base_uri": "https://localhost:8080/",
          "height": 206
        }
      },
      "source": [
        "# your code here\n",
        "shuttle.head()"
      ],
      "execution_count": 0,
      "outputs": [
        {
          "output_type": "execute_result",
          "data": {
            "text/html": [
              "<div>\n",
              "<style scoped>\n",
              "    .dataframe tbody tr th:only-of-type {\n",
              "        vertical-align: middle;\n",
              "    }\n",
              "\n",
              "    .dataframe tbody tr th {\n",
              "        vertical-align: top;\n",
              "    }\n",
              "\n",
              "    .dataframe thead th {\n",
              "        text-align: right;\n",
              "    }\n",
              "</style>\n",
              "<table border=\"1\" class=\"dataframe\">\n",
              "  <thead>\n",
              "    <tr style=\"text-align: right;\">\n",
              "      <th></th>\n",
              "      <th>time</th>\n",
              "      <th>rad_flow</th>\n",
              "      <th>fpv_close</th>\n",
              "      <th>fpv_open</th>\n",
              "      <th>high</th>\n",
              "      <th>bypass</th>\n",
              "      <th>bpv_close</th>\n",
              "      <th>bpv_open</th>\n",
              "      <th>class</th>\n",
              "    </tr>\n",
              "  </thead>\n",
              "  <tbody>\n",
              "    <tr>\n",
              "      <th>55</th>\n",
              "      <td>0</td>\n",
              "      <td>81</td>\n",
              "      <td>0</td>\n",
              "      <td>-6</td>\n",
              "      <td>11</td>\n",
              "      <td>25</td>\n",
              "      <td>88</td>\n",
              "      <td>64</td>\n",
              "      <td>4</td>\n",
              "    </tr>\n",
              "    <tr>\n",
              "      <th>56</th>\n",
              "      <td>0</td>\n",
              "      <td>96</td>\n",
              "      <td>0</td>\n",
              "      <td>52</td>\n",
              "      <td>-4</td>\n",
              "      <td>40</td>\n",
              "      <td>44</td>\n",
              "      <td>4</td>\n",
              "      <td>4</td>\n",
              "    </tr>\n",
              "    <tr>\n",
              "      <th>50</th>\n",
              "      <td>-1</td>\n",
              "      <td>89</td>\n",
              "      <td>-7</td>\n",
              "      <td>50</td>\n",
              "      <td>0</td>\n",
              "      <td>39</td>\n",
              "      <td>40</td>\n",
              "      <td>2</td>\n",
              "      <td>1</td>\n",
              "    </tr>\n",
              "    <tr>\n",
              "      <th>53</th>\n",
              "      <td>9</td>\n",
              "      <td>79</td>\n",
              "      <td>0</td>\n",
              "      <td>42</td>\n",
              "      <td>-2</td>\n",
              "      <td>25</td>\n",
              "      <td>37</td>\n",
              "      <td>12</td>\n",
              "      <td>4</td>\n",
              "    </tr>\n",
              "    <tr>\n",
              "      <th>55</th>\n",
              "      <td>2</td>\n",
              "      <td>82</td>\n",
              "      <td>0</td>\n",
              "      <td>54</td>\n",
              "      <td>-6</td>\n",
              "      <td>26</td>\n",
              "      <td>28</td>\n",
              "      <td>2</td>\n",
              "      <td>1</td>\n",
              "    </tr>\n",
              "  </tbody>\n",
              "</table>\n",
              "</div>"
            ],
            "text/plain": [
              "    time  rad_flow  fpv_close  fpv_open  ...  bypass  bpv_close  bpv_open  class\n",
              "55     0        81          0        -6  ...      25         88        64      4\n",
              "56     0        96          0        52  ...      40         44         4      4\n",
              "50    -1        89         -7        50  ...      39         40         2      1\n",
              "53     9        79          0        42  ...      25         37        12      4\n",
              "55     2        82          0        54  ...      26         28         2      1\n",
              "\n",
              "[5 rows x 9 columns]"
            ]
          },
          "metadata": {
            "tags": []
          },
          "execution_count": 42
        }
      ]
    },
    {
      "cell_type": "markdown",
      "metadata": {
        "id": "fQms1Q4PY7iz",
        "colab_type": "text"
      },
      "source": [
        "To make life easier for us, let's turn this dataframe into a comma separated file by saving it using the `to_csv()` function. Save `shuttle` into the file `shuttle.csv` and ensure the file is comma separated, that we are not saving the index column and that the file is saved inside the `data` folder."
      ]
    },
    {
      "cell_type": "code",
      "metadata": {
        "id": "nMimePHJY7i3",
        "colab_type": "code",
        "colab": {}
      },
      "source": [
        "# your code here\n",
        "data.sample(shuttle).to_csv('data/shuttle.csv', sep = ',')"
      ],
      "execution_count": 0,
      "outputs": []
    },
    {
      "cell_type": "markdown",
      "metadata": {
        "id": "_Z32JamfY7jD",
        "colab_type": "text"
      },
      "source": [
        "# Challenge 3 - Working with Excel Files\n",
        "\n",
        "We can also use pandas to convert excel spreadsheets to dataframes. Let's use the `read_excel()` function. In this case, `astronauts.xls` is in the `data` folder. Read this file into a variable called `astronaut`. \n",
        "\n",
        "Note: Make sure to install the `xlrd` library if it is not yet installed."
      ]
    },
    {
      "cell_type": "code",
      "metadata": {
        "id": "zhznsklRY7jF",
        "colab_type": "code",
        "colab": {}
      },
      "source": [
        "# your code here\n",
        "astronauts = pd.read_excel('/astronauts.xls')"
      ],
      "execution_count": 0,
      "outputs": []
    },
    {
      "cell_type": "markdown",
      "metadata": {
        "id": "SQhE-KLmY7jP",
        "colab_type": "text"
      },
      "source": [
        "Use the `head()` function to inspect the dataframe."
      ]
    },
    {
      "cell_type": "code",
      "metadata": {
        "id": "c7ZoqwN7Y7jR",
        "colab_type": "code",
        "outputId": "4b82ecfb-6fcc-44ba-96b5-c8d8280cb28a",
        "colab": {
          "base_uri": "https://localhost:8080/",
          "height": 626
        }
      },
      "source": [
        "# your code here\n",
        "\n",
        "astronauts.head()"
      ],
      "execution_count": 0,
      "outputs": [
        {
          "output_type": "execute_result",
          "data": {
            "text/html": [
              "<div>\n",
              "<style scoped>\n",
              "    .dataframe tbody tr th:only-of-type {\n",
              "        vertical-align: middle;\n",
              "    }\n",
              "\n",
              "    .dataframe tbody tr th {\n",
              "        vertical-align: top;\n",
              "    }\n",
              "\n",
              "    .dataframe thead th {\n",
              "        text-align: right;\n",
              "    }\n",
              "</style>\n",
              "<table border=\"1\" class=\"dataframe\">\n",
              "  <thead>\n",
              "    <tr style=\"text-align: right;\">\n",
              "      <th></th>\n",
              "      <th>Name</th>\n",
              "      <th>Year</th>\n",
              "      <th>Group</th>\n",
              "      <th>Status</th>\n",
              "      <th>Birth Date</th>\n",
              "      <th>Birth Place</th>\n",
              "      <th>Gender</th>\n",
              "      <th>Alma Mater</th>\n",
              "      <th>Undergraduate Major</th>\n",
              "      <th>Graduate Major</th>\n",
              "      <th>Military Rank</th>\n",
              "      <th>Military Branch</th>\n",
              "      <th>Space Flights</th>\n",
              "      <th>Space Flight (hr)</th>\n",
              "      <th>Space Walks</th>\n",
              "      <th>Space Walks (hr)</th>\n",
              "      <th>Missions</th>\n",
              "      <th>Death Date</th>\n",
              "      <th>Death Mission</th>\n",
              "    </tr>\n",
              "  </thead>\n",
              "  <tbody>\n",
              "    <tr>\n",
              "      <th>0</th>\n",
              "      <td>Joseph M. Acaba</td>\n",
              "      <td>2004.0</td>\n",
              "      <td>19.0</td>\n",
              "      <td>Active</td>\n",
              "      <td>1967-05-17</td>\n",
              "      <td>Inglewood, CA</td>\n",
              "      <td>Male</td>\n",
              "      <td>University of California-Santa Barbara; Univer...</td>\n",
              "      <td>Geology</td>\n",
              "      <td>Geology</td>\n",
              "      <td>NaN</td>\n",
              "      <td>NaN</td>\n",
              "      <td>2</td>\n",
              "      <td>3307</td>\n",
              "      <td>2</td>\n",
              "      <td>13.0</td>\n",
              "      <td>STS-119 (Discovery), ISS-31/32 (Soyuz)</td>\n",
              "      <td>NaT</td>\n",
              "      <td>NaN</td>\n",
              "    </tr>\n",
              "    <tr>\n",
              "      <th>1</th>\n",
              "      <td>Loren W. Acton</td>\n",
              "      <td>NaN</td>\n",
              "      <td>NaN</td>\n",
              "      <td>Retired</td>\n",
              "      <td>1936-03-07</td>\n",
              "      <td>Lewiston, MT</td>\n",
              "      <td>Male</td>\n",
              "      <td>Montana State University; University of Colorado</td>\n",
              "      <td>Engineering Physics</td>\n",
              "      <td>Solar Physics</td>\n",
              "      <td>NaN</td>\n",
              "      <td>NaN</td>\n",
              "      <td>1</td>\n",
              "      <td>190</td>\n",
              "      <td>0</td>\n",
              "      <td>0.0</td>\n",
              "      <td>STS 51-F (Challenger)</td>\n",
              "      <td>NaT</td>\n",
              "      <td>NaN</td>\n",
              "    </tr>\n",
              "    <tr>\n",
              "      <th>2</th>\n",
              "      <td>James C. Adamson</td>\n",
              "      <td>1984.0</td>\n",
              "      <td>10.0</td>\n",
              "      <td>Retired</td>\n",
              "      <td>1946-03-03</td>\n",
              "      <td>Warsaw, NY</td>\n",
              "      <td>Male</td>\n",
              "      <td>US Military Academy; Princeton University</td>\n",
              "      <td>Engineering</td>\n",
              "      <td>Aerospace Engineering</td>\n",
              "      <td>Colonel</td>\n",
              "      <td>US Army (Retired)</td>\n",
              "      <td>2</td>\n",
              "      <td>334</td>\n",
              "      <td>0</td>\n",
              "      <td>0.0</td>\n",
              "      <td>STS-28 (Columbia), STS-43 (Atlantis)</td>\n",
              "      <td>NaT</td>\n",
              "      <td>NaN</td>\n",
              "    </tr>\n",
              "    <tr>\n",
              "      <th>3</th>\n",
              "      <td>Thomas D. Akers</td>\n",
              "      <td>1987.0</td>\n",
              "      <td>12.0</td>\n",
              "      <td>Retired</td>\n",
              "      <td>1951-05-20</td>\n",
              "      <td>St. Louis, MO</td>\n",
              "      <td>Male</td>\n",
              "      <td>University of Missouri-Rolla</td>\n",
              "      <td>Applied Mathematics</td>\n",
              "      <td>Applied Mathematics</td>\n",
              "      <td>Colonel</td>\n",
              "      <td>US Air Force (Retired)</td>\n",
              "      <td>4</td>\n",
              "      <td>814</td>\n",
              "      <td>4</td>\n",
              "      <td>29.0</td>\n",
              "      <td>STS-41 (Discovery), STS-49 (Endeavor), STS-61 ...</td>\n",
              "      <td>NaT</td>\n",
              "      <td>NaN</td>\n",
              "    </tr>\n",
              "    <tr>\n",
              "      <th>4</th>\n",
              "      <td>Buzz Aldrin</td>\n",
              "      <td>1963.0</td>\n",
              "      <td>3.0</td>\n",
              "      <td>Retired</td>\n",
              "      <td>1930-01-20</td>\n",
              "      <td>Montclair, NJ</td>\n",
              "      <td>Male</td>\n",
              "      <td>US Military Academy; MIT</td>\n",
              "      <td>Mechanical Engineering</td>\n",
              "      <td>Astronautics</td>\n",
              "      <td>Colonel</td>\n",
              "      <td>US Air Force (Retired)</td>\n",
              "      <td>2</td>\n",
              "      <td>289</td>\n",
              "      <td>2</td>\n",
              "      <td>8.0</td>\n",
              "      <td>Gemini 12, Apollo 11</td>\n",
              "      <td>NaT</td>\n",
              "      <td>NaN</td>\n",
              "    </tr>\n",
              "  </tbody>\n",
              "</table>\n",
              "</div>"
            ],
            "text/plain": [
              "               Name    Year  ...  Death Date Death Mission\n",
              "0   Joseph M. Acaba  2004.0  ...         NaT           NaN\n",
              "1    Loren W. Acton     NaN  ...         NaT           NaN\n",
              "2  James C. Adamson  1984.0  ...         NaT           NaN\n",
              "3   Thomas D. Akers  1987.0  ...         NaT           NaN\n",
              "4       Buzz Aldrin  1963.0  ...         NaT           NaN\n",
              "\n",
              "[5 rows x 19 columns]"
            ]
          },
          "metadata": {
            "tags": []
          },
          "execution_count": 23
        }
      ]
    },
    {
      "cell_type": "markdown",
      "metadata": {
        "id": "wxgout1WY7jf",
        "colab_type": "text"
      },
      "source": [
        "Use the `value_counts()` function to find the most popular undergraduate major among all astronauts."
      ]
    },
    {
      "cell_type": "code",
      "metadata": {
        "id": "uiqSf6dbY7jk",
        "colab_type": "code",
        "outputId": "92c1904d-cf31-4f06-da8d-4a5338691835",
        "colab": {
          "base_uri": "https://localhost:8080/",
          "height": 52
        }
      },
      "source": [
        "# your code here\n",
        "pd.value_counts('astronauts')"
      ],
      "execution_count": 0,
      "outputs": [
        {
          "output_type": "execute_result",
          "data": {
            "text/plain": [
              "astronauts    10\n",
              "dtype: int64"
            ]
          },
          "metadata": {
            "tags": []
          },
          "execution_count": 28
        }
      ]
    },
    {
      "cell_type": "markdown",
      "metadata": {
        "id": "kgNMuypkY7jw",
        "colab_type": "text"
      },
      "source": [
        "Due to all the commas present in the cells of this file, let's save it as a tab separated csv file. In the cell below, save `astronaut` as a **tab separated file** using the `to_csv` function. Call the file `astronaut.csv`. Remember to remove the index column and save the file in the `data` folder."
      ]
    },
    {
      "cell_type": "code",
      "metadata": {
        "id": "VIrBZ2NwY7jz",
        "colab_type": "code",
        "colab": {}
      },
      "source": [
        "# your code here\n",
        "data.sample(astronauts).to_csv('data/astronaut.csv', sep=' ', index=False)"
      ],
      "execution_count": 0,
      "outputs": []
    },
    {
      "cell_type": "markdown",
      "metadata": {
        "id": "j_r1xMBcY7j_",
        "colab_type": "text"
      },
      "source": [
        "# Bonus Challenge - Fertility Dataset\n",
        "\n",
        "Visit the following [URL](https://archive.ics.uci.edu/ml/datasets/Fertility) and retrieve the dataset as well as the column headers. Determine the correct separator and read the file into a variable called `fertility`. Examine the dataframe using the `head()` function. \n",
        "\n",
        "Look in Google for a way to retrieve this data!"
      ]
    },
    {
      "cell_type": "code",
      "metadata": {
        "id": "bNTH0RSDY7kC",
        "colab_type": "code",
        "colab": {}
      },
      "source": [
        "# your code here"
      ],
      "execution_count": 0,
      "outputs": []
    }
  ]
}