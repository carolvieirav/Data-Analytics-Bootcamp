{
 "cells": [
  {
   "cell_type": "markdown",
   "metadata": {
    "colab_type": "text",
    "id": "view-in-github"
   },
   "source": [
    "<a href=\"https://colab.research.google.com/github/carolvieirav/Labs/blob/master/lab_data_manipulation_part1_and_part2.ipynb\" target=\"_parent\"><img src=\"https://colab.research.google.com/assets/colab-badge.svg\" alt=\"Open In Colab\"/></a>"
   ]
  },
  {
   "cell_type": "markdown",
   "metadata": {
    "colab_type": "text",
    "id": "bWHFDbJXmeRd"
   },
   "source": [
    "# Lab-Data-Manipulation (PART-1)"
   ]
  },
  {
   "cell_type": "code",
   "execution_count": null,
   "metadata": {
    "colab": {},
    "colab_type": "code",
    "id": "nOIejjummeRl"
   },
   "outputs": [],
   "source": [
    "import pandas as pd"
   ]
  },
  {
   "cell_type": "markdown",
   "metadata": {
    "colab_type": "text",
    "id": "-zbVdbr6meR8"
   },
   "source": [
    "# Context \n",
    "\n",
    "For this lab you'll use a dataset for UFO observations. The objective is to exercise the manipulation of a dataframe, so we'll use the tools we've learned about `reading`, `renaming`, `selecting specific columns`, `filtering based on conditions` and `merging` dataframes to try to better understand our dataset and store an enriched version of our dataset at the end.\n",
    "\n",
    "Good Luck."
   ]
  },
  {
   "cell_type": "markdown",
   "metadata": {
    "colab_type": "text",
    "id": "J3UjjXwhmeSA"
   },
   "source": [
    "variable\t|class|\tdescription\n",
    "------------|-----|-------------\n",
    "date_time\t|datetime (mdy h:m)\t| Date time sighting occurred\n",
    "city_area\t|character\t        | City or area of sighting\n",
    "state\t    |character          |\tstate/region of sighting\n",
    "country\t    |character          |\tCountry of sighting\n",
    "ufo_shape\t|character          |\tUFO Shape\n",
    "encounter_length\t|double     |\tEncounter length in seconds\n",
    "described_encounter_length\t|character |\tEncounter length as described (eg 1 hour, etc)\n",
    "description\t|character          |\tDescription of encounter\n",
    "date_documented\t|character      |\tDate documented\n",
    "latitude\t|double             |\tLatitude\n",
    "longitude\t|double             |\tLongitude"
   ]
  },
  {
   "cell_type": "markdown",
   "metadata": {
    "colab_type": "text",
    "id": "P8M1eZERmeSD"
   },
   "source": [
    "## Read the dataset and store it in a dataframe called `ufo`\n",
    "\n",
    "Pay attention at the file separator."
   ]
  },
  {
   "cell_type": "code",
   "execution_count": null,
   "metadata": {
    "colab": {},
    "colab_type": "code",
    "id": "9b8JO5r6meSI",
    "scrolled": true
   },
   "outputs": [],
   "source": [
    "ufo = pd.read_csv('/content/ufo.csv', sep=';')"
   ]
  },
  {
   "cell_type": "markdown",
   "metadata": {
    "colab_type": "text",
    "id": "10IH3cNvmeSS"
   },
   "source": [
    "## Check the first 6 columns of the dataframe"
   ]
  },
  {
   "cell_type": "code",
   "execution_count": null,
   "metadata": {
    "colab": {
     "base_uri": "https://localhost:8080/",
     "height": 640
    },
    "colab_type": "code",
    "id": "fNxryw5AmeSX",
    "outputId": "431dbc31-6e5c-427f-fa91-b32369b8b320",
    "scrolled": true
   },
   "outputs": [],
   "source": [
    "ufo.head(6)"
   ]
  },
  {
   "cell_type": "markdown",
   "metadata": {
    "colab_type": "text",
    "id": "nou8d4G7meSh"
   },
   "source": [
    "## Check the shape of your dataframe to see how many rows and columns it has"
   ]
  },
  {
   "cell_type": "code",
   "execution_count": null,
   "metadata": {
    "colab": {
     "base_uri": "https://localhost:8080/",
     "height": 34
    },
    "colab_type": "code",
    "id": "tSc7z6UQmeSl",
    "outputId": "8cf29c17-5909-4a53-b759-fbf35e23f795"
   },
   "outputs": [],
   "source": [
    "ufo.shape"
   ]
  },
  {
   "cell_type": "markdown",
   "metadata": {
    "colab_type": "text",
    "id": "M6dq0Wq4meSy"
   },
   "source": [
    "## Bring the date information to the beginning of the dataframe\n",
    "\n",
    "If you check the dataframe columns, there are some information of the date at the end of the dataframe. For this task, you should reorder the columns in a way that the first few columns all show the date information. \n",
    "\n",
    "*Hint: Use the ufo.columns to see all the column names you have."
   ]
  },
  {
   "cell_type": "code",
   "execution_count": null,
   "metadata": {
    "colab": {},
    "colab_type": "code",
    "id": "EeVzV5CNmeS1"
   },
   "outputs": [],
   "source": [
    "ufo_columns = ['Unnamed: 0', 'date', 'year', 'month', 'day', 'date_time', 'date_documented', 'city_area',\n",
    "       'state', 'country', 'ufo_shape', 'encounter_length',\n",
    "       'described_encounter_length', 'description',\n",
    "       'latitude', 'longitude']\n",
    "\n",
    "\n",
    "ufo = ufo[ufo_columns]"
   ]
  },
  {
   "cell_type": "code",
   "execution_count": null,
   "metadata": {
    "colab": {},
    "colab_type": "code",
    "id": "jicNIdmJmeS9"
   },
   "outputs": [],
   "source": []
  },
  {
   "cell_type": "markdown",
   "metadata": {
    "colab_type": "text",
    "id": "b87WLeSqmeTH"
   },
   "source": [
    "## Just check if you did it the right way. Take a look at the head of the dataframe again and see if the `ufo` dataframe now is reordered."
   ]
  },
  {
   "cell_type": "code",
   "execution_count": null,
   "metadata": {
    "colab": {
     "base_uri": "https://localhost:8080/",
     "height": 556
    },
    "colab_type": "code",
    "id": "spjallVAmeTL",
    "outputId": "cea57899-859a-4a31-d1a8-3c340e21c2e1",
    "scrolled": true
   },
   "outputs": [],
   "source": [
    "ufo.head()"
   ]
  },
  {
   "cell_type": "markdown",
   "metadata": {
    "colab_type": "text",
    "id": "Nf-SGL-DmeTS"
   },
   "source": [
    "## Select a piece of your dataframe. Create a new dataframe called `ufo_vars` and select only the following columns of the `ufo` dataframe. \n",
    "\n",
    "`year`, `month`, `state`, `country`, `ufo_shape`, `encounter_length`"
   ]
  },
  {
   "cell_type": "code",
   "execution_count": null,
   "metadata": {
    "colab": {},
    "colab_type": "code",
    "id": "MMUEeAjPmeTV"
   },
   "outputs": [],
   "source": [
    "vars_columns = ['year', 'month', 'state', 'country', 'ufo_shape', 'encounter_length']\n",
    "ufo_vars = ufo.loc[:, vars_columns]"
   ]
  },
  {
   "cell_type": "markdown",
   "metadata": {
    "colab_type": "text",
    "id": "TfrrcessmeTe"
   },
   "source": [
    "Perform a *.head()* on your result to check if you did it right."
   ]
  },
  {
   "cell_type": "code",
   "execution_count": null,
   "metadata": {
    "colab": {
     "base_uri": "https://localhost:8080/",
     "height": 206
    },
    "colab_type": "code",
    "id": "hhE2Z118meTk",
    "outputId": "842f147f-3b84-4353-d785-58521d7f29f8"
   },
   "outputs": [],
   "source": [
    "ufo_vars.head()"
   ]
  },
  {
   "cell_type": "markdown",
   "metadata": {
    "colab_type": "text",
    "id": "wfN1tV27meTt"
   },
   "source": [
    "## Rename the variable `encounter_length` to `encounter_seconds`. Keep using the `ufo_vars` dataset for the following tasks, unless specifically specified.\n",
    "\n",
    "Again, check your results to check if you did it right."
   ]
  },
  {
   "cell_type": "code",
   "execution_count": null,
   "metadata": {
    "colab": {
     "base_uri": "https://localhost:8080/",
     "height": 206
    },
    "colab_type": "code",
    "id": "UYEAeCxHXQv0",
    "outputId": "780136c2-8222-4c98-f6de-7ee622181dbe"
   },
   "outputs": [],
   "source": [
    "ufo_vars = ufo_vars.rename({'encounter_length':'encounter_seconds'},axis=1)\n",
    "ufo_vars.head()"
   ]
  },
  {
   "cell_type": "markdown",
   "metadata": {
    "colab_type": "text",
    "id": "F9COxuDemeT6"
   },
   "source": [
    "## Let's start filtering some records. Create a new dataframe called `ufo_us` and filter the `ufo_vars` dataframe bringing only the results in which the `country` is `\"us\"`"
   ]
  },
  {
   "cell_type": "markdown",
   "metadata": {
    "colab_type": "text",
    "id": "eXeuw6I8meT9"
   },
   "source": [
    "### Use a mask to perform this task \n",
    "\n",
    "A `mask` is nothing more than a condition. This condition is applied to your whole dataframe (or pandas Series).\n",
    "So for example, if you had a pandas Series with a variable called `Age`, you could create a mask for all people whose `Age` is less than 18 years old using the syntax:\n",
    "\n",
    "`df['Age'] <= 18`\n",
    "\n",
    "This would return a pandas series containing `True` and `False` values. For each index, you'd get a value of `True` or `False`.\n",
    "\n",
    "You could save this mask in a variable, for example:\n",
    "\n",
    "`condition = (df['Age'] <= 18)`\n",
    "\n",
    "And then you could use that variable `condition` to select only the cases of the dataframe in which the index returned `True` using:\n",
    "df[condition]."
   ]
  },
  {
   "cell_type": "code",
   "execution_count": null,
   "metadata": {
    "colab": {
     "base_uri": "https://localhost:8080/",
     "height": 424
    },
    "colab_type": "code",
    "id": "7fEgmPLcmeUA",
    "outputId": "48002155-2bf3-4642-d4c1-2984e5523da4"
   },
   "outputs": [],
   "source": [
    "cond = (ufo_vars['country'] == 'us')\n",
    "ufo_us = ufo_vars[cond]\n",
    "ufo_us"
   ]
  },
  {
   "cell_type": "markdown",
   "metadata": {
    "colab_type": "text",
    "id": "u8Rn291smeUK"
   },
   "source": [
    "### Use the .query() method to perform the same task\n",
    "\n",
    "Remember that the .query() method expects a string. That string should contain the variable of your dataframe without quotation marks and the comparison. For example, if you had a variable called `name`, you'd use a syntax like:\n",
    " `df.query('name == \"Jack\"')`\n",
    " \n",
    "to bring all observations whose column `name` is exactly equal to `\"Jack\"` (note that Jack should be within quotation marks because a name is a string in this example)."
   ]
  },
  {
   "cell_type": "code",
   "execution_count": null,
   "metadata": {
    "colab": {
     "base_uri": "https://localhost:8080/",
     "height": 424
    },
    "colab_type": "code",
    "id": "yoFsYojLmeUN",
    "outputId": "05375dfc-16d4-4d5e-9c05-d541a05ae7c3"
   },
   "outputs": [],
   "source": [
    "country = ufo_vars['country']\n",
    "ufo_us = ufo_vars.query('country == \"us\"')\n",
    "ufo_us"
   ]
  },
  {
   "cell_type": "markdown",
   "metadata": {
    "colab_type": "text",
    "id": "30lbcPk6meUU"
   },
   "source": [
    "See which one do you prefer the most and keep using it for the exercises that follow"
   ]
  },
  {
   "cell_type": "markdown",
   "metadata": {
    "colab_type": "text",
    "id": "cmXE8WUCmeUW"
   },
   "source": [
    "## For the `ufo_us` dataframe, select only the cases in which the year is in the first decade (2001-2010). Put that in a variable called `ufo_us_2000`.\n",
    "\n",
    "Check your results."
   ]
  },
  {
   "cell_type": "code",
   "execution_count": null,
   "metadata": {
    "colab": {},
    "colab_type": "code",
    "id": "YaBvplb3meUZ",
    "scrolled": true
   },
   "outputs": [],
   "source": [
    "cond = (ufo_us['year'] <= 2001) & (ufo_us['year'] <= 2001)\n",
    "ufo_us_2000 = ufo_us[cond]"
   ]
  },
  {
   "cell_type": "markdown",
   "metadata": {
    "colab_type": "text",
    "id": "JlS6LPm-meUj"
   },
   "source": [
    "## Try to do the same without the intermediate step of creating the `ufo_us` dataframe. That is, try to filter the dataset for the cases in which the country is \"us\" and the year is (2001-2010)\n",
    "\n",
    "\n",
    "\n",
    "*Hint:* You have to make sure all of these conditions are applied simultaneously - using the `and` (or `&`) operator. Try to understand when to use the `and` and the `&` operator."
   ]
  },
  {
   "cell_type": "code",
   "execution_count": null,
   "metadata": {
    "colab": {},
    "colab_type": "code",
    "id": "09aYCVosmeUl"
   },
   "outputs": [],
   "source": [
    "cond1 = (ufo_vars['country'] == 'us') \n",
    "cond2 = (ufo_us['year'] <= 2001) & (ufo_us['year'] <= 2001)\n",
    "ufo_us_2000 = ufo_vars.loc[cond1 & cond2]"
   ]
  },
  {
   "cell_type": "markdown",
   "metadata": {
    "colab_type": "text",
    "id": "bWmfhChdmeUy"
   },
   "source": [
    "## BONUS 1:  Compare the number of triangular UFO occurrances (checking the `ufo_shape` variable) in the US from the year 2001 up to 2010 as compared to the years of 1991 up to 2000.\n",
    "\n",
    "*Hint: you should expect roughly ~3 times more cases for 2001-2010 than 1991-2000.*"
   ]
  },
  {
   "cell_type": "code",
   "execution_count": null,
   "metadata": {
    "colab": {},
    "colab_type": "code",
    "id": "eHonuLilmeU0",
    "scrolled": true
   },
   "outputs": [],
   "source": [
    "# calculate the dataframe from 2001-2010 here\n",
    "ufo.query('country == \"us\" and year > 2000 and year <= 2010 and ufo_shape == \"triangle\"')"
   ]
  },
  {
   "cell_type": "code",
   "execution_count": null,
   "metadata": {
    "colab": {},
    "colab_type": "code",
    "id": "IVPyQjuWmeU7"
   },
   "outputs": [],
   "source": [
    "# calculate the dataframe from 1991-2000 here\n",
    "ufo.query('country == \"us\" and year > 1990 and year <= 2000 and ufo_shape == \"triangle\"')"
   ]
  },
  {
   "cell_type": "markdown",
   "metadata": {
    "colab_type": "text",
    "id": "7FfPiJ_RmeVF"
   },
   "source": [
    "How many rows does each dataset have?"
   ]
  },
  {
   "cell_type": "markdown",
   "metadata": {
    "colab_type": "text",
    "id": "lf2oV6MEmeVI"
   },
   "source": [
    "## BONUS 1.1: How many values does each category of `ufo_shape` has. \n",
    "\n"
   ]
  },
  {
   "cell_type": "code",
   "execution_count": null,
   "metadata": {
    "colab": {},
    "colab_type": "code",
    "id": "J_zdPWsimeVM"
   },
   "outputs": [],
   "source": [
    "ufo['ufo_shape'].value_counts()"
   ]
  },
  {
   "cell_type": "markdown",
   "metadata": {
    "colab_type": "text",
    "id": "8rV9J_d2meWk"
   },
   "source": [
    "# Lab-Data-Manipulation (PART-2)"
   ]
  },
  {
   "cell_type": "markdown",
   "metadata": {
    "colab_type": "text",
    "id": "B9TiJ69fmeWp"
   },
   "source": [
    "The second part of this lab consists of grouping and merging results."
   ]
  },
  {
   "cell_type": "markdown",
   "metadata": {
    "colab_type": "text",
    "id": "I7hmh2gBmeWq"
   },
   "source": [
    "# Grouping up the results. "
   ]
  },
  {
   "cell_type": "markdown",
   "metadata": {
    "colab_type": "text",
    "id": "tlJVhFb2meWs"
   },
   "source": [
    "## Let's calculate the average of the encounter for each country.\n",
    "\n",
    "We should now group the results by the country column to see what is the mean encounter_seconds for each country. Do this using the `groupby` method of your dataframe `ufo_vars`. What is the average of the encounter for the us? And for Canada?\n",
    "\n",
    "Remember that after grouping by a column, you have to specify a `aggregating function`. If you don't do that, the results of the groupby will only be a `groupby` pandas object. For this case, we want the aggregating function to be the `mean` function and then the results will appear for us.\n",
    "\n",
    "Also remember that **if you don't** specify the `as_index=False` argument, the variables you use to group are going to become your new indexes."
   ]
  },
  {
   "cell_type": "code",
   "execution_count": null,
   "metadata": {
    "colab": {},
    "colab_type": "code",
    "id": "H80w7T-KmeWt"
   },
   "outputs": [],
   "source": [
    "import numpy as np\n",
    "\n",
    "avg_encounter = ufo_vars[['country','encounter_seconds']].groupby(by='country').agg(avg=('encounter_seconds','mean'))"
   ]
  },
  {
   "cell_type": "markdown",
   "metadata": {
    "colab_type": "text",
    "id": "yx5B0I2VmeWx"
   },
   "source": [
    "## Perform the same task, but instead of calculating the mean, count how many occurrances for each country.\n",
    "\n",
    "For this case, the aggregating function should be the `count` function. Try to understand the results for each column."
   ]
  },
  {
   "cell_type": "code",
   "execution_count": null,
   "metadata": {
    "colab": {
     "base_uri": "https://localhost:8080/",
     "height": 238
    },
    "colab_type": "code",
    "id": "AWOUwIQcmeWz",
    "outputId": "cba983f9-34be-4424-86a5-00ef9dfe0184"
   },
   "outputs": [],
   "source": [
    "count = ufo_vars[['country','encounter_seconds']].groupby(by='country').agg(count=('encounter_seconds','count'))\n",
    "count"
   ]
  },
  {
   "cell_type": "markdown",
   "metadata": {
    "colab_type": "text",
    "id": "2nbb6HdCmeW4"
   },
   "source": [
    "## Perform the same task, but instead of calculating the mean, use the `.describe()` aggregating function to see the effects.\n",
    "\n",
    "The describe aggregating function will show you several important statistics for the grouped results, such as `mean`, `median`, `standard deviation`, `count`, `max`, `min`, and so on.\n",
    "\n",
    "*Hint: If it starts to get difficult to see the results, you can tranpose the resulting dataframe by just putting a `.T` at the end.*"
   ]
  },
  {
   "cell_type": "code",
   "execution_count": null,
   "metadata": {
    "colab": {},
    "colab_type": "code",
    "id": "52frPJYOmeW5"
   },
   "outputs": [],
   "source": [
    "describe = ufo_vars[['country','encounter_seconds']].groupby(by='country').describe()"
   ]
  },
  {
   "cell_type": "markdown",
   "metadata": {
    "colab_type": "text",
    "id": "LJt2ukFsmeW_"
   },
   "source": [
    "## Now, let's get deeper in the analysis and group the results not only by country. But by `country` and `year`"
   ]
  },
  {
   "cell_type": "markdown",
   "metadata": {
    "colab_type": "text",
    "id": "Cez5wqghmeXA"
   },
   "source": [
    "### Check the values of the mean and count for the `encounter_seconds` variable for each year. Can you see some discrepancy?\n",
    "\n",
    "*Hint*: If you want, you can use the `ufo_us` dataset just to see the results for the united states. You could also (in a hacky way) perform the filter right before the groupby operation if you wanted."
   ]
  },
  {
   "cell_type": "code",
   "execution_count": null,
   "metadata": {
    "colab": {
     "base_uri": "https://localhost:8080/",
     "height": 455
    },
    "colab_type": "code",
    "id": "CwjmfKVcmeXC",
    "outputId": "3f334062-42c4-465e-a688-474cd52571bc"
   },
   "outputs": [],
   "source": [
    "ufo_vars.groupby(by=['country', 'year']).agg(mean_seconds = ('encounter_seconds', 'mean'),\n",
    "                                             count_seconds = ('encounter_seconds' , 'count'))\n"
   ]
  },
  {
   "cell_type": "markdown",
   "metadata": {
    "colab_type": "text",
    "id": "4QECYu3gmeXM"
   },
   "source": [
    "# BONUS 2: Which months are the ones with the highest numbers of occurrences?\n",
    "\n"
   ]
  },
  {
   "cell_type": "code",
   "execution_count": null,
   "metadata": {
    "colab": {},
    "colab_type": "code",
    "id": "WoTkXUl7meXO",
    "scrolled": true
   },
   "outputs": [],
   "source": [
    "ufo_vars.groupby('month').agg(occurrences = ('year', 'count')).sort_values(by = 'occurrences')"
   ]
  },
  {
   "cell_type": "markdown",
   "metadata": {
    "colab_type": "text",
    "id": "DDGsTLohmeXT"
   },
   "source": [
    "# BONUS 3: Finally, you gathered information about the UFO dataset. Using your last result, try to bring that information for your original dataset."
   ]
  },
  {
   "cell_type": "markdown",
   "metadata": {
    "colab_type": "text",
    "id": "vfEPHuajmeXV"
   },
   "source": [
    "1. Store the results of your previous analysis (the mean value for the encounter_seconds for each year and each country) in a dataframe called `avg_results`. "
   ]
  },
  {
   "cell_type": "code",
   "execution_count": null,
   "metadata": {
    "colab": {},
    "colab_type": "code",
    "id": "fLqGlkDNmeXX"
   },
   "outputs": [],
   "source": [
    "avg_results = ufo_vars[['country', 'year', 'encounter_seconds']].groupby(['country', 'year']).mean()"
   ]
  },
  {
   "cell_type": "markdown",
   "metadata": {
    "colab_type": "text",
    "id": "liDxP1c0meXn"
   },
   "source": [
    "2. Rename the column named `encounter_seconds` to `avg_encounter_seconds`."
   ]
  },
  {
   "cell_type": "code",
   "execution_count": null,
   "metadata": {
    "colab": {},
    "colab_type": "code",
    "id": "UI5YQNYEmeXp"
   },
   "outputs": [],
   "source": [
    "avg_results = avg_results.rename({'encounter_seconds':'avg_encounter_seconds'}, axis = 1)"
   ]
  },
  {
   "cell_type": "markdown",
   "metadata": {
    "colab_type": "text",
    "id": "sIbAljJXmeXu"
   },
   "source": [
    "3. Use the pd.merge( ... ) function to bring that new collected information to your original dataset.\n",
    "The pd.merge() function requires several arguments, let's understand the most important ones.\n",
    "\n",
    "`left` is the dataframe you want to bring information **to** - the table on the left. In this case, this will be our original dataframe called `ufo`\n",
    "\n",
    "`right` is the dataframe you want to bring information **from** - the table on the right. In this case, this will be our resulting dataframe `avg_results`.\n",
    "\n",
    "`on` is the key you want to perform the merge. That is, if those values are **exactly equal** in both dataframes, then the information will be brought.\n",
    "\n",
    "Put your results on a dataframe called `merged_ufo`"
   ]
  },
  {
   "cell_type": "code",
   "execution_count": null,
   "metadata": {
    "colab": {},
    "colab_type": "code",
    "id": "M6qZNHPKmeXw",
    "scrolled": true
   },
   "outputs": [],
   "source": [
    "merged_ufo = pd.merge(left = ufo, right = avg_results, on = ['country', 'year'])\n",
    "merged_ufo.head()"
   ]
  },
  {
   "cell_type": "markdown",
   "metadata": {
    "colab_type": "text",
    "id": "PM4yJApCmeXz"
   },
   "source": [
    "Check how many rows the final result has and try to explain it. Did the dataset get smaller? Bigger? Or the same? Can you explain why? \n",
    "\n",
    "*hint: If you've found something weird, try looking back at your original dataframe and find something interesting on it.*"
   ]
  },
  {
   "cell_type": "code",
   "execution_count": null,
   "metadata": {
    "colab": {},
    "colab_type": "code",
    "id": "QkW-lkrvmeX2"
   },
   "outputs": [],
   "source": [
    "merged_ufo.size"
   ]
  },
  {
   "cell_type": "markdown",
   "metadata": {
    "colab_type": "text",
    "id": "_Z-7f9BqmeX7"
   },
   "source": [
    "## Store the results into a new csv file called `ufo_enriched.csv`. \n",
    "\n",
    "Don't forget to use `index=False`."
   ]
  },
  {
   "cell_type": "code",
   "execution_count": null,
   "metadata": {
    "colab": {},
    "colab_type": "code",
    "id": "Tm67Xg2UmeX8"
   },
   "outputs": [],
   "source": [
    "merged_ufo.to_csv('ufo_enriched.csv', index = False)"
   ]
  }
 ],
 "metadata": {
  "colab": {
   "include_colab_link": true,
   "name": "lab-data-manipulation-part1-and-part2.ipynb",
   "provenance": []
  },
  "kernelspec": {
   "display_name": "Python 3",
   "language": "python",
   "name": "python3"
  },
  "language_info": {
   "codemirror_mode": {
    "name": "ipython",
    "version": 3
   },
   "file_extension": ".py",
   "mimetype": "text/x-python",
   "name": "python",
   "nbconvert_exporter": "python",
   "pygments_lexer": "ipython3",
   "version": "3.6.9"
  },
  "toc": {
   "base_numbering": 1,
   "nav_menu": {},
   "number_sections": true,
   "sideBar": true,
   "skip_h1_title": false,
   "title_cell": "Table of Contents",
   "title_sidebar": "Contents",
   "toc_cell": false,
   "toc_position": {},
   "toc_section_display": true,
   "toc_window_display": false
  }
 },
 "nbformat": 4,
 "nbformat_minor": 1
}
