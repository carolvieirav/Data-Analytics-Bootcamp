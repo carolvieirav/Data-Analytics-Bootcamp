{
 "cells": [
  {
   "cell_type": "markdown",
   "metadata": {
    "colab_type": "text",
    "id": "K8Is1eN2d44C"
   },
   "source": [
    "![Ironhack logo](https://i.imgur.com/1QgrNNw.png)\n",
    "\n",
    "# Lab | StackAPI\n",
    "Let's check if you can handle working with an API. \n",
    "\n",
    "Use [StackAPI](https://stackapi.readthedocs.io/en/latest/), a Python wrapper for the Stack Exchange API, and answer the following questions:\n",
    "\n",
    "* Question 1: Find the questions and answers of last month.\n",
    "* Question 2: Find the most voted question today with at least a score of 5 and tagged with 'python'. \n",
    "* Question 3: Find the answers with id 6784 and 6473."
   ]
  },
  {
   "cell_type": "markdown",
   "metadata": {
    "colab_type": "text",
    "id": "-yYqHg3Rd0d9"
   },
   "source": [
    "# StackAPI\n",
    "\n",
    "#### Import the necessary libraries here:"
   ]
  },
  {
   "cell_type": "code",
   "execution_count": 1,
   "metadata": {
    "colab": {},
    "colab_type": "code",
    "id": "rsr8qdkYd0eF"
   },
   "outputs": [],
   "source": [
    "# your code here\n",
    "from stackapi import StackAPI\n",
    "import requests\n",
    "import pandas as pd\n",
    "import numpy as np\n",
    "import re\n",
    "import time"
   ]
  },
  {
   "cell_type": "markdown",
   "metadata": {
    "colab_type": "text",
    "id": "NmHoOsuud0ez"
   },
   "source": [
    "#### Question 1: Find the questions and answers of last month."
   ]
  },
  {
   "cell_type": "code",
   "execution_count": 9,
   "metadata": {
    "colab": {},
    "colab_type": "code",
    "id": "EtJY_9EId0e-"
   },
   "outputs": [
    {
     "data": {
      "text/html": [
       "<div>\n",
       "<style scoped>\n",
       "    .dataframe tbody tr th:only-of-type {\n",
       "        vertical-align: middle;\n",
       "    }\n",
       "\n",
       "    .dataframe tbody tr th {\n",
       "        vertical-align: top;\n",
       "    }\n",
       "\n",
       "    .dataframe thead th {\n",
       "        text-align: right;\n",
       "    }\n",
       "</style>\n",
       "<table border=\"1\" class=\"dataframe\">\n",
       "  <thead>\n",
       "    <tr style=\"text-align: right;\">\n",
       "      <th></th>\n",
       "      <th>backoff</th>\n",
       "      <th>has_more</th>\n",
       "      <th>page</th>\n",
       "      <th>quota_max</th>\n",
       "      <th>quota_remaining</th>\n",
       "      <th>total</th>\n",
       "      <th>items</th>\n",
       "    </tr>\n",
       "  </thead>\n",
       "  <tbody>\n",
       "    <tr>\n",
       "      <th>0</th>\n",
       "      <td>0</td>\n",
       "      <td>True</td>\n",
       "      <td>5</td>\n",
       "      <td>300</td>\n",
       "      <td>300</td>\n",
       "      <td>0</td>\n",
       "      <td>{'tags': ['ios', 'swiftui'], 'owner': {'reputa...</td>\n",
       "    </tr>\n",
       "    <tr>\n",
       "      <th>1</th>\n",
       "      <td>0</td>\n",
       "      <td>True</td>\n",
       "      <td>5</td>\n",
       "      <td>300</td>\n",
       "      <td>300</td>\n",
       "      <td>0</td>\n",
       "      <td>{'tags': ['sql', 'oracle', 'plsql'], 'owner': ...</td>\n",
       "    </tr>\n",
       "    <tr>\n",
       "      <th>2</th>\n",
       "      <td>0</td>\n",
       "      <td>True</td>\n",
       "      <td>5</td>\n",
       "      <td>300</td>\n",
       "      <td>300</td>\n",
       "      <td>0</td>\n",
       "      <td>{'tags': ['c#', 'api', 'model-view-controller'...</td>\n",
       "    </tr>\n",
       "    <tr>\n",
       "      <th>3</th>\n",
       "      <td>0</td>\n",
       "      <td>True</td>\n",
       "      <td>5</td>\n",
       "      <td>300</td>\n",
       "      <td>300</td>\n",
       "      <td>0</td>\n",
       "      <td>{'tags': ['c#', 'api', 'rest', 'query-string',...</td>\n",
       "    </tr>\n",
       "    <tr>\n",
       "      <th>4</th>\n",
       "      <td>0</td>\n",
       "      <td>True</td>\n",
       "      <td>5</td>\n",
       "      <td>300</td>\n",
       "      <td>300</td>\n",
       "      <td>0</td>\n",
       "      <td>{'tags': ['c++', 'vector', 'reference', 'copy'...</td>\n",
       "    </tr>\n",
       "    <tr>\n",
       "      <th>...</th>\n",
       "      <td>...</td>\n",
       "      <td>...</td>\n",
       "      <td>...</td>\n",
       "      <td>...</td>\n",
       "      <td>...</td>\n",
       "      <td>...</td>\n",
       "      <td>...</td>\n",
       "    </tr>\n",
       "    <tr>\n",
       "      <th>495</th>\n",
       "      <td>0</td>\n",
       "      <td>True</td>\n",
       "      <td>5</td>\n",
       "      <td>300</td>\n",
       "      <td>300</td>\n",
       "      <td>0</td>\n",
       "      <td>{'tags': ['python', 'python-3.x', 'pyqt5', 'qp...</td>\n",
       "    </tr>\n",
       "    <tr>\n",
       "      <th>496</th>\n",
       "      <td>0</td>\n",
       "      <td>True</td>\n",
       "      <td>5</td>\n",
       "      <td>300</td>\n",
       "      <td>300</td>\n",
       "      <td>0</td>\n",
       "      <td>{'tags': ['sql', 'sql-server', 'multiple-colum...</td>\n",
       "    </tr>\n",
       "    <tr>\n",
       "      <th>497</th>\n",
       "      <td>0</td>\n",
       "      <td>True</td>\n",
       "      <td>5</td>\n",
       "      <td>300</td>\n",
       "      <td>300</td>\n",
       "      <td>0</td>\n",
       "      <td>{'tags': ['pycharm', 'ide', 'type-hinting', 'm...</td>\n",
       "    </tr>\n",
       "    <tr>\n",
       "      <th>498</th>\n",
       "      <td>0</td>\n",
       "      <td>True</td>\n",
       "      <td>5</td>\n",
       "      <td>300</td>\n",
       "      <td>300</td>\n",
       "      <td>0</td>\n",
       "      <td>{'tags': ['python', 'pandas', 'dataframe', 'te...</td>\n",
       "    </tr>\n",
       "    <tr>\n",
       "      <th>499</th>\n",
       "      <td>0</td>\n",
       "      <td>True</td>\n",
       "      <td>5</td>\n",
       "      <td>300</td>\n",
       "      <td>300</td>\n",
       "      <td>0</td>\n",
       "      <td>{'tags': ['reactjs', 'react-router', 'react-tr...</td>\n",
       "    </tr>\n",
       "  </tbody>\n",
       "</table>\n",
       "<p>500 rows × 7 columns</p>\n",
       "</div>"
      ],
      "text/plain": [
       "     backoff  has_more  page  quota_max  quota_remaining  total  \\\n",
       "0          0      True     5        300              300      0   \n",
       "1          0      True     5        300              300      0   \n",
       "2          0      True     5        300              300      0   \n",
       "3          0      True     5        300              300      0   \n",
       "4          0      True     5        300              300      0   \n",
       "..       ...       ...   ...        ...              ...    ...   \n",
       "495        0      True     5        300              300      0   \n",
       "496        0      True     5        300              300      0   \n",
       "497        0      True     5        300              300      0   \n",
       "498        0      True     5        300              300      0   \n",
       "499        0      True     5        300              300      0   \n",
       "\n",
       "                                                 items  \n",
       "0    {'tags': ['ios', 'swiftui'], 'owner': {'reputa...  \n",
       "1    {'tags': ['sql', 'oracle', 'plsql'], 'owner': ...  \n",
       "2    {'tags': ['c#', 'api', 'model-view-controller'...  \n",
       "3    {'tags': ['c#', 'api', 'rest', 'query-string',...  \n",
       "4    {'tags': ['c++', 'vector', 'reference', 'copy'...  \n",
       "..                                                 ...  \n",
       "495  {'tags': ['python', 'python-3.x', 'pyqt5', 'qp...  \n",
       "496  {'tags': ['sql', 'sql-server', 'multiple-colum...  \n",
       "497  {'tags': ['pycharm', 'ide', 'type-hinting', 'm...  \n",
       "498  {'tags': ['python', 'pandas', 'dataframe', 'te...  \n",
       "499  {'tags': ['reactjs', 'react-router', 'react-tr...  \n",
       "\n",
       "[500 rows x 7 columns]"
      ]
     },
     "execution_count": 9,
     "metadata": {},
     "output_type": "execute_result"
    }
   ],
   "source": [
    "# your code here\n",
    "# the time used in this API is in Unix epoch time!\n",
    "# https://en.wikipedia.org/wiki/Unix_time\n",
    "\n",
    "t = '2020-05-1'\n",
    "ts = time.strptime(t, '%Y-%m-%d')\n",
    "data = int(time.mktime(ts))\n",
    "\n",
    "t1 = '2020-05-31'\n",
    "ts1 = time.strptime(t1, '%Y-%m-%d')\n",
    "data1 = int(time.mktime(ts1))\n",
    "\n",
    "SITE = StackAPI('stackoverflow')\n",
    "questions = SITE.fetch('questions', fromdate=data, todate=data1)\n",
    "\n",
    "pd.DataFrame(questions)"
   ]
  },
  {
   "cell_type": "markdown",
   "metadata": {
    "colab_type": "text",
    "id": "suUfAhohd0fd"
   },
   "source": [
    "#### Question 2: Find the most voted question today with at least a score of 5 and tagged with 'python'. "
   ]
  },
  {
   "cell_type": "code",
   "execution_count": 16,
   "metadata": {
    "colab": {},
    "colab_type": "code",
    "id": "B2qabqZbd0fh"
   },
   "outputs": [
    {
     "data": {
      "text/html": [
       "<div>\n",
       "<style scoped>\n",
       "    .dataframe tbody tr th:only-of-type {\n",
       "        vertical-align: middle;\n",
       "    }\n",
       "\n",
       "    .dataframe tbody tr th {\n",
       "        vertical-align: top;\n",
       "    }\n",
       "\n",
       "    .dataframe thead th {\n",
       "        text-align: right;\n",
       "    }\n",
       "</style>\n",
       "<table border=\"1\" class=\"dataframe\">\n",
       "  <thead>\n",
       "    <tr style=\"text-align: right;\">\n",
       "      <th></th>\n",
       "      <th>backoff</th>\n",
       "      <th>has_more</th>\n",
       "      <th>page</th>\n",
       "      <th>quota_max</th>\n",
       "      <th>quota_remaining</th>\n",
       "      <th>total</th>\n",
       "      <th>items</th>\n",
       "    </tr>\n",
       "  </thead>\n",
       "  <tbody>\n",
       "    <tr>\n",
       "      <th>0</th>\n",
       "      <td>0</td>\n",
       "      <td>False</td>\n",
       "      <td>1</td>\n",
       "      <td>300</td>\n",
       "      <td>300</td>\n",
       "      <td>0</td>\n",
       "      <td>{'tags': ['python', 'pandas'], 'owner': {'repu...</td>\n",
       "    </tr>\n",
       "  </tbody>\n",
       "</table>\n",
       "</div>"
      ],
      "text/plain": [
       "   backoff  has_more  page  quota_max  quota_remaining  total  \\\n",
       "0        0     False     1        300              300      0   \n",
       "\n",
       "                                               items  \n",
       "0  {'tags': ['python', 'pandas'], 'owner': {'repu...  "
      ]
     },
     "execution_count": 16,
     "metadata": {},
     "output_type": "execute_result"
    }
   ],
   "source": [
    "# your code here\n",
    "t = '2020-06-24'\n",
    "ts = time.strptime(t, '%Y-%m-%d')\n",
    "data = int(time.mktime(ts))\n",
    "\n",
    "question = SITE.fetch('questions', fromdate=data, min=5, tagged='python', sort='votes')\n",
    "question = pd.DataFrame(question)\n",
    "question.head(1)"
   ]
  },
  {
   "cell_type": "markdown",
   "metadata": {
    "colab_type": "text",
    "id": "_zTlJ-fed0gH"
   },
   "source": [
    "#### Question 3: Find the answers with id 6784 and 6473."
   ]
  },
  {
   "cell_type": "code",
   "execution_count": 15,
   "metadata": {
    "colab": {},
    "colab_type": "code",
    "id": "OXqrZj6od0gN"
   },
   "outputs": [
    {
     "data": {
      "text/html": [
       "<div>\n",
       "<style scoped>\n",
       "    .dataframe tbody tr th:only-of-type {\n",
       "        vertical-align: middle;\n",
       "    }\n",
       "\n",
       "    .dataframe tbody tr th {\n",
       "        vertical-align: top;\n",
       "    }\n",
       "\n",
       "    .dataframe thead th {\n",
       "        text-align: right;\n",
       "    }\n",
       "</style>\n",
       "<table border=\"1\" class=\"dataframe\">\n",
       "  <thead>\n",
       "    <tr style=\"text-align: right;\">\n",
       "      <th></th>\n",
       "      <th>backoff</th>\n",
       "      <th>has_more</th>\n",
       "      <th>page</th>\n",
       "      <th>quota_max</th>\n",
       "      <th>quota_remaining</th>\n",
       "      <th>total</th>\n",
       "      <th>items</th>\n",
       "    </tr>\n",
       "  </thead>\n",
       "  <tbody>\n",
       "    <tr>\n",
       "      <th>0</th>\n",
       "      <td>0</td>\n",
       "      <td>False</td>\n",
       "      <td>1</td>\n",
       "      <td>300</td>\n",
       "      <td>300</td>\n",
       "      <td>0</td>\n",
       "      <td>{'badge_type': 'tag_based', 'award_count': 1, ...</td>\n",
       "    </tr>\n",
       "    <tr>\n",
       "      <th>1</th>\n",
       "      <td>0</td>\n",
       "      <td>False</td>\n",
       "      <td>1</td>\n",
       "      <td>300</td>\n",
       "      <td>300</td>\n",
       "      <td>0</td>\n",
       "      <td>{'badge_type': 'tag_based', 'award_count': 1, ...</td>\n",
       "    </tr>\n",
       "  </tbody>\n",
       "</table>\n",
       "</div>"
      ],
      "text/plain": [
       "   backoff  has_more  page  quota_max  quota_remaining  total  \\\n",
       "0        0     False     1        300              300      0   \n",
       "1        0     False     1        300              300      0   \n",
       "\n",
       "                                               items  \n",
       "0  {'badge_type': 'tag_based', 'award_count': 1, ...  \n",
       "1  {'badge_type': 'tag_based', 'award_count': 1, ...  "
      ]
     },
     "execution_count": 15,
     "metadata": {},
     "output_type": "execute_result"
    }
   ],
   "source": [
    "# your code here\n",
    "SITE = StackAPI('stackoverflow')\n",
    "badges = SITE.fetch('badges', ids=[6784, 6473])\n",
    "pd.DataFrame(badges)"
   ]
  },
  {
   "cell_type": "code",
   "execution_count": null,
   "metadata": {},
   "outputs": [],
   "source": []
  }
 ],
 "metadata": {
  "colab": {
   "collapsed_sections": [],
   "name": "main.ipynb",
   "provenance": []
  },
  "kernelspec": {
   "display_name": "Python 3",
   "language": "python",
   "name": "python3"
  },
  "language_info": {
   "codemirror_mode": {
    "name": "ipython",
    "version": 3
   },
   "file_extension": ".py",
   "mimetype": "text/x-python",
   "name": "python",
   "nbconvert_exporter": "python",
   "pygments_lexer": "ipython3",
   "version": "3.6.9"
  },
  "toc": {
   "base_numbering": 1,
   "nav_menu": {},
   "number_sections": true,
   "sideBar": true,
   "skip_h1_title": false,
   "title_cell": "Table of Contents",
   "title_sidebar": "Contents",
   "toc_cell": false,
   "toc_position": {},
   "toc_section_display": true,
   "toc_window_display": false
  },
  "varInspector": {
   "cols": {
    "lenName": 16,
    "lenType": 16,
    "lenVar": 40
   },
   "kernels_config": {
    "python": {
     "delete_cmd_postfix": "",
     "delete_cmd_prefix": "del ",
     "library": "var_list.py",
     "varRefreshCmd": "print(var_dic_list())"
    },
    "r": {
     "delete_cmd_postfix": ") ",
     "delete_cmd_prefix": "rm(",
     "library": "var_list.r",
     "varRefreshCmd": "cat(var_dic_list()) "
    }
   },
   "types_to_exclude": [
    "module",
    "function",
    "builtin_function_or_method",
    "instance",
    "_Feature"
   ],
   "window_display": false
  }
 },
 "nbformat": 4,
 "nbformat_minor": 1
}
