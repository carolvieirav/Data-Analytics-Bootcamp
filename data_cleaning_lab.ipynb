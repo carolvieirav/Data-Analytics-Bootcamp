{
  "nbformat": 4,
  "nbformat_minor": 0,
  "metadata": {
    "kernelspec": {
      "display_name": "Python 3",
      "language": "python",
      "name": "python3"
    },
    "language_info": {
      "codemirror_mode": {
        "name": "ipython",
        "version": 3
      },
      "file_extension": ".py",
      "mimetype": "text/x-python",
      "name": "python",
      "nbconvert_exporter": "python",
      "pygments_lexer": "ipython3",
      "version": "3.7.3"
    },
    "toc": {
      "base_numbering": 1,
      "nav_menu": {},
      "number_sections": true,
      "sideBar": true,
      "skip_h1_title": false,
      "title_cell": "Table of Contents",
      "title_sidebar": "Contents",
      "toc_cell": false,
      "toc_position": {},
      "toc_section_display": true,
      "toc_window_display": false
    },
    "varInspector": {
      "cols": {
        "lenName": 16,
        "lenType": 16,
        "lenVar": 40
      },
      "kernels_config": {
        "python": {
          "delete_cmd_postfix": "",
          "delete_cmd_prefix": "del ",
          "library": "var_list.py",
          "varRefreshCmd": "print(var_dic_list())"
        },
        "r": {
          "delete_cmd_postfix": ") ",
          "delete_cmd_prefix": "rm(",
          "library": "var_list.r",
          "varRefreshCmd": "cat(var_dic_list()) "
        }
      },
      "types_to_exclude": [
        "module",
        "function",
        "builtin_function_or_method",
        "instance",
        "_Feature"
      ],
      "window_display": false
    },
    "colab": {
      "name": "data-cleaning-lab.ipynb",
      "provenance": [],
      "collapsed_sections": [],
      "include_colab_link": true
    }
  },
  "cells": [
    {
      "cell_type": "markdown",
      "metadata": {
        "id": "view-in-github",
        "colab_type": "text"
      },
      "source": [
        "<a href=\"https://colab.research.google.com/github/carolvieirav/Labs/blob/master/data_cleaning_lab.ipynb\" target=\"_parent\"><img src=\"https://colab.research.google.com/assets/colab-badge.svg\" alt=\"Open In Colab\"/></a>"
      ]
    },
    {
      "cell_type": "markdown",
      "metadata": {
        "id": "nCwa1odOqExq",
        "colab_type": "text"
      },
      "source": [
        "# Data Cleaning "
      ]
    },
    {
      "cell_type": "code",
      "metadata": {
        "id": "KCGY5JYxqEx1",
        "colab_type": "code",
        "colab": {}
      },
      "source": [
        "import pandas as pd"
      ],
      "execution_count": 0,
      "outputs": []
    },
    {
      "cell_type": "markdown",
      "metadata": {
        "id": "wbCjCrZ1qEyR",
        "colab_type": "text"
      },
      "source": [
        "# Read the users dataset.\n",
        "\n",
        "Take a look at what is the `users.csv` separator."
      ]
    },
    {
      "cell_type": "code",
      "metadata": {
        "id": "jQ352-L5qEyW",
        "colab_type": "code",
        "colab": {}
      },
      "source": [
        "users = pd.read_csv('/content/users.csv', sep='#')"
      ],
      "execution_count": 0,
      "outputs": []
    },
    {
      "cell_type": "markdown",
      "metadata": {
        "id": "PB6elrftqEyk",
        "colab_type": "text"
      },
      "source": [
        "## Check its shape\n",
        "\n",
        "See the number of rows and columns you're dealing."
      ]
    },
    {
      "cell_type": "markdown",
      "metadata": {
        "id": "NwHRz9_JqEyo",
        "colab_type": "text"
      },
      "source": [
        "## Use the .head() to see some rows of your dataframe."
      ]
    },
    {
      "cell_type": "code",
      "metadata": {
        "id": "1y2gdOWLqEyt",
        "colab_type": "code",
        "outputId": "0c9e98fe-3a4a-4d6d-9b1f-62a20253d911",
        "colab": {
          "base_uri": "https://localhost:8080/",
          "height": 250
        }
      },
      "source": [
        "users.shape\n",
        "users.head(3)"
      ],
      "execution_count": 3,
      "outputs": [
        {
          "output_type": "execute_result",
          "data": {
            "text/html": [
              "<div>\n",
              "<style scoped>\n",
              "    .dataframe tbody tr th:only-of-type {\n",
              "        vertical-align: middle;\n",
              "    }\n",
              "\n",
              "    .dataframe tbody tr th {\n",
              "        vertical-align: top;\n",
              "    }\n",
              "\n",
              "    .dataframe thead th {\n",
              "        text-align: right;\n",
              "    }\n",
              "</style>\n",
              "<table border=\"1\" class=\"dataframe\">\n",
              "  <thead>\n",
              "    <tr style=\"text-align: right;\">\n",
              "      <th></th>\n",
              "      <th>Id</th>\n",
              "      <th>Reputation</th>\n",
              "      <th>CreationDate</th>\n",
              "      <th>DisplayName</th>\n",
              "      <th>LastAccessDate</th>\n",
              "      <th>WebsiteUrl</th>\n",
              "      <th>Location</th>\n",
              "      <th>AboutMe</th>\n",
              "      <th>Views</th>\n",
              "      <th>UpVotes</th>\n",
              "      <th>DownVotes</th>\n",
              "      <th>AccountId</th>\n",
              "      <th>Age</th>\n",
              "      <th>ProfileImageUrl</th>\n",
              "    </tr>\n",
              "  </thead>\n",
              "  <tbody>\n",
              "    <tr>\n",
              "      <th>0</th>\n",
              "      <td>-1</td>\n",
              "      <td>1</td>\n",
              "      <td>2010-07-19 06:55:26</td>\n",
              "      <td>Community</td>\n",
              "      <td>2010-07-19 06:55:26</td>\n",
              "      <td>http://meta.stackexchange.com/</td>\n",
              "      <td>on the server farm</td>\n",
              "      <td>&lt;p&gt;Hi, I'm not really a person.&lt;/p&gt;\\n\\n&lt;p&gt;I'm ...</td>\n",
              "      <td>0.0</td>\n",
              "      <td>5007.0</td>\n",
              "      <td>1920.0</td>\n",
              "      <td>-1.0</td>\n",
              "      <td>NaN</td>\n",
              "      <td>NaN</td>\n",
              "    </tr>\n",
              "    <tr>\n",
              "      <th>1</th>\n",
              "      <td>2</td>\n",
              "      <td>101</td>\n",
              "      <td>2010-07-19 14:01:36</td>\n",
              "      <td>Geoff Dalgas</td>\n",
              "      <td>2013-11-12 22:07:23</td>\n",
              "      <td>http://stackoverflow.com</td>\n",
              "      <td>Corvallis, OR</td>\n",
              "      <td>&lt;p&gt;Developer on the StackOverflow team.  Find ...</td>\n",
              "      <td>25.0</td>\n",
              "      <td>3.0</td>\n",
              "      <td>0.0</td>\n",
              "      <td>2.0</td>\n",
              "      <td>37.0</td>\n",
              "      <td>NaN</td>\n",
              "    </tr>\n",
              "    <tr>\n",
              "      <th>2</th>\n",
              "      <td>3</td>\n",
              "      <td>101</td>\n",
              "      <td>2010-07-19 15:34:50</td>\n",
              "      <td>Jarrod Dixon</td>\n",
              "      <td>2014-08-08 06:42:58</td>\n",
              "      <td>http://stackoverflow.com</td>\n",
              "      <td>New York, NY</td>\n",
              "      <td>&lt;p&gt;&lt;a href=\"http://blog.stackoverflow.com/2009...</td>\n",
              "      <td>22.0</td>\n",
              "      <td>19.0</td>\n",
              "      <td>0.0</td>\n",
              "      <td>3.0</td>\n",
              "      <td>35.0</td>\n",
              "      <td>NaN</td>\n",
              "    </tr>\n",
              "  </tbody>\n",
              "</table>\n",
              "</div>"
            ],
            "text/plain": [
              "   Id Reputation         CreationDate  ... AccountId   Age ProfileImageUrl\n",
              "0  -1          1  2010-07-19 06:55:26  ...      -1.0   NaN             NaN\n",
              "1   2        101  2010-07-19 14:01:36  ...       2.0  37.0             NaN\n",
              "2   3        101  2010-07-19 15:34:50  ...       3.0  35.0             NaN\n",
              "\n",
              "[3 rows x 14 columns]"
            ]
          },
          "metadata": {
            "tags": []
          },
          "execution_count": 3
        }
      ]
    },
    {
      "cell_type": "markdown",
      "metadata": {
        "id": "PbcUQtvDqEy4",
        "colab_type": "text"
      },
      "source": [
        "## Get the data info. \n",
        "\n",
        "Which columns have a great number of missing values? How many space does this dataframe is occupying in your memory?"
      ]
    },
    {
      "cell_type": "code",
      "metadata": {
        "id": "5JjQaHs3qEy9",
        "colab_type": "code",
        "outputId": "e09c338b-592b-4197-9462-b46ba03e23fc",
        "colab": {
          "base_uri": "https://localhost:8080/",
          "height": 347
        }
      },
      "source": [
        "users.info()"
      ],
      "execution_count": 4,
      "outputs": [
        {
          "output_type": "stream",
          "text": [
            "<class 'pandas.core.frame.DataFrame'>\n",
            "RangeIndex: 46242 entries, 0 to 46241\n",
            "Data columns (total 14 columns):\n",
            "Id                 46242 non-null object\n",
            "Reputation         46092 non-null object\n",
            "CreationDate       46088 non-null object\n",
            "DisplayName        46082 non-null object\n",
            "LastAccessDate     46088 non-null object\n",
            "WebsiteUrl         8779 non-null object\n",
            "Location           12892 non-null object\n",
            "AboutMe            10371 non-null object\n",
            "Views              46086 non-null float64\n",
            "UpVotes            46085 non-null float64\n",
            "DownVotes          46085 non-null float64\n",
            "AccountId          46085 non-null float64\n",
            "Age                9172 non-null float64\n",
            "ProfileImageUrl    21456 non-null object\n",
            "dtypes: float64(5), object(9)\n",
            "memory usage: 4.9+ MB\n"
          ],
          "name": "stdout"
        }
      ]
    },
    {
      "cell_type": "markdown",
      "metadata": {
        "id": "gpPGk2yYqEzJ",
        "colab_type": "text"
      },
      "source": [
        "## Rename Id column to user_id.\n",
        "\n",
        "Remember to store you results back at the dataframe."
      ]
    },
    {
      "cell_type": "code",
      "metadata": {
        "id": "fczXli83qEzN",
        "colab_type": "code",
        "colab": {}
      },
      "source": [
        "users = users.rename(columns={'Id':'user_id'})"
      ],
      "execution_count": 0,
      "outputs": []
    },
    {
      "cell_type": "markdown",
      "metadata": {
        "id": "gsaVgHdQqEzW",
        "colab_type": "text"
      },
      "source": [
        "# Import the `posts.csv` dataset.\n",
        "\n",
        "Note that this is a `gzip compressed csv`. In order to read this file correctly, you'll have to read the documentation (or help) of your `pd.read_csv()` function and check the `compression` argument. Try to understand which value of `compression=...` you should put in order to read your dataframe. "
      ]
    },
    {
      "cell_type": "code",
      "metadata": {
        "id": "FiKhSQqSqEzZ",
        "colab_type": "code",
        "colab": {}
      },
      "source": [
        "posts = pd.read_csv('/content/posts.csv')"
      ],
      "execution_count": 0,
      "outputs": []
    },
    {
      "cell_type": "markdown",
      "metadata": {
        "id": "gc0hUjekqEzl",
        "colab_type": "text"
      },
      "source": [
        "## Perform the same as above to understand a bit of your data (head, info, shape)"
      ]
    },
    {
      "cell_type": "code",
      "metadata": {
        "id": "5_S4samtqEzp",
        "colab_type": "code",
        "colab": {}
      },
      "source": [
        "posts.head()\n",
        "posts.info()\n",
        "posts.shape"
      ],
      "execution_count": 0,
      "outputs": []
    },
    {
      "cell_type": "markdown",
      "metadata": {
        "id": "kz7RCF3LqEzy",
        "colab_type": "text"
      },
      "source": [
        "## Rename Id column to post_id and OwnerUserId to user_id.\n",
        "\n",
        "Again, remember to check that your results are correctly stored inside the dataframe."
      ]
    },
    {
      "cell_type": "code",
      "metadata": {
        "id": "-l6f-pGbqEz2",
        "colab_type": "code",
        "colab": {
          "base_uri": "https://localhost:8080/",
          "height": 206
        },
        "outputId": "65ec3087-4c40-4b7c-f86e-3ace0db328c5"
      },
      "source": [
        "posts = posts.rename(columns={'PostId':'post_id','userId':'user_id'})\n",
        "posts.head()"
      ],
      "execution_count": 40,
      "outputs": [
        {
          "output_type": "execute_result",
          "data": {
            "text/html": [
              "<div>\n",
              "<style scoped>\n",
              "    .dataframe tbody tr th:only-of-type {\n",
              "        vertical-align: middle;\n",
              "    }\n",
              "\n",
              "    .dataframe tbody tr th {\n",
              "        vertical-align: top;\n",
              "    }\n",
              "\n",
              "    .dataframe thead th {\n",
              "        text-align: right;\n",
              "    }\n",
              "</style>\n",
              "<table border=\"1\" class=\"dataframe\">\n",
              "  <thead>\n",
              "    <tr style=\"text-align: right;\">\n",
              "      <th></th>\n",
              "      <th>Unnamed: 0</th>\n",
              "      <th>post_id</th>\n",
              "      <th>user_id</th>\n",
              "      <th>Score</th>\n",
              "      <th>ViewCount</th>\n",
              "      <th>CommentCount</th>\n",
              "    </tr>\n",
              "  </thead>\n",
              "  <tbody>\n",
              "    <tr>\n",
              "      <th>0</th>\n",
              "      <td>0</td>\n",
              "      <td>1</td>\n",
              "      <td>8.0</td>\n",
              "      <td>23</td>\n",
              "      <td>1278.0</td>\n",
              "      <td>1</td>\n",
              "    </tr>\n",
              "    <tr>\n",
              "      <th>1</th>\n",
              "      <td>1</td>\n",
              "      <td>2</td>\n",
              "      <td>24.0</td>\n",
              "      <td>22</td>\n",
              "      <td>8198.0</td>\n",
              "      <td>1</td>\n",
              "    </tr>\n",
              "    <tr>\n",
              "      <th>2</th>\n",
              "      <td>2</td>\n",
              "      <td>3</td>\n",
              "      <td>18.0</td>\n",
              "      <td>54</td>\n",
              "      <td>3613.0</td>\n",
              "      <td>4</td>\n",
              "    </tr>\n",
              "    <tr>\n",
              "      <th>3</th>\n",
              "      <td>3</td>\n",
              "      <td>4</td>\n",
              "      <td>23.0</td>\n",
              "      <td>13</td>\n",
              "      <td>5224.0</td>\n",
              "      <td>2</td>\n",
              "    </tr>\n",
              "    <tr>\n",
              "      <th>4</th>\n",
              "      <td>4</td>\n",
              "      <td>5</td>\n",
              "      <td>23.0</td>\n",
              "      <td>81</td>\n",
              "      <td>NaN</td>\n",
              "      <td>3</td>\n",
              "    </tr>\n",
              "  </tbody>\n",
              "</table>\n",
              "</div>"
            ],
            "text/plain": [
              "   Unnamed: 0  post_id  user_id  Score  ViewCount  CommentCount\n",
              "0           0        1      8.0     23     1278.0             1\n",
              "1           1        2     24.0     22     8198.0             1\n",
              "2           2        3     18.0     54     3613.0             4\n",
              "3           3        4     23.0     13     5224.0             2\n",
              "4           4        5     23.0     81        NaN             3"
            ]
          },
          "metadata": {
            "tags": []
          },
          "execution_count": 40
        }
      ]
    },
    {
      "cell_type": "markdown",
      "metadata": {
        "id": "wdbi_dLtqE0A",
        "colab_type": "text"
      },
      "source": [
        "## Define new dataframes for users and posts with the following selected columns:\n",
        "\n",
        "**users columns**: user_id, Reputation, Views, UpVotes, DownVotes  \n",
        "**posts columns**: post_id, Score, user_id, ViewCount, CommentCount, Body"
      ]
    },
    {
      "cell_type": "code",
      "metadata": {
        "id": "0SV0bf0mqE0H",
        "colab_type": "code",
        "colab": {}
      },
      "source": [
        "new_users = users[['user_id', 'Reputation', 'Views', 'UpVotes', 'DownVotes']]\n",
        "new_posts = posts[['post_id', 'Score', 'user_id', 'ViewCount', 'CommentCount']]"
      ],
      "execution_count": 0,
      "outputs": []
    },
    {
      "cell_type": "markdown",
      "metadata": {
        "id": "oAcJqwJeqE0Q",
        "colab_type": "text"
      },
      "source": [
        "**Note:** Check the new posts dataframe's info. What is the most noticeable change? \n",
        "\n",
        "Explain why we have chosen only some columns of it in terms of efficiency."
      ]
    },
    {
      "cell_type": "markdown",
      "metadata": {
        "id": "lRinsOFOqE0T",
        "colab_type": "text"
      },
      "source": [
        "# Merge the new dataframes you have created, of users and posts. Create a dataframe called `posts_from_users`\n",
        "\n",
        "You will need to make an inner [merge](https://pandas.pydata.org/pandas-docs/stable/generated/pandas.DataFrame.merge.html) of posts and users dataframes. \n",
        "\n",
        "Think carefully which should be the key(s) for your merging."
      ]
    },
    {
      "cell_type": "code",
      "metadata": {
        "id": "PwPMk7gtZfXE",
        "colab_type": "code",
        "colab": {}
      },
      "source": [
        "new_posts = new_posts._get_numeric_data()"
      ],
      "execution_count": 0,
      "outputs": []
    },
    {
      "cell_type": "code",
      "metadata": {
        "id": "D2EL0_FnqE0Y",
        "colab_type": "code",
        "colab": {
          "base_uri": "https://localhost:8080/",
          "height": 313
        },
        "outputId": "ccaba81d-dbfa-42c6-801a-8e625f032a58"
      },
      "source": [
        "posts_from_users = new_users.merge(right = new_posts, on='user_id')"
      ],
      "execution_count": 82,
      "outputs": [
        {
          "output_type": "error",
          "ename": "ValueError",
          "evalue": "ignored",
          "traceback": [
            "\u001b[0;31m---------------------------------------------------------------------------\u001b[0m",
            "\u001b[0;31mValueError\u001b[0m                                Traceback (most recent call last)",
            "\u001b[0;32m<ipython-input-82-f36a3949adf7>\u001b[0m in \u001b[0;36m<module>\u001b[0;34m()\u001b[0m\n\u001b[0;32m----> 1\u001b[0;31m \u001b[0mposts_from_users\u001b[0m \u001b[0;34m=\u001b[0m \u001b[0mnew_users\u001b[0m\u001b[0;34m.\u001b[0m\u001b[0mmerge\u001b[0m\u001b[0;34m(\u001b[0m\u001b[0mright\u001b[0m \u001b[0;34m=\u001b[0m \u001b[0mnew_posts\u001b[0m\u001b[0;34m,\u001b[0m \u001b[0mon\u001b[0m\u001b[0;34m=\u001b[0m\u001b[0;34m'user_id'\u001b[0m\u001b[0;34m)\u001b[0m\u001b[0;34m\u001b[0m\u001b[0;34m\u001b[0m\u001b[0m\n\u001b[0m",
            "\u001b[0;32m/usr/local/lib/python3.6/dist-packages/pandas/core/frame.py\u001b[0m in \u001b[0;36mmerge\u001b[0;34m(self, right, how, on, left_on, right_on, left_index, right_index, sort, suffixes, copy, indicator, validate)\u001b[0m\n\u001b[1;32m   7347\u001b[0m             \u001b[0mcopy\u001b[0m\u001b[0;34m=\u001b[0m\u001b[0mcopy\u001b[0m\u001b[0;34m,\u001b[0m\u001b[0;34m\u001b[0m\u001b[0;34m\u001b[0m\u001b[0m\n\u001b[1;32m   7348\u001b[0m             \u001b[0mindicator\u001b[0m\u001b[0;34m=\u001b[0m\u001b[0mindicator\u001b[0m\u001b[0;34m,\u001b[0m\u001b[0;34m\u001b[0m\u001b[0;34m\u001b[0m\u001b[0m\n\u001b[0;32m-> 7349\u001b[0;31m             \u001b[0mvalidate\u001b[0m\u001b[0;34m=\u001b[0m\u001b[0mvalidate\u001b[0m\u001b[0;34m,\u001b[0m\u001b[0;34m\u001b[0m\u001b[0;34m\u001b[0m\u001b[0m\n\u001b[0m\u001b[1;32m   7350\u001b[0m         )\n\u001b[1;32m   7351\u001b[0m \u001b[0;34m\u001b[0m\u001b[0m\n",
            "\u001b[0;32m/usr/local/lib/python3.6/dist-packages/pandas/core/reshape/merge.py\u001b[0m in \u001b[0;36mmerge\u001b[0;34m(left, right, how, on, left_on, right_on, left_index, right_index, sort, suffixes, copy, indicator, validate)\u001b[0m\n\u001b[1;32m     79\u001b[0m         \u001b[0mcopy\u001b[0m\u001b[0;34m=\u001b[0m\u001b[0mcopy\u001b[0m\u001b[0;34m,\u001b[0m\u001b[0;34m\u001b[0m\u001b[0;34m\u001b[0m\u001b[0m\n\u001b[1;32m     80\u001b[0m         \u001b[0mindicator\u001b[0m\u001b[0;34m=\u001b[0m\u001b[0mindicator\u001b[0m\u001b[0;34m,\u001b[0m\u001b[0;34m\u001b[0m\u001b[0;34m\u001b[0m\u001b[0m\n\u001b[0;32m---> 81\u001b[0;31m         \u001b[0mvalidate\u001b[0m\u001b[0;34m=\u001b[0m\u001b[0mvalidate\u001b[0m\u001b[0;34m,\u001b[0m\u001b[0;34m\u001b[0m\u001b[0;34m\u001b[0m\u001b[0m\n\u001b[0m\u001b[1;32m     82\u001b[0m     )\n\u001b[1;32m     83\u001b[0m     \u001b[0;32mreturn\u001b[0m \u001b[0mop\u001b[0m\u001b[0;34m.\u001b[0m\u001b[0mget_result\u001b[0m\u001b[0;34m(\u001b[0m\u001b[0;34m)\u001b[0m\u001b[0;34m\u001b[0m\u001b[0;34m\u001b[0m\u001b[0m\n",
            "\u001b[0;32m/usr/local/lib/python3.6/dist-packages/pandas/core/reshape/merge.py\u001b[0m in \u001b[0;36m__init__\u001b[0;34m(self, left, right, how, on, left_on, right_on, axis, left_index, right_index, sort, suffixes, copy, indicator, validate)\u001b[0m\n\u001b[1;32m    628\u001b[0m         \u001b[0;31m# validate the merge keys dtypes. We may need to coerce\u001b[0m\u001b[0;34m\u001b[0m\u001b[0;34m\u001b[0m\u001b[0;34m\u001b[0m\u001b[0m\n\u001b[1;32m    629\u001b[0m         \u001b[0;31m# to avoid incompat dtypes\u001b[0m\u001b[0;34m\u001b[0m\u001b[0;34m\u001b[0m\u001b[0;34m\u001b[0m\u001b[0m\n\u001b[0;32m--> 630\u001b[0;31m         \u001b[0mself\u001b[0m\u001b[0;34m.\u001b[0m\u001b[0m_maybe_coerce_merge_keys\u001b[0m\u001b[0;34m(\u001b[0m\u001b[0;34m)\u001b[0m\u001b[0;34m\u001b[0m\u001b[0;34m\u001b[0m\u001b[0m\n\u001b[0m\u001b[1;32m    631\u001b[0m \u001b[0;34m\u001b[0m\u001b[0m\n\u001b[1;32m    632\u001b[0m         \u001b[0;31m# If argument passed to validate,\u001b[0m\u001b[0;34m\u001b[0m\u001b[0;34m\u001b[0m\u001b[0;34m\u001b[0m\u001b[0m\n",
            "\u001b[0;32m/usr/local/lib/python3.6/dist-packages/pandas/core/reshape/merge.py\u001b[0m in \u001b[0;36m_maybe_coerce_merge_keys\u001b[0;34m(self)\u001b[0m\n\u001b[1;32m   1136\u001b[0m                     \u001b[0minferred_right\u001b[0m \u001b[0;32min\u001b[0m \u001b[0mstring_types\u001b[0m \u001b[0;32mand\u001b[0m \u001b[0minferred_left\u001b[0m \u001b[0;32mnot\u001b[0m \u001b[0;32min\u001b[0m \u001b[0mstring_types\u001b[0m\u001b[0;34m\u001b[0m\u001b[0;34m\u001b[0m\u001b[0m\n\u001b[1;32m   1137\u001b[0m                 ):\n\u001b[0;32m-> 1138\u001b[0;31m                     \u001b[0;32mraise\u001b[0m \u001b[0mValueError\u001b[0m\u001b[0;34m(\u001b[0m\u001b[0mmsg\u001b[0m\u001b[0;34m)\u001b[0m\u001b[0;34m\u001b[0m\u001b[0;34m\u001b[0m\u001b[0m\n\u001b[0m\u001b[1;32m   1139\u001b[0m \u001b[0;34m\u001b[0m\u001b[0m\n\u001b[1;32m   1140\u001b[0m             \u001b[0;31m# datetimelikes must match exactly\u001b[0m\u001b[0;34m\u001b[0m\u001b[0;34m\u001b[0m\u001b[0;34m\u001b[0m\u001b[0m\n",
            "\u001b[0;31mValueError\u001b[0m: You are trying to merge on object and float64 columns. If you wish to proceed you should use pd.concat"
          ]
        }
      ]
    },
    {
      "cell_type": "markdown",
      "metadata": {
        "id": "q3MjAOjLqE0i",
        "colab_type": "text"
      },
      "source": [
        "## Check the number of duplicated rows.\n",
        "\n",
        "Remember you can sum the results of a mask to get how many numbers the True value appeared in the results. This occurs because `True` is interpreted as `1` in Python whereas `False` is interpreted as `0`."
      ]
    },
    {
      "cell_type": "code",
      "metadata": {
        "id": "JqmUHnwXqE0k",
        "colab_type": "code",
        "colab": {}
      },
      "source": [
        ""
      ],
      "execution_count": 0,
      "outputs": []
    },
    {
      "cell_type": "markdown",
      "metadata": {
        "id": "Mf71ZBpkqE0u",
        "colab_type": "text"
      },
      "source": [
        "## Find those duplicate values and try to understand what happened.\n",
        "\n",
        "*Hint:* You can use the argument `keep=False` from the `.duplicated()` method to bring the duplication.\n",
        "\n",
        "*Hint 2:* You can sort the values `by=['user_id', 'post_id']` to see them in order.\n"
      ]
    },
    {
      "cell_type": "code",
      "metadata": {
        "id": "mMtDDKUXqE0x",
        "colab_type": "code",
        "colab": {}
      },
      "source": [
        ""
      ],
      "execution_count": 0,
      "outputs": []
    },
    {
      "cell_type": "markdown",
      "metadata": {
        "id": "5sMBXjGJqE06",
        "colab_type": "text"
      },
      "source": [
        "## Should you drop it? If you think it is reasonable to drop it, then drop it.\n",
        "\n",
        "Think: How would you correct it in the first place? That is, what was wrong in the first place?\n",
        "\n",
        "*Hint:* There's a pandas method to drop duplicates. If you wanted to do it by hand, you could select the indexes of the duplicated values and `.drop()` it. "
      ]
    },
    {
      "cell_type": "code",
      "metadata": {
        "id": "kBPZqy-XqE07",
        "colab_type": "code",
        "colab": {}
      },
      "source": [
        ""
      ],
      "execution_count": 0,
      "outputs": []
    },
    {
      "cell_type": "code",
      "metadata": {
        "id": "oiorwta5qE1F",
        "colab_type": "code",
        "colab": {}
      },
      "source": [
        ""
      ],
      "execution_count": 0,
      "outputs": []
    },
    {
      "cell_type": "markdown",
      "metadata": {
        "id": "Fpv13AHKqE1L",
        "colab_type": "text"
      },
      "source": [
        "## 10. How many missing values do you have in your merged dataframe? On which columns?"
      ]
    },
    {
      "cell_type": "code",
      "metadata": {
        "id": "rIGODPXJqE1N",
        "colab_type": "code",
        "colab": {}
      },
      "source": [
        ""
      ],
      "execution_count": 0,
      "outputs": []
    },
    {
      "cell_type": "markdown",
      "metadata": {
        "id": "Hkmf52p8qE1W",
        "colab_type": "text"
      },
      "source": [
        "## Select only the rows in which there at least some missing values."
      ]
    },
    {
      "cell_type": "code",
      "metadata": {
        "id": "dfEOcWieqE1Y",
        "colab_type": "code",
        "colab": {}
      },
      "source": [
        ""
      ],
      "execution_count": 0,
      "outputs": []
    },
    {
      "cell_type": "markdown",
      "metadata": {
        "id": "Htbk9xUiqE1f",
        "colab_type": "text"
      },
      "source": [
        "## You will need to make something with missing values.  Will you clean or filling them? \n",
        "\n",
        "Pay attention. There can be different reasons for the missings numbers. Look at the `user_id` of some of them, look at the body of the message. Which ones you're sure of what should be and which one can you infer? Don't hurry up, take a look at your data."
      ]
    },
    {
      "cell_type": "code",
      "metadata": {
        "id": "5oSLsTcHqE1k",
        "colab_type": "code",
        "colab": {}
      },
      "source": [
        ""
      ],
      "execution_count": 0,
      "outputs": []
    },
    {
      "cell_type": "markdown",
      "metadata": {
        "id": "136CDtfWqE1r",
        "colab_type": "text"
      },
      "source": [
        "## Adjust the data types in order to avoid future issues. Which ones should be changed? "
      ]
    },
    {
      "cell_type": "code",
      "metadata": {
        "id": "cyXSEmM7qE1t",
        "colab_type": "code",
        "colab": {}
      },
      "source": [
        ""
      ],
      "execution_count": 0,
      "outputs": []
    },
    {
      "cell_type": "markdown",
      "metadata": {
        "id": "8uyD2-EuqE11",
        "colab_type": "text"
      },
      "source": [
        "# Bonus 1: (filtering) What is the average number of comments for users who are above the average reputation?\n",
        "\n",
        "*Hint:* Calculate the average of the user Reputation. Store it in a variable called `avg_reputation` and then use that variable for filtering the dataset and generating the results for each case (for the case in which `Reputation > {avg_reputation}` and etc.\n",
        "\n",
        "*Hint 2:* You could create a variable based on that condition and use the group by function perform the task above."
      ]
    },
    {
      "cell_type": "code",
      "metadata": {
        "id": "ckfCp50cqE14",
        "colab_type": "code",
        "colab": {}
      },
      "source": [
        ""
      ],
      "execution_count": 0,
      "outputs": []
    },
    {
      "cell_type": "markdown",
      "metadata": {
        "id": "P0hxLuv1qE19",
        "colab_type": "text"
      },
      "source": [
        "# Bonus 2: (grouping) Group your dataframe by the Reputation of your user. Calculate the mean value of ViewCount and CommentCount for each reputation value.\n",
        "\n",
        "Suppose the missing values on ViewCount are due a systemic error and you wanted to guess what values should have been there in the first place, but the system abended.\n",
        "\n",
        "Would that be an interesting candidate for inputting the value for the missing `ViewCount` values? If so, input it with these values."
      ]
    },
    {
      "cell_type": "code",
      "metadata": {
        "id": "uUQ7tCQaqE2M",
        "colab_type": "code",
        "colab": {}
      },
      "source": [
        ""
      ],
      "execution_count": 0,
      "outputs": []
    },
    {
      "cell_type": "code",
      "metadata": {
        "id": "RukMEk6PqE2S",
        "colab_type": "code",
        "colab": {}
      },
      "source": [
        ""
      ],
      "execution_count": 0,
      "outputs": []
    },
    {
      "cell_type": "markdown",
      "metadata": {
        "id": "WT2wX9flqE2Z",
        "colab_type": "text"
      },
      "source": [
        "## refs"
      ]
    },
    {
      "cell_type": "markdown",
      "metadata": {
        "id": "V4yxfyJfqE2a",
        "colab_type": "text"
      },
      "source": [
        "Sample database used: https://relational.fit.cvut.cz/dataset/Stats\n",
        "\n",
        "Stack-overflow database: https://www.brentozar.com/archive/2015/10/how-to-download-the-stack-overflow-database-via-bittorrent/\n"
      ]
    }
  ]
}