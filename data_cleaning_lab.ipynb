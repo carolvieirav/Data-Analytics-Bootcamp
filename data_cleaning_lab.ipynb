{
  "nbformat": 4,
  "nbformat_minor": 0,
  "metadata": {
    "kernelspec": {
      "display_name": "Python 3",
      "language": "python",
      "name": "python3"
    },
    "language_info": {
      "codemirror_mode": {
        "name": "ipython",
        "version": 3
      },
      "file_extension": ".py",
      "mimetype": "text/x-python",
      "name": "python",
      "nbconvert_exporter": "python",
      "pygments_lexer": "ipython3",
      "version": "3.7.3"
    },
    "toc": {
      "base_numbering": 1,
      "nav_menu": {},
      "number_sections": true,
      "sideBar": true,
      "skip_h1_title": false,
      "title_cell": "Table of Contents",
      "title_sidebar": "Contents",
      "toc_cell": false,
      "toc_position": {},
      "toc_section_display": true,
      "toc_window_display": false
    },
    "varInspector": {
      "cols": {
        "lenName": 16,
        "lenType": 16,
        "lenVar": 40
      },
      "kernels_config": {
        "python": {
          "delete_cmd_postfix": "",
          "delete_cmd_prefix": "del ",
          "library": "var_list.py",
          "varRefreshCmd": "print(var_dic_list())"
        },
        "r": {
          "delete_cmd_postfix": ") ",
          "delete_cmd_prefix": "rm(",
          "library": "var_list.r",
          "varRefreshCmd": "cat(var_dic_list()) "
        }
      },
      "types_to_exclude": [
        "module",
        "function",
        "builtin_function_or_method",
        "instance",
        "_Feature"
      ],
      "window_display": false
    },
    "colab": {
      "name": "data-cleaning-lab.ipynb",
      "provenance": [],
      "collapsed_sections": [],
      "include_colab_link": true
    }
  },
  "cells": [
    {
      "cell_type": "markdown",
      "metadata": {
        "id": "view-in-github",
        "colab_type": "text"
      },
      "source": [
        "<a href=\"https://colab.research.google.com/github/carolvieirav/Labs/blob/master/data_cleaning_lab.ipynb\" target=\"_parent\"><img src=\"https://colab.research.google.com/assets/colab-badge.svg\" alt=\"Open In Colab\"/></a>"
      ]
    },
    {
      "cell_type": "markdown",
      "metadata": {
        "id": "nCwa1odOqExq",
        "colab_type": "text"
      },
      "source": [
        "# Data Cleaning "
      ]
    },
    {
      "cell_type": "code",
      "metadata": {
        "id": "KCGY5JYxqEx1",
        "colab_type": "code",
        "colab": {}
      },
      "source": [
        "import pandas as pd"
      ],
      "execution_count": 0,
      "outputs": []
    },
    {
      "cell_type": "markdown",
      "metadata": {
        "id": "wbCjCrZ1qEyR",
        "colab_type": "text"
      },
      "source": [
        "# Read the users dataset.\n",
        "\n",
        "Take a look at what is the `users.csv` separator."
      ]
    },
    {
      "cell_type": "code",
      "metadata": {
        "id": "jQ352-L5qEyW",
        "colab_type": "code",
        "colab": {}
      },
      "source": [
        "users = pd.read_csv('/content/users.csv', sep='#')"
      ],
      "execution_count": 0,
      "outputs": []
    },
    {
      "cell_type": "markdown",
      "metadata": {
        "id": "PB6elrftqEyk",
        "colab_type": "text"
      },
      "source": [
        "## Check its shape\n",
        "\n",
        "See the number of rows and columns you're dealing."
      ]
    },
    {
      "cell_type": "markdown",
      "metadata": {
        "id": "NwHRz9_JqEyo",
        "colab_type": "text"
      },
      "source": [
        "## Use the .head() to see some rows of your dataframe."
      ]
    },
    {
      "cell_type": "code",
      "metadata": {
        "id": "1y2gdOWLqEyt",
        "colab_type": "code",
        "colab": {}
      },
      "source": [
        "users.shape\n",
        "users.head(3)"
      ],
      "execution_count": 0,
      "outputs": []
    },
    {
      "cell_type": "markdown",
      "metadata": {
        "id": "PbcUQtvDqEy4",
        "colab_type": "text"
      },
      "source": [
        "## Get the data info. \n",
        "\n",
        "Which columns have a great number of missing values? How many space does this dataframe is occupying in your memory?"
      ]
    },
    {
      "cell_type": "code",
      "metadata": {
        "id": "5JjQaHs3qEy9",
        "colab_type": "code",
        "colab": {}
      },
      "source": [
        "users.info()"
      ],
      "execution_count": 0,
      "outputs": []
    },
    {
      "cell_type": "markdown",
      "metadata": {
        "id": "gpPGk2yYqEzJ",
        "colab_type": "text"
      },
      "source": [
        "## Rename Id column to user_id.\n",
        "\n",
        "Remember to store you results back at the dataframe."
      ]
    },
    {
      "cell_type": "code",
      "metadata": {
        "id": "fczXli83qEzN",
        "colab_type": "code",
        "colab": {}
      },
      "source": [
        "users = users.rename(columns={'Id':'user_id'})"
      ],
      "execution_count": 0,
      "outputs": []
    },
    {
      "cell_type": "markdown",
      "metadata": {
        "id": "gsaVgHdQqEzW",
        "colab_type": "text"
      },
      "source": [
        "# Import the `posts.csv` dataset.\n",
        "\n",
        "Note that this is a `gzip compressed csv`. In order to read this file correctly, you'll have to read the documentation (or help) of your `pd.read_csv()` function and check the `compression` argument. Try to understand which value of `compression=...` you should put in order to read your dataframe. "
      ]
    },
    {
      "cell_type": "code",
      "metadata": {
        "id": "FiKhSQqSqEzZ",
        "colab_type": "code",
        "colab": {}
      },
      "source": [
        "posts = pd.read_csv('/content/posts.csv')"
      ],
      "execution_count": 0,
      "outputs": []
    },
    {
      "cell_type": "markdown",
      "metadata": {
        "id": "gc0hUjekqEzl",
        "colab_type": "text"
      },
      "source": [
        "## Perform the same as above to understand a bit of your data (head, info, shape)"
      ]
    },
    {
      "cell_type": "code",
      "metadata": {
        "id": "5_S4samtqEzp",
        "colab_type": "code",
        "colab": {}
      },
      "source": [
        "posts.head()\n",
        "posts.info()\n",
        "posts.shape"
      ],
      "execution_count": 0,
      "outputs": []
    },
    {
      "cell_type": "markdown",
      "metadata": {
        "id": "kz7RCF3LqEzy",
        "colab_type": "text"
      },
      "source": [
        "## Rename Id column to post_id and OwnerUserId to user_id.\n",
        "\n",
        "Again, remember to check that your results are correctly stored inside the dataframe."
      ]
    },
    {
      "cell_type": "code",
      "metadata": {
        "id": "-l6f-pGbqEz2",
        "colab_type": "code",
        "colab": {}
      },
      "source": [
        "posts = posts.rename(columns={'PostId':'post_id','userId':'user_id'})\n",
        "posts.head()"
      ],
      "execution_count": 0,
      "outputs": []
    },
    {
      "cell_type": "markdown",
      "metadata": {
        "id": "wdbi_dLtqE0A",
        "colab_type": "text"
      },
      "source": [
        "## Define new dataframes for users and posts with the following selected columns:\n",
        "\n",
        "**users columns**: user_id, Reputation, Views, UpVotes, DownVotes  \n",
        "**posts columns**: post_id, Score, user_id, ViewCount, CommentCount, Body"
      ]
    },
    {
      "cell_type": "code",
      "metadata": {
        "id": "0SV0bf0mqE0H",
        "colab_type": "code",
        "colab": {}
      },
      "source": [
        "new_users = users[['user_id', 'Reputation', 'Views', 'UpVotes', 'DownVotes']]\n",
        "new_posts = posts[['post_id', 'Score', 'user_id', 'ViewCount', 'CommentCount']]"
      ],
      "execution_count": 0,
      "outputs": []
    },
    {
      "cell_type": "markdown",
      "metadata": {
        "id": "oAcJqwJeqE0Q",
        "colab_type": "text"
      },
      "source": [
        "**Note:** Check the new posts dataframe's info. What is the most noticeable change? \n",
        "\n",
        "Explain why we have chosen only some columns of it in terms of efficiency."
      ]
    },
    {
      "cell_type": "markdown",
      "metadata": {
        "id": "lRinsOFOqE0T",
        "colab_type": "text"
      },
      "source": [
        "# Merge the new dataframes you have created, of users and posts. Create a dataframe called `posts_from_users`\n",
        "\n",
        "You will need to make an inner [merge](https://pandas.pydata.org/pandas-docs/stable/generated/pandas.DataFrame.merge.html) of posts and users dataframes. \n",
        "\n",
        "Think carefully which should be the key(s) for your merging."
      ]
    },
    {
      "cell_type": "code",
      "metadata": {
        "id": "D2EL0_FnqE0Y",
        "colab_type": "code",
        "colab": {}
      },
      "source": [
        "posts_from_users = new_users.merge(right = new_posts, on='user_id')"
      ],
      "execution_count": 0,
      "outputs": []
    },
    {
      "cell_type": "markdown",
      "metadata": {
        "id": "q3MjAOjLqE0i",
        "colab_type": "text"
      },
      "source": [
        "## Check the number of duplicated rows.\n",
        "\n",
        "Remember you can sum the results of a mask to get how many numbers the True value appeared in the results. This occurs because `True` is interpreted as `1` in Python whereas `False` is interpreted as `0`."
      ]
    },
    {
      "cell_type": "code",
      "metadata": {
        "id": "JqmUHnwXqE0k",
        "colab_type": "code",
        "colab": {}
      },
      "source": [
        "posts_from_users.duplicated(keep=False).sum()"
      ],
      "execution_count": 0,
      "outputs": []
    },
    {
      "cell_type": "markdown",
      "metadata": {
        "id": "Mf71ZBpkqE0u",
        "colab_type": "text"
      },
      "source": [
        "## Find those duplicate values and try to understand what happened.\n",
        "\n",
        "*Hint:* You can use the argument `keep=False` from the `.duplicated()` method to bring the duplication.\n",
        "\n",
        "*Hint 2:* You can sort the values `by=['user_id', 'post_id']` to see them in order.\n"
      ]
    },
    {
      "cell_type": "code",
      "metadata": {
        "id": "mMtDDKUXqE0x",
        "colab_type": "code",
        "colab": {}
      },
      "source": [
        ""
      ],
      "execution_count": 0,
      "outputs": []
    },
    {
      "cell_type": "markdown",
      "metadata": {
        "id": "5sMBXjGJqE06",
        "colab_type": "text"
      },
      "source": [
        "## Should you drop it? If you think it is reasonable to drop it, then drop it.\n",
        "\n",
        "Think: How would you correct it in the first place? That is, what was wrong in the first place?\n",
        "\n",
        "*Hint:* There's a pandas method to drop duplicates. If you wanted to do it by hand, you could select the indexes of the duplicated values and `.drop()` it. "
      ]
    },
    {
      "cell_type": "code",
      "metadata": {
        "id": "kBPZqy-XqE07",
        "colab_type": "code",
        "colab": {}
      },
      "source": [
        ""
      ],
      "execution_count": 0,
      "outputs": []
    },
    {
      "cell_type": "code",
      "metadata": {
        "id": "oiorwta5qE1F",
        "colab_type": "code",
        "colab": {}
      },
      "source": [
        ""
      ],
      "execution_count": 0,
      "outputs": []
    },
    {
      "cell_type": "markdown",
      "metadata": {
        "id": "Fpv13AHKqE1L",
        "colab_type": "text"
      },
      "source": [
        "## 10. How many missing values do you have in your merged dataframe? On which columns?"
      ]
    },
    {
      "cell_type": "code",
      "metadata": {
        "id": "rIGODPXJqE1N",
        "colab_type": "code",
        "colab": {}
      },
      "source": [
        ""
      ],
      "execution_count": 0,
      "outputs": []
    },
    {
      "cell_type": "markdown",
      "metadata": {
        "id": "Hkmf52p8qE1W",
        "colab_type": "text"
      },
      "source": [
        "## Select only the rows in which there at least some missing values."
      ]
    },
    {
      "cell_type": "code",
      "metadata": {
        "id": "dfEOcWieqE1Y",
        "colab_type": "code",
        "colab": {}
      },
      "source": [
        ""
      ],
      "execution_count": 0,
      "outputs": []
    },
    {
      "cell_type": "markdown",
      "metadata": {
        "id": "Htbk9xUiqE1f",
        "colab_type": "text"
      },
      "source": [
        "## You will need to make something with missing values.  Will you clean or filling them? \n",
        "\n",
        "Pay attention. There can be different reasons for the missings numbers. Look at the `user_id` of some of them, look at the body of the message. Which ones you're sure of what should be and which one can you infer? Don't hurry up, take a look at your data."
      ]
    },
    {
      "cell_type": "code",
      "metadata": {
        "id": "5oSLsTcHqE1k",
        "colab_type": "code",
        "colab": {}
      },
      "source": [
        ""
      ],
      "execution_count": 0,
      "outputs": []
    },
    {
      "cell_type": "markdown",
      "metadata": {
        "id": "136CDtfWqE1r",
        "colab_type": "text"
      },
      "source": [
        "## Adjust the data types in order to avoid future issues. Which ones should be changed? "
      ]
    },
    {
      "cell_type": "code",
      "metadata": {
        "id": "cyXSEmM7qE1t",
        "colab_type": "code",
        "colab": {}
      },
      "source": [
        ""
      ],
      "execution_count": 0,
      "outputs": []
    },
    {
      "cell_type": "markdown",
      "metadata": {
        "id": "8uyD2-EuqE11",
        "colab_type": "text"
      },
      "source": [
        "# Bonus 1: (filtering) What is the average number of comments for users who are above the average reputation?\n",
        "\n",
        "*Hint:* Calculate the average of the user Reputation. Store it in a variable called `avg_reputation` and then use that variable for filtering the dataset and generating the results for each case (for the case in which `Reputation > {avg_reputation}` and etc.\n",
        "\n",
        "*Hint 2:* You could create a variable based on that condition and use the group by function perform the task above."
      ]
    },
    {
      "cell_type": "code",
      "metadata": {
        "id": "ckfCp50cqE14",
        "colab_type": "code",
        "colab": {}
      },
      "source": [
        ""
      ],
      "execution_count": 0,
      "outputs": []
    },
    {
      "cell_type": "markdown",
      "metadata": {
        "id": "P0hxLuv1qE19",
        "colab_type": "text"
      },
      "source": [
        "# Bonus 2: (grouping) Group your dataframe by the Reputation of your user. Calculate the mean value of ViewCount and CommentCount for each reputation value.\n",
        "\n",
        "Suppose the missing values on ViewCount are due a systemic error and you wanted to guess what values should have been there in the first place, but the system abended.\n",
        "\n",
        "Would that be an interesting candidate for inputting the value for the missing `ViewCount` values? If so, input it with these values."
      ]
    },
    {
      "cell_type": "code",
      "metadata": {
        "id": "uUQ7tCQaqE2M",
        "colab_type": "code",
        "colab": {}
      },
      "source": [
        ""
      ],
      "execution_count": 0,
      "outputs": []
    },
    {
      "cell_type": "code",
      "metadata": {
        "id": "RukMEk6PqE2S",
        "colab_type": "code",
        "colab": {}
      },
      "source": [
        ""
      ],
      "execution_count": 0,
      "outputs": []
    },
    {
      "cell_type": "markdown",
      "metadata": {
        "id": "WT2wX9flqE2Z",
        "colab_type": "text"
      },
      "source": [
        "## refs"
      ]
    },
    {
      "cell_type": "markdown",
      "metadata": {
        "id": "V4yxfyJfqE2a",
        "colab_type": "text"
      },
      "source": [
        "Sample database used: https://relational.fit.cvut.cz/dataset/Stats\n",
        "\n",
        "Stack-overflow database: https://www.brentozar.com/archive/2015/10/how-to-download-the-stack-overflow-database-via-bittorrent/\n"
      ]
    }
  ]
}