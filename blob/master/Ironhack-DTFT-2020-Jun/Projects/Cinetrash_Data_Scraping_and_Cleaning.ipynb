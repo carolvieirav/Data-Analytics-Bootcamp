{
  "nbformat": 4,
  "nbformat_minor": 0,
  "metadata": {
    "kernelspec": {
      "display_name": "Python 3",
      "language": "python",
      "name": "python3"
    },
    "language_info": {
      "codemirror_mode": {
        "name": "ipython",
        "version": 3
      },
      "file_extension": ".py",
      "mimetype": "text/x-python",
      "name": "python",
      "nbconvert_exporter": "python",
      "pygments_lexer": "ipython3",
      "version": "3.6.9"
    },
    "colab": {
      "name": "Cinetrash - Data Scraping and Cleaning.ipynb",
      "provenance": [],
      "include_colab_link": true
    }
  },
  "cells": [
    {
      "cell_type": "markdown",
      "metadata": {
        "id": "view-in-github",
        "colab_type": "text"
      },
      "source": [
        "<a href=\"https://colab.research.google.com/github/carolvieirav/Data-Analytics-Bootcamp/blob/master/blob/master/Ironhack-DTFT-2020-Jun/Projects/Cinetrash_Data_Scraping_and_Cleaning.ipynb\" target=\"_parent\"><img src=\"https://colab.research.google.com/assets/colab-badge.svg\" alt=\"Open In Colab\"/></a>"
      ]
    },
    {
      "cell_type": "markdown",
      "metadata": {
        "id": "yQDWM-BV4iKj",
        "colab_type": "text"
      },
      "source": [
        "# Import Libraries "
      ]
    },
    {
      "cell_type": "code",
      "metadata": {
        "id": "HHWfu7nw4iKn",
        "colab_type": "code",
        "colab": {}
      },
      "source": [
        "import pandas as pd\n",
        "import numpy as np\n",
        "import re\n",
        "import lxml\n",
        "from bs4 import BeautifulSoup\n",
        "from requests import get\n",
        "from time import sleep\n",
        "from random import randint\n",
        "from tqdm import tqdm"
      ],
      "execution_count": 1,
      "outputs": []
    },
    {
      "cell_type": "code",
      "metadata": {
        "id": "w0jnbp4g4iK7",
        "colab_type": "code",
        "colab": {}
      },
      "source": [
        "from rake_nltk import Rake\n",
        "from collections import Counter\n",
        "from string import punctuation\n",
        "from nltk.corpus import stopwords\n",
        "from nltk import word_tokenize"
      ],
      "execution_count": 33,
      "outputs": []
    },
    {
      "cell_type": "markdown",
      "metadata": {
        "id": "_oNpm-Ry4iLN",
        "colab_type": "text"
      },
      "source": [
        "# Web Scraping"
      ]
    },
    {
      "cell_type": "markdown",
      "metadata": {
        "id": "xnCZMeaR4iLQ",
        "colab_type": "text"
      },
      "source": [
        "### Defining a Python Class to Extract IMDB's Keywords Pages"
      ]
    },
    {
      "cell_type": "code",
      "metadata": {
        "id": "nuSn81QB4iLT",
        "colab_type": "code",
        "colab": {}
      },
      "source": [
        "class IMDB(object):\n",
        "    \"\"\"\n",
        "    \n",
        "    This class operates like a universal IMDB's Keyword Page Extraction.\n",
        "    \n",
        "    \"\"\"\n",
        "\n",
        "    def __init__(self, url):\n",
        "        \n",
        "        '''\n",
        "        \n",
        "        This function initiate IMDB Class and gets the page links and content.\n",
        "        \n",
        "        '''\n",
        "        \n",
        "        super(IMDB, self).__init__()\n",
        "        \n",
        "        self.soups = []\n",
        "        pages = str(np.arange(1,5))\n",
        "        \n",
        "        for page in tqdm(pages):\n",
        "            \n",
        "            page = url.replace('page=1', 'page='+(page))\n",
        "            \n",
        "            page = get(page)\n",
        "            \n",
        "            self.soup = BeautifulSoup(page.content, 'lxml')\n",
        "            self.soups.append(self.soup)\n",
        "            \n",
        "            sleep(1)\n",
        "            \n",
        "        \n",
        "    def articleTitle(self):\n",
        "        \n",
        "        '''\n",
        "        \n",
        "        This function gets the movie title from the page's articles.\n",
        "        \n",
        "        '''\n",
        "        \n",
        "        return self.soup.find(\"h1\", class_=\"header\").text.replace(\"\\n\",\"\")\n",
        "\n",
        "    def bodyContent(self, soup):\n",
        "        \n",
        "        '''\n",
        "        \n",
        "        This function gets the contents of one movie content.\n",
        "        \n",
        "        '''\n",
        "        \n",
        "        content = soup.find(id=\"main\")\n",
        "        return content.find_all(\"div\", class_=\"lister-item mode-detail\")\n",
        "\n",
        "    def movieData(self):\n",
        "        \n",
        "        '''\n",
        "        \n",
        "        This function gets the title and data of the movie: \n",
        "        \n",
        "        runtime, genre, rating, score, description, casts and directors.\n",
        "        \n",
        "        '''\n",
        "        final = pd.DataFrame()\n",
        "        \n",
        "        \n",
        "        for soup in self.soups:\n",
        "            Frame = self.bodyContent(soup)\n",
        "            Title = []\n",
        "            Date = []\n",
        "            RunTime = []\n",
        "            Genre = []\n",
        "            Description = []\n",
        "            Director = []\n",
        "            Stars = []\n",
        "            Votes = []\n",
        "\n",
        "            for movie in tqdm(Frame):\n",
        "                FirstLine = movie.find(\"h3\", class_=\"lister-item-header\")\n",
        "\n",
        "                # Get the Title\n",
        "                Title.append(FirstLine.find(\"a\").text)\n",
        "\n",
        "                #  Get the Date\n",
        "                Date.append(re.sub(r\"[()]\",\"\", FirstLine.find_all(\"span\")[-1].text))\n",
        "\n",
        "                # Get RunTime\n",
        "                try:\n",
        "                    RunTime.append(movie.find(\"span\", class_=\"runtime\").text[:-4])\n",
        "                except:\n",
        "                    RunTime.append(\"unknown\")\n",
        "\n",
        "                #Get the Genres\n",
        "                Genre.append(movie.find(\"span\", class_=\"genre\").text.rstrip().replace(\"\\n\",\"\").split(\",\"))\n",
        "\n",
        "                #Get Description\n",
        "                Description.append(movie.find(\"p\", class_=\"\").text.replace(\"\\n\",\"\").strip())\n",
        "\n",
        "                # Get movie Director and Stars\n",
        "                movieCast = movie.find_all(\"p\", class_=\"text-muted text-small\")[1].text.lstrip()\n",
        "\n",
        "                try:\n",
        "                    casts = movieCast.replace(\"\\n\",\"\").split('|')\n",
        "                    casts = [x.strip() for x in casts]\n",
        "                    casts = [casts[i].replace(j, \"\") for i,j in enumerate([\"Director:\", \"Stars:\"])]\n",
        "                    Director.append(casts[0])\n",
        "                    Stars.append([x.strip() for x in casts[1].split(\",\")])\n",
        "                except:\n",
        "                    casts = movieCast.replace(\"\\n\",\"\").strip()\n",
        "                    Director.append('unknown')\n",
        "                    Stars.append([x.strip() for x in casts.split(\",\")])\n",
        "\n",
        "                Numbers = movie.find_all(\"span\", attrs={\"name\": \"nv\"})\n",
        "\n",
        "                if len(Numbers) == 2:\n",
        "                    Votes.append(Numbers[0].text)\n",
        "                elif len(Numbers) == 1:\n",
        "                    Votes.append(Numbers[0].text)\n",
        "                else:\n",
        "                    Votes.append(\"unknown\")\n",
        "\n",
        "\n",
        "\n",
        "            # Transforming all information lists in Panda Series and create a Dataframe.\n",
        "\n",
        "            Frame = pd.Series(Frame)\n",
        "            Title = pd.Series(Title)\n",
        "            Date = pd.Series(Date)\n",
        "            RunTime = pd.Series(RunTime)\n",
        "            Genre = pd.Series(Genre)\n",
        "            Description = pd.Series(Description)\n",
        "            Director = pd.Series(Director)\n",
        "            Stars = pd.Series(Stars)\n",
        "            Votes = pd.Series(Votes)\n",
        "\n",
        "            mdata = pd.DataFrame({'Title':Title, \n",
        "                                  'Date':Date, \n",
        "                                  'RunTime':RunTime, \n",
        "                                  'Genre':Genre, \n",
        "                                  'Description':Description, \n",
        "                                  'Director':Director, \n",
        "                                  'Stars':Stars, \n",
        "                                  'Votes':Votes, \n",
        "                                  })\n",
        "\n",
        "            mdata.reset_index(drop=True)\n",
        "\n",
        "            final = pd.concat([final, mdata])\n",
        "        \n",
        "        \n",
        "        return final"
      ],
      "execution_count": 10,
      "outputs": []
    },
    {
      "cell_type": "markdown",
      "metadata": {
        "id": "oQaD5EgI4iLe",
        "colab_type": "text"
      },
      "source": [
        "### URLs that we'll be using"
      ]
    },
    {
      "cell_type": "code",
      "metadata": {
        "id": "DyGN4wR34iLf",
        "colab_type": "code",
        "colab": {}
      },
      "source": [
        "zmovie = \"https://www.imdb.com/search/keyword/?keywords=z-movie&ref_=kw_ref_key&sort=moviemeter,asc&mode=detail&page=1\"\n",
        "camp = \"https://www.imdb.com/search/keyword/?keywords=camp%2Ccampy%2Cb-movie&ref_=kw_ref_key&mode=detail&page=1&sort=moviemeter,asc\"\n",
        "exploitation = \"https://www.imdb.com/search/keyword/?keywords=exploitation-film&ref_=kw_ref_key&sort=moviemeter,asc&mode=detail&page=1\"\n",
        "bmovie = \"https://www.imdb.com/search/keyword/?keywords=b-movie&ref_=kw_ref_key&mode=detail&page=1&sort=moviemeter,asc\"\n",
        "trash = \"https://www.imdb.com/search/keyword/?keywords=trash-movie&ref_=fn_kw_kw_1\"\n",
        "kungfu = \"https://www.imdb.com/search/keyword/?keywords=kung-fu%2Cindependent-film&ref_=kw_ref_key&sort=user_rating,desc&mode=detail&page=1\"\n",
        "bwestern = \"https://www.imdb.com/search/keyword/?keywords=b-western&ref_=fn_kw_kw_6\"\n",
        "kitsch = \"https://www.imdb.com/search/keyword/?keywords=kitsch&ref_=fn_kw_kw_1\"\n",
        "\n",
        "keywords = [zmovie, camp, exploitation, bmovie, trash, kungfu, bwestern, kitsch]"
      ],
      "execution_count": 11,
      "outputs": []
    },
    {
      "cell_type": "code",
      "metadata": {
        "id": "sHNKsBU84iLr",
        "colab_type": "code",
        "colab": {}
      },
      "source": [
        "Action = 'https://www.imdb.com/search/keyword/?ref_=kw_ref_gnr&mode=detail&page=1&title_type=movie&genres=Action&sort=moviemeter,asc'\n",
        "Adventure = 'https://www.imdb.com/search/keyword/?ref_=kw_ref_gnr&mode=detail&page=1&title_type=movie&genres=Adventure&sort=moviemeter,asc'\n",
        "Comedy = 'https://www.imdb.com/search/keyword/?ref_=kw_ref_typ&sort=moviemeter,asc&mode=detail&page=1&title_type=movie&genres=Comedy'\n",
        "Crime = 'https://www.imdb.com/search/keyword/?ref_=kw_ref_gnr&mode=detail&page=1&title_type=movie&genres=Crime&sort=moviemeter,asc'\n",
        "Fantasy = 'https://www.imdb.com/search/keyword/?ref_=kw_ref_gnr&mode=detail&page=1&title_type=movie&genres=Fantasy&sort=moviemeter,asc'\n",
        "Horror = 'https://www.imdb.com/search/keyword/?ref_=kw_ref_gnr&mode=detail&page=1&title_type=movie&genres=Horror&sort=moviemeter,asc'\n",
        "Music = 'https://www.imdb.com/search/keyword/?ref_=kw_ref_gnr&mode=detail&page=1&title_type=movie&genres=Music&sort=moviemeter,asc'\n",
        "Romance = 'https://www.imdb.com/search/keyword/?ref_=kw_ref_gnr&mode=detail&page=1&title_type=movie&genres=Romance&sort=moviemeter,asc'\n",
        "SciFi = 'https://www.imdb.com/search/keyword/?ref_=kw_ref_gnr&mode=detail&page=1&title_type=movie&genres=Sci-Fi&sort=moviemeter,asc'\n",
        "Western = 'https://www.imdb.com/search/keyword/?ref_=kw_ref_gnr&mode=detail&page=1&title_type=movie&genres=Western&sort=moviemeter,asc'\n",
        "Drama = 'https://www.imdb.com/search/keyword/?ref_=kw_ref_gnr&mode=detail&page=1&title_type=movie&genres=Drama&sort=moviemeter,asc'\n",
        "Biography = 'https://www.imdb.com/search/keyword/?ref_=kw_ref_gnr&mode=detail&page=1&title_type=movie&genres=Biography&sort=moviemeter,asc'\n",
        "Thriller = 'https://www.imdb.com/search/keyword/?ref_=kw_ref_gnr&mode=detail&page=1&title_type=movie&genres=Thriller&sort=moviemeter,asc'\n",
        "Sport = 'https://www.imdb.com/search/keyword/?ref_=kw_ref_gnr&mode=detail&page=1&title_type=movie&genres=Sport&sort=moviemeter,asc'\n",
        "Family = 'https://www.imdb.com/search/keyword/?ref_=kw_ref_gnr&mode=detail&page=1&title_type=movie&genres=Family&sort=moviemeter,asc'\n",
        "Mystery = 'https://www.imdb.com/search/keyword/?ref_=kw_ref_gnr&mode=detail&page=1&title_type=movie&genres=Mystery&sort=moviemeter,asc'\n",
        "Animations = 'https://www.imdb.com/search/keyword/?ref_=kw_ref_gnr&mode=detail&page=1&title_type=movie&genres=Animation&sort=moviemeter,asc'\n",
        "Documentary = 'https://www.imdb.com/search/keyword/?ref_=kw_ref_gnr&mode=detail&page=1&title_type=movie&genres=Documentary&sort=moviemeter,asc'\n",
        "History = 'https://www.imdb.com/search/keyword/?ref_=kw_ref_gnr&mode=detail&page=1&title_type=movie&genres=History&sort=moviemeter,asc'\n",
        "War = 'https://www.imdb.com/search/keyword/?ref_=kw_ref_gnr&mode=detail&page=1&title_type=movie&genres=War&sort=moviemeter,asc'\n",
        "Musical = 'https://www.imdb.com/search/keyword/?ref_=kw_ref_gnr&mode=detail&page=1&title_type=movie&genres=Musical&sort=moviemeter,asc'\n",
        "\n",
        "genres = [Action, Adventure, Comedy, Crime, Fantasy, Horror, Music, Romance, SciFi, Western, Drama, Biography, Thriller, Sport, Family, Mystery, Animations, Documentary, History, War, Musical]"
      ],
      "execution_count": 12,
      "outputs": []
    },
    {
      "cell_type": "code",
      "metadata": {
        "id": "Pf_ICwdf4iL3",
        "colab_type": "code",
        "colab": {
          "base_uri": "https://localhost:8080/",
          "height": 1000
        },
        "outputId": "98ed9b94-f98a-41c7-962b-17630027e8ef"
      },
      "source": [
        "# Scraping movie data with IMDB class\n",
        "imdb = [IMDB(x) for x in keywords]\n",
        "mdata = [pd.DataFrame(x.movieData()) for x in imdb]"
      ],
      "execution_count": 13,
      "outputs": [
        {
          "output_type": "stream",
          "text": [
            "100%|██████████| 9/9 [00:19<00:00,  2.13s/it]\n",
            "100%|██████████| 9/9 [00:21<00:00,  2.40s/it]\n",
            "100%|██████████| 9/9 [00:20<00:00,  2.25s/it]\n",
            "100%|██████████| 9/9 [00:20<00:00,  2.25s/it]\n",
            "100%|██████████| 9/9 [00:18<00:00,  2.06s/it]\n",
            "100%|██████████| 9/9 [00:42<00:00,  4.68s/it]\n",
            "100%|██████████| 9/9 [00:20<00:00,  2.26s/it]\n",
            "100%|██████████| 9/9 [00:19<00:00,  2.15s/it]\n",
            "100%|██████████| 50/50 [00:00<00:00, 479.15it/s]\n",
            "100%|██████████| 50/50 [00:00<00:00, 483.04it/s]\n",
            "100%|██████████| 50/50 [00:00<00:00, 480.06it/s]\n",
            "100%|██████████| 50/50 [00:00<00:00, 466.08it/s]\n",
            "100%|██████████| 50/50 [00:00<00:00, 460.90it/s]\n",
            "100%|██████████| 50/50 [00:00<00:00, 489.66it/s]\n",
            "100%|██████████| 50/50 [00:00<00:00, 472.11it/s]\n",
            "100%|██████████| 50/50 [00:00<00:00, 429.85it/s]\n",
            "100%|██████████| 50/50 [00:00<00:00, 479.54it/s]\n",
            "100%|██████████| 50/50 [00:00<00:00, 451.92it/s]\n",
            "100%|██████████| 50/50 [00:00<00:00, 439.33it/s]\n",
            "100%|██████████| 50/50 [00:00<00:00, 445.27it/s]\n",
            "100%|██████████| 50/50 [00:00<00:00, 456.03it/s]\n",
            "100%|██████████| 50/50 [00:00<00:00, 422.39it/s]\n",
            "100%|██████████| 50/50 [00:00<00:00, 418.05it/s]\n",
            "100%|██████████| 50/50 [00:00<00:00, 452.48it/s]\n",
            "100%|██████████| 50/50 [00:00<00:00, 474.84it/s]\n",
            "100%|██████████| 50/50 [00:00<00:00, 423.97it/s]\n",
            "100%|██████████| 50/50 [00:00<00:00, 440.44it/s]\n",
            "100%|██████████| 50/50 [00:00<00:00, 478.91it/s]\n",
            "100%|██████████| 50/50 [00:00<00:00, 410.91it/s]\n",
            "100%|██████████| 50/50 [00:00<00:00, 473.22it/s]\n",
            "100%|██████████| 50/50 [00:00<00:00, 476.34it/s]\n",
            "100%|██████████| 50/50 [00:00<00:00, 444.59it/s]\n",
            "100%|██████████| 50/50 [00:00<00:00, 466.83it/s]\n",
            "100%|██████████| 50/50 [00:00<00:00, 444.71it/s]\n",
            "100%|██████████| 50/50 [00:00<00:00, 450.64it/s]\n",
            "100%|██████████| 50/50 [00:00<00:00, 436.03it/s]\n",
            "100%|██████████| 50/50 [00:00<00:00, 395.01it/s]\n",
            "100%|██████████| 50/50 [00:00<00:00, 400.53it/s]\n",
            "100%|██████████| 50/50 [00:00<00:00, 473.97it/s]\n",
            "100%|██████████| 50/50 [00:00<00:00, 452.73it/s]\n",
            "100%|██████████| 50/50 [00:00<00:00, 461.09it/s]\n",
            "100%|██████████| 50/50 [00:00<00:00, 454.68it/s]\n",
            "100%|██████████| 50/50 [00:00<00:00, 459.05it/s]\n",
            "100%|██████████| 50/50 [00:00<00:00, 455.94it/s]\n",
            "100%|██████████| 50/50 [00:00<00:00, 469.17it/s]\n",
            "100%|██████████| 50/50 [00:00<00:00, 456.03it/s]\n",
            "100%|██████████| 50/50 [00:00<00:00, 447.76it/s]\n",
            "100%|██████████| 50/50 [00:00<00:00, 473.67it/s]\n",
            "100%|██████████| 50/50 [00:00<00:00, 431.89it/s]\n",
            "100%|██████████| 50/50 [00:00<00:00, 446.28it/s]\n",
            "100%|██████████| 50/50 [00:00<00:00, 467.32it/s]\n",
            "100%|██████████| 50/50 [00:00<00:00, 468.34it/s]\n",
            "100%|██████████| 50/50 [00:00<00:00, 470.10it/s]\n",
            "100%|██████████| 50/50 [00:00<00:00, 445.43it/s]\n",
            "100%|██████████| 50/50 [00:00<00:00, 434.36it/s]\n",
            "100%|██████████| 50/50 [00:00<00:00, 441.33it/s]\n",
            "100%|██████████| 50/50 [00:00<00:00, 428.55it/s]\n",
            "100%|██████████| 50/50 [00:00<00:00, 449.99it/s]\n",
            "100%|██████████| 50/50 [00:00<00:00, 447.20it/s]\n",
            "100%|██████████| 50/50 [00:00<00:00, 400.03it/s]\n",
            "100%|██████████| 50/50 [00:00<00:00, 389.00it/s]\n",
            "100%|██████████| 50/50 [00:00<00:00, 466.99it/s]\n",
            "100%|██████████| 50/50 [00:00<00:00, 451.40it/s]\n",
            "100%|██████████| 50/50 [00:00<00:00, 419.82it/s]\n",
            "100%|██████████| 50/50 [00:00<00:00, 470.33it/s]\n",
            "100%|██████████| 50/50 [00:00<00:00, 443.08it/s]\n",
            "100%|██████████| 50/50 [00:00<00:00, 470.27it/s]\n",
            "100%|██████████| 50/50 [00:00<00:00, 473.44it/s]\n",
            "100%|██████████| 50/50 [00:00<00:00, 480.11it/s]\n",
            "100%|██████████| 50/50 [00:00<00:00, 474.68it/s]\n",
            "100%|██████████| 50/50 [00:00<00:00, 446.43it/s]\n",
            "100%|██████████| 50/50 [00:00<00:00, 432.98it/s]\n",
            "100%|██████████| 50/50 [00:00<00:00, 501.48it/s]\n",
            "100%|██████████| 50/50 [00:00<00:00, 471.67it/s]\n",
            "100%|██████████| 50/50 [00:00<00:00, 492.04it/s]\n",
            "100%|██████████| 50/50 [00:00<00:00, 505.98it/s]\n",
            "100%|██████████| 50/50 [00:00<00:00, 490.22it/s]\n",
            "100%|██████████| 50/50 [00:00<00:00, 501.91it/s]\n",
            "100%|██████████| 50/50 [00:00<00:00, 503.56it/s]\n",
            "100%|██████████| 50/50 [00:00<00:00, 508.41it/s]\n"
          ],
          "name": "stderr"
        }
      ]
    },
    {
      "cell_type": "code",
      "metadata": {
        "id": "xux7bm2B4iMC",
        "colab_type": "code",
        "colab": {}
      },
      "source": [
        "trash_movies = mdata[0].append([mdata[1],mdata[2],mdata[3],mdata[4],mdata[5],mdata[6],mdata[7]])"
      ],
      "execution_count": 17,
      "outputs": []
    },
    {
      "cell_type": "code",
      "metadata": {
        "id": "OysTBKyy4iMJ",
        "colab_type": "code",
        "colab": {
          "base_uri": "https://localhost:8080/",
          "height": 1000
        },
        "outputId": "e3dd70c4-03aa-421e-9cee-446f5f1f3376"
      },
      "source": [
        "imdb2 = [IMDB(x) for x in genres]\n",
        "mdata2 = [pd.DataFrame(x.movieData()) for x in imdb2]"
      ],
      "execution_count": 18,
      "outputs": [
        {
          "output_type": "stream",
          "text": [
            "100%|██████████| 9/9 [00:23<00:00,  2.65s/it]\n",
            "100%|██████████| 9/9 [00:21<00:00,  2.41s/it]\n",
            "100%|██████████| 9/9 [00:21<00:00,  2.34s/it]\n",
            "100%|██████████| 9/9 [00:25<00:00,  2.85s/it]\n",
            "100%|██████████| 9/9 [00:21<00:00,  2.33s/it]\n",
            "100%|██████████| 9/9 [00:21<00:00,  2.34s/it]\n",
            "100%|██████████| 9/9 [00:22<00:00,  2.51s/it]\n",
            "100%|██████████| 9/9 [00:21<00:00,  2.37s/it]\n",
            "100%|██████████| 9/9 [00:21<00:00,  2.38s/it]\n",
            "100%|██████████| 9/9 [00:22<00:00,  2.49s/it]\n",
            "100%|██████████| 9/9 [00:23<00:00,  2.58s/it]\n",
            "100%|██████████| 9/9 [00:19<00:00,  2.22s/it]\n",
            "100%|██████████| 9/9 [00:20<00:00,  2.26s/it]\n",
            "100%|██████████| 9/9 [00:20<00:00,  2.25s/it]\n",
            "100%|██████████| 9/9 [00:23<00:00,  2.66s/it]\n",
            "100%|██████████| 9/9 [00:22<00:00,  2.53s/it]\n",
            "100%|██████████| 9/9 [00:20<00:00,  2.28s/it]\n",
            "100%|██████████| 9/9 [00:21<00:00,  2.36s/it]\n",
            "100%|██████████| 9/9 [00:21<00:00,  2.34s/it]\n",
            "100%|██████████| 9/9 [00:21<00:00,  2.36s/it]\n",
            "100%|██████████| 9/9 [00:21<00:00,  2.38s/it]\n",
            "100%|██████████| 50/50 [00:00<00:00, 519.68it/s]\n",
            "100%|██████████| 50/50 [00:00<00:00, 526.24it/s]\n",
            "100%|██████████| 50/50 [00:00<00:00, 519.98it/s]\n",
            "100%|██████████| 50/50 [00:00<00:00, 391.36it/s]\n",
            "100%|██████████| 50/50 [00:00<00:00, 513.48it/s]\n",
            "100%|██████████| 50/50 [00:00<00:00, 440.08it/s]\n",
            "100%|██████████| 50/50 [00:00<00:00, 508.67it/s]\n",
            "100%|██████████| 50/50 [00:00<00:00, 469.48it/s]\n",
            "100%|██████████| 50/50 [00:00<00:00, 527.36it/s]\n",
            "100%|██████████| 50/50 [00:00<00:00, 445.17it/s]\n",
            "100%|██████████| 50/50 [00:00<00:00, 469.36it/s]\n",
            "100%|██████████| 50/50 [00:00<00:00, 462.68it/s]\n",
            "100%|██████████| 50/50 [00:00<00:00, 389.71it/s]\n",
            "100%|██████████| 50/50 [00:00<00:00, 457.96it/s]\n",
            "100%|██████████| 50/50 [00:00<00:00, 451.49it/s]\n",
            "100%|██████████| 50/50 [00:00<00:00, 473.58it/s]\n",
            "100%|██████████| 50/50 [00:00<00:00, 427.06it/s]\n",
            "100%|██████████| 50/50 [00:00<00:00, 484.78it/s]\n",
            "100%|██████████| 50/50 [00:00<00:00, 454.36it/s]\n",
            "100%|██████████| 50/50 [00:00<00:00, 419.46it/s]\n",
            "100%|██████████| 50/50 [00:00<00:00, 462.08it/s]\n",
            "100%|██████████| 50/50 [00:00<00:00, 444.41it/s]\n",
            "100%|██████████| 50/50 [00:00<00:00, 396.77it/s]\n",
            "100%|██████████| 50/50 [00:00<00:00, 343.00it/s]\n",
            "100%|██████████| 50/50 [00:00<00:00, 422.40it/s]\n",
            "100%|██████████| 50/50 [00:00<00:00, 424.87it/s]\n",
            "100%|██████████| 50/50 [00:00<00:00, 452.47it/s]\n",
            "100%|██████████| 50/50 [00:00<00:00, 446.15it/s]\n",
            "100%|██████████| 50/50 [00:00<00:00, 399.41it/s]\n",
            "100%|██████████| 50/50 [00:00<00:00, 480.13it/s]\n",
            "100%|██████████| 50/50 [00:00<00:00, 457.02it/s]\n",
            "100%|██████████| 50/50 [00:00<00:00, 460.86it/s]\n",
            "100%|██████████| 50/50 [00:00<00:00, 466.13it/s]\n",
            "100%|██████████| 50/50 [00:00<00:00, 465.89it/s]\n",
            "100%|██████████| 50/50 [00:00<00:00, 429.10it/s]\n",
            "100%|██████████| 50/50 [00:00<00:00, 474.23it/s]\n",
            "100%|██████████| 50/50 [00:00<00:00, 468.81it/s]\n",
            "100%|██████████| 50/50 [00:00<00:00, 447.44it/s]\n",
            "100%|██████████| 50/50 [00:00<00:00, 471.90it/s]\n",
            "100%|██████████| 50/50 [00:00<00:00, 467.47it/s]\n",
            "100%|██████████| 50/50 [00:00<00:00, 443.30it/s]\n",
            "100%|██████████| 50/50 [00:00<00:00, 467.58it/s]\n",
            "100%|██████████| 50/50 [00:00<00:00, 459.29it/s]\n",
            "100%|██████████| 50/50 [00:00<00:00, 421.24it/s]\n",
            "100%|██████████| 50/50 [00:00<00:00, 444.68it/s]\n",
            "100%|██████████| 50/50 [00:00<00:00, 453.01it/s]\n",
            "100%|██████████| 50/50 [00:00<00:00, 469.23it/s]\n",
            "100%|██████████| 50/50 [00:00<00:00, 479.40it/s]\n",
            "100%|██████████| 50/50 [00:00<00:00, 472.81it/s]\n",
            "100%|██████████| 50/50 [00:00<00:00, 460.67it/s]\n",
            "100%|██████████| 50/50 [00:00<00:00, 461.04it/s]\n",
            "100%|██████████| 50/50 [00:00<00:00, 480.60it/s]\n",
            "100%|██████████| 50/50 [00:00<00:00, 431.78it/s]\n",
            "100%|██████████| 50/50 [00:00<00:00, 469.27it/s]\n",
            "100%|██████████| 50/50 [00:00<00:00, 448.53it/s]\n",
            "100%|██████████| 50/50 [00:00<00:00, 442.06it/s]\n",
            "100%|██████████| 50/50 [00:00<00:00, 436.58it/s]\n",
            "100%|██████████| 50/50 [00:00<00:00, 466.94it/s]\n",
            "100%|██████████| 50/50 [00:00<00:00, 452.01it/s]\n",
            "100%|██████████| 50/50 [00:00<00:00, 420.78it/s]\n",
            "100%|██████████| 50/50 [00:00<00:00, 454.01it/s]\n",
            "100%|██████████| 50/50 [00:00<00:00, 459.01it/s]\n",
            "100%|██████████| 50/50 [00:00<00:00, 444.72it/s]\n",
            "100%|██████████| 50/50 [00:00<00:00, 416.17it/s]\n",
            "100%|██████████| 50/50 [00:00<00:00, 459.02it/s]\n",
            "100%|██████████| 50/50 [00:00<00:00, 443.64it/s]\n",
            "100%|██████████| 50/50 [00:00<00:00, 440.72it/s]\n",
            "100%|██████████| 50/50 [00:00<00:00, 421.04it/s]\n",
            "100%|██████████| 50/50 [00:00<00:00, 454.77it/s]\n",
            "100%|██████████| 50/50 [00:00<00:00, 456.09it/s]\n",
            "100%|██████████| 50/50 [00:00<00:00, 448.65it/s]\n",
            "100%|██████████| 50/50 [00:00<00:00, 427.78it/s]\n",
            "100%|██████████| 50/50 [00:00<00:00, 499.06it/s]\n",
            "100%|██████████| 50/50 [00:00<00:00, 501.59it/s]\n",
            "100%|██████████| 50/50 [00:00<00:00, 490.43it/s]\n",
            "100%|██████████| 50/50 [00:00<00:00, 458.35it/s]\n",
            "100%|██████████| 50/50 [00:00<00:00, 471.82it/s]\n",
            "100%|██████████| 50/50 [00:00<00:00, 465.30it/s]\n",
            "100%|██████████| 50/50 [00:00<00:00, 479.73it/s]\n",
            "100%|██████████| 50/50 [00:00<00:00, 393.84it/s]\n",
            "100%|██████████| 50/50 [00:00<00:00, 489.72it/s]\n",
            "100%|██████████| 50/50 [00:00<00:00, 433.11it/s]\n",
            "100%|██████████| 50/50 [00:00<00:00, 459.11it/s]\n",
            "100%|██████████| 50/50 [00:00<00:00, 439.11it/s]\n",
            "100%|██████████| 50/50 [00:00<00:00, 435.65it/s]\n",
            "100%|██████████| 50/50 [00:00<00:00, 452.05it/s]\n",
            "100%|██████████| 50/50 [00:00<00:00, 428.95it/s]\n",
            "100%|██████████| 50/50 [00:00<00:00, 426.29it/s]\n",
            "100%|██████████| 50/50 [00:00<00:00, 462.51it/s]\n",
            "100%|██████████| 50/50 [00:00<00:00, 445.42it/s]\n",
            "100%|██████████| 50/50 [00:00<00:00, 488.78it/s]\n",
            "100%|██████████| 50/50 [00:00<00:00, 468.41it/s]\n",
            "100%|██████████| 50/50 [00:00<00:00, 469.25it/s]\n",
            "100%|██████████| 50/50 [00:00<00:00, 440.14it/s]\n",
            "100%|██████████| 50/50 [00:00<00:00, 450.26it/s]\n",
            "100%|██████████| 50/50 [00:00<00:00, 401.79it/s]\n",
            "100%|██████████| 50/50 [00:00<00:00, 440.61it/s]\n",
            "100%|██████████| 50/50 [00:00<00:00, 459.07it/s]\n",
            "100%|██████████| 50/50 [00:00<00:00, 476.67it/s]\n",
            "100%|██████████| 50/50 [00:00<00:00, 413.23it/s]\n",
            "100%|██████████| 50/50 [00:00<00:00, 387.29it/s]\n",
            "100%|██████████| 50/50 [00:00<00:00, 437.04it/s]\n",
            "100%|██████████| 50/50 [00:00<00:00, 446.67it/s]\n",
            "100%|██████████| 50/50 [00:00<00:00, 415.60it/s]\n",
            "100%|██████████| 50/50 [00:00<00:00, 443.17it/s]\n",
            "100%|██████████| 50/50 [00:00<00:00, 443.58it/s]\n",
            "100%|██████████| 50/50 [00:00<00:00, 436.20it/s]\n",
            "100%|██████████| 50/50 [00:00<00:00, 449.48it/s]\n",
            "100%|██████████| 50/50 [00:00<00:00, 433.91it/s]\n",
            "100%|██████████| 50/50 [00:00<00:00, 468.54it/s]\n",
            "100%|██████████| 50/50 [00:00<00:00, 473.63it/s]\n",
            "100%|██████████| 50/50 [00:00<00:00, 420.59it/s]\n",
            "100%|██████████| 50/50 [00:00<00:00, 467.13it/s]\n",
            "100%|██████████| 50/50 [00:00<00:00, 461.07it/s]\n",
            "100%|██████████| 50/50 [00:00<00:00, 442.89it/s]\n",
            "100%|██████████| 50/50 [00:00<00:00, 447.10it/s]\n",
            "100%|██████████| 50/50 [00:00<00:00, 460.52it/s]\n",
            "100%|██████████| 50/50 [00:00<00:00, 456.32it/s]\n",
            "100%|██████████| 50/50 [00:00<00:00, 459.85it/s]\n",
            "100%|██████████| 50/50 [00:00<00:00, 444.95it/s]\n",
            "100%|██████████| 50/50 [00:00<00:00, 435.68it/s]\n",
            "100%|██████████| 50/50 [00:00<00:00, 448.19it/s]\n",
            "100%|██████████| 50/50 [00:00<00:00, 414.51it/s]\n",
            "100%|██████████| 50/50 [00:00<00:00, 417.40it/s]\n",
            "100%|██████████| 50/50 [00:00<00:00, 416.81it/s]\n",
            "100%|██████████| 50/50 [00:00<00:00, 437.37it/s]\n",
            "100%|██████████| 50/50 [00:00<00:00, 448.72it/s]\n",
            "100%|██████████| 50/50 [00:00<00:00, 463.12it/s]\n",
            "100%|██████████| 50/50 [00:00<00:00, 470.16it/s]\n",
            "100%|██████████| 50/50 [00:00<00:00, 459.55it/s]\n",
            "100%|██████████| 50/50 [00:00<00:00, 433.86it/s]\n",
            "100%|██████████| 50/50 [00:00<00:00, 434.45it/s]\n",
            "100%|██████████| 50/50 [00:00<00:00, 476.57it/s]\n",
            "100%|██████████| 50/50 [00:00<00:00, 456.82it/s]\n",
            "100%|██████████| 50/50 [00:00<00:00, 439.33it/s]\n",
            "100%|██████████| 50/50 [00:00<00:00, 399.43it/s]\n",
            "100%|██████████| 50/50 [00:00<00:00, 446.05it/s]\n",
            "100%|██████████| 50/50 [00:00<00:00, 445.16it/s]\n",
            "100%|██████████| 50/50 [00:00<00:00, 471.31it/s]\n",
            "100%|██████████| 50/50 [00:00<00:00, 426.55it/s]\n",
            "100%|██████████| 50/50 [00:00<00:00, 426.28it/s]\n",
            "100%|██████████| 50/50 [00:00<00:00, 435.10it/s]\n",
            "100%|██████████| 50/50 [00:00<00:00, 464.45it/s]\n",
            "100%|██████████| 50/50 [00:00<00:00, 453.01it/s]\n",
            "100%|██████████| 50/50 [00:00<00:00, 399.15it/s]\n",
            "100%|██████████| 50/50 [00:00<00:00, 450.54it/s]\n",
            "100%|██████████| 50/50 [00:00<00:00, 443.67it/s]\n",
            "100%|██████████| 50/50 [00:00<00:00, 457.12it/s]\n",
            "100%|██████████| 50/50 [00:00<00:00, 441.07it/s]\n",
            "100%|██████████| 50/50 [00:00<00:00, 415.57it/s]\n",
            "100%|██████████| 50/50 [00:00<00:00, 420.91it/s]\n",
            "100%|██████████| 50/50 [00:00<00:00, 431.96it/s]\n",
            "100%|██████████| 50/50 [00:00<00:00, 454.56it/s]\n",
            "100%|██████████| 50/50 [00:00<00:00, 423.81it/s]\n",
            "100%|██████████| 50/50 [00:00<00:00, 440.32it/s]\n",
            "100%|██████████| 50/50 [00:00<00:00, 457.82it/s]\n",
            "100%|██████████| 50/50 [00:00<00:00, 423.88it/s]\n",
            "100%|██████████| 50/50 [00:00<00:00, 448.27it/s]\n",
            "100%|██████████| 50/50 [00:00<00:00, 460.35it/s]\n",
            "100%|██████████| 50/50 [00:00<00:00, 432.16it/s]\n",
            "100%|██████████| 50/50 [00:00<00:00, 422.43it/s]\n",
            "100%|██████████| 50/50 [00:00<00:00, 474.34it/s]\n",
            "100%|██████████| 50/50 [00:00<00:00, 450.23it/s]\n",
            "100%|██████████| 50/50 [00:00<00:00, 441.46it/s]\n",
            "100%|██████████| 50/50 [00:00<00:00, 449.25it/s]\n",
            "100%|██████████| 50/50 [00:00<00:00, 450.22it/s]\n",
            "100%|██████████| 50/50 [00:00<00:00, 458.12it/s]\n",
            "100%|██████████| 50/50 [00:00<00:00, 428.73it/s]\n",
            "100%|██████████| 50/50 [00:00<00:00, 392.82it/s]\n",
            "100%|██████████| 50/50 [00:00<00:00, 452.75it/s]\n",
            "100%|██████████| 50/50 [00:00<00:00, 455.44it/s]\n",
            "100%|██████████| 50/50 [00:00<00:00, 413.49it/s]\n",
            "100%|██████████| 50/50 [00:00<00:00, 429.73it/s]\n",
            "100%|██████████| 50/50 [00:00<00:00, 419.95it/s]\n",
            "100%|██████████| 50/50 [00:00<00:00, 452.98it/s]\n",
            "100%|██████████| 50/50 [00:00<00:00, 457.02it/s]\n",
            "100%|██████████| 50/50 [00:00<00:00, 386.79it/s]\n",
            "100%|██████████| 50/50 [00:00<00:00, 439.97it/s]\n",
            "100%|██████████| 50/50 [00:00<00:00, 425.79it/s]\n",
            "100%|██████████| 50/50 [00:00<00:00, 455.41it/s]\n",
            "100%|██████████| 50/50 [00:00<00:00, 450.50it/s]\n",
            "100%|██████████| 50/50 [00:00<00:00, 451.53it/s]\n",
            "100%|██████████| 50/50 [00:00<00:00, 466.56it/s]\n",
            "100%|██████████| 50/50 [00:00<00:00, 422.79it/s]\n",
            "100%|██████████| 50/50 [00:00<00:00, 447.43it/s]\n",
            "100%|██████████| 50/50 [00:00<00:00, 457.00it/s]\n",
            "100%|██████████| 50/50 [00:00<00:00, 443.83it/s]\n",
            "100%|██████████| 50/50 [00:00<00:00, 412.64it/s]\n",
            "100%|██████████| 50/50 [00:00<00:00, 428.17it/s]\n"
          ],
          "name": "stderr"
        }
      ]
    },
    {
      "cell_type": "code",
      "metadata": {
        "id": "SUBjZKfD4iMT",
        "colab_type": "code",
        "colab": {}
      },
      "source": [
        "pop_movies = mdata2[0].append([mdata2[1],mdata2[2],mdata2[3],mdata2[4],mdata2[5],mdata2[6],mdata2[7]])"
      ],
      "execution_count": 20,
      "outputs": []
    },
    {
      "cell_type": "code",
      "metadata": {
        "id": "LJwpP_tp4iMd",
        "colab_type": "code",
        "colab": {}
      },
      "source": [
        "movies_lst = [pop_movies, trash_movies]"
      ],
      "execution_count": 21,
      "outputs": []
    },
    {
      "cell_type": "code",
      "metadata": {
        "id": "Jde3gNoS4iMn",
        "colab_type": "code",
        "colab": {
          "base_uri": "https://localhost:8080/",
          "height": 597
        },
        "outputId": "2e84f5e3-2239-454e-eea5-7136c7619aad"
      },
      "source": [
        "pop_movies"
      ],
      "execution_count": 22,
      "outputs": [
        {
          "output_type": "execute_result",
          "data": {
            "text/html": [
              "<div>\n",
              "<style scoped>\n",
              "    .dataframe tbody tr th:only-of-type {\n",
              "        vertical-align: middle;\n",
              "    }\n",
              "\n",
              "    .dataframe tbody tr th {\n",
              "        vertical-align: top;\n",
              "    }\n",
              "\n",
              "    .dataframe thead th {\n",
              "        text-align: right;\n",
              "    }\n",
              "</style>\n",
              "<table border=\"1\" class=\"dataframe\">\n",
              "  <thead>\n",
              "    <tr style=\"text-align: right;\">\n",
              "      <th></th>\n",
              "      <th>Title</th>\n",
              "      <th>Date</th>\n",
              "      <th>RunTime</th>\n",
              "      <th>Genre</th>\n",
              "      <th>Description</th>\n",
              "      <th>Director</th>\n",
              "      <th>Stars</th>\n",
              "      <th>Votes</th>\n",
              "    </tr>\n",
              "  </thead>\n",
              "  <tbody>\n",
              "    <tr>\n",
              "      <th>0</th>\n",
              "      <td>The Old Guard</td>\n",
              "      <td>2020</td>\n",
              "      <td>125</td>\n",
              "      <td>[Action,  Adventure,  Fantasy]</td>\n",
              "      <td>A covert team of immortal mercenaries are sudd...</td>\n",
              "      <td>Gina Prince-Bythewood</td>\n",
              "      <td>[Charlize Theron, KiKi Layne, Matthias Schoena...</td>\n",
              "      <td>74,725</td>\n",
              "    </tr>\n",
              "    <tr>\n",
              "      <th>1</th>\n",
              "      <td>Greyhound</td>\n",
              "      <td>2020</td>\n",
              "      <td>91</td>\n",
              "      <td>[Action,  Drama,  History]</td>\n",
              "      <td>Early in World War II, an inexperienced U.S. N...</td>\n",
              "      <td>Aaron Schneider</td>\n",
              "      <td>[Tom Hanks, Elisabeth Shue, Stephen Graham, Ma...</td>\n",
              "      <td>33,859</td>\n",
              "    </tr>\n",
              "    <tr>\n",
              "      <th>2</th>\n",
              "      <td>Rogue</td>\n",
              "      <td>I 2020</td>\n",
              "      <td>unknown</td>\n",
              "      <td>[Action]</td>\n",
              "      <td>Megan Fox (Transformers franchise) tackles a t...</td>\n",
              "      <td>M.J. Bassett</td>\n",
              "      <td>[Megan Fox, Jessica Sutton, Lee-Anne Liebenber...</td>\n",
              "      <td>unknown</td>\n",
              "    </tr>\n",
              "    <tr>\n",
              "      <th>3</th>\n",
              "      <td>The New Mutants</td>\n",
              "      <td>2020</td>\n",
              "      <td>98</td>\n",
              "      <td>[Action,  Horror,  Sci-Fi]</td>\n",
              "      <td>Five young mutants, just discovering their abi...</td>\n",
              "      <td>Josh Boone</td>\n",
              "      <td>[Maisie Williams, Anya Taylor-Joy, Charlie Hea...</td>\n",
              "      <td>unknown</td>\n",
              "    </tr>\n",
              "    <tr>\n",
              "      <th>4</th>\n",
              "      <td>Tenet</td>\n",
              "      <td>2020</td>\n",
              "      <td>150</td>\n",
              "      <td>[Action,  Sci-Fi,  Thriller]</td>\n",
              "      <td>Armed with only one word -- Tenet -- and fight...</td>\n",
              "      <td>Christopher Nolan</td>\n",
              "      <td>[John David Washington, Robert Pattinson, Eliz...</td>\n",
              "      <td>unknown</td>\n",
              "    </tr>\n",
              "    <tr>\n",
              "      <th>...</th>\n",
              "      <td>...</td>\n",
              "      <td>...</td>\n",
              "      <td>...</td>\n",
              "      <td>...</td>\n",
              "      <td>...</td>\n",
              "      <td>...</td>\n",
              "      <td>...</td>\n",
              "      <td>...</td>\n",
              "    </tr>\n",
              "    <tr>\n",
              "      <th>45</th>\n",
              "      <td>Downton Abbey</td>\n",
              "      <td>2019</td>\n",
              "      <td>122</td>\n",
              "      <td>[Drama,  Romance]</td>\n",
              "      <td>The continuing story of the Crawley family, we...</td>\n",
              "      <td>Michael Engler</td>\n",
              "      <td>[Stephen Campbell Moore, Michael Fox, Lesley N...</td>\n",
              "      <td>34,764</td>\n",
              "    </tr>\n",
              "    <tr>\n",
              "      <th>46</th>\n",
              "      <td>The Princess and the Frog</td>\n",
              "      <td>2009</td>\n",
              "      <td>97</td>\n",
              "      <td>[Animation,  Adventure,  Comedy]</td>\n",
              "      <td>A waitress, desperate to fulfill her dreams as...</td>\n",
              "      <td>Directors:Ron Clements, John Musker</td>\n",
              "      <td>[Anika Noni Rose, Keith David, Oprah Winfrey, ...</td>\n",
              "      <td>119,848</td>\n",
              "    </tr>\n",
              "    <tr>\n",
              "      <th>47</th>\n",
              "      <td>Stardust</td>\n",
              "      <td>2007</td>\n",
              "      <td>127</td>\n",
              "      <td>[Adventure,  Family,  Fantasy]</td>\n",
              "      <td>In a countryside town bordering on a magical l...</td>\n",
              "      <td>Matthew Vaughn</td>\n",
              "      <td>[Charlie Cox, Claire Danes, Sienna Miller, Ian...</td>\n",
              "      <td>249,229</td>\n",
              "    </tr>\n",
              "    <tr>\n",
              "      <th>48</th>\n",
              "      <td>La La Land</td>\n",
              "      <td>2016</td>\n",
              "      <td>128</td>\n",
              "      <td>[Comedy,  Drama,  Music]</td>\n",
              "      <td>While navigating their careers in Los Angeles,...</td>\n",
              "      <td>Damien Chazelle</td>\n",
              "      <td>[Ryan Gosling, Emma Stone, Rosemarie DeWitt, J...</td>\n",
              "      <td>485,107</td>\n",
              "    </tr>\n",
              "    <tr>\n",
              "      <th>49</th>\n",
              "      <td>Pretty Woman</td>\n",
              "      <td>1990</td>\n",
              "      <td>119</td>\n",
              "      <td>[Comedy,  Romance]</td>\n",
              "      <td>A man in a legal but hurtful business needs an...</td>\n",
              "      <td>Garry Marshall</td>\n",
              "      <td>[Richard Gere, Julia Roberts, Jason Alexander,...</td>\n",
              "      <td>280,310</td>\n",
              "    </tr>\n",
              "  </tbody>\n",
              "</table>\n",
              "<p>3600 rows × 8 columns</p>\n",
              "</div>"
            ],
            "text/plain": [
              "                        Title  ...    Votes\n",
              "0               The Old Guard  ...   74,725\n",
              "1                   Greyhound  ...   33,859\n",
              "2                       Rogue  ...  unknown\n",
              "3             The New Mutants  ...  unknown\n",
              "4                       Tenet  ...  unknown\n",
              "..                        ...  ...      ...\n",
              "45              Downton Abbey  ...   34,764\n",
              "46  The Princess and the Frog  ...  119,848\n",
              "47                   Stardust  ...  249,229\n",
              "48                 La La Land  ...  485,107\n",
              "49               Pretty Woman  ...  280,310\n",
              "\n",
              "[3600 rows x 8 columns]"
            ]
          },
          "metadata": {
            "tags": []
          },
          "execution_count": 22
        }
      ]
    },
    {
      "cell_type": "code",
      "metadata": {
        "id": "kXIHiyb5QkQT",
        "colab_type": "code",
        "colab": {
          "base_uri": "https://localhost:8080/",
          "height": 597
        },
        "outputId": "c7ec4da5-ea68-4195-a9af-19d5d24b1349"
      },
      "source": [
        "trash_movies"
      ],
      "execution_count": 24,
      "outputs": [
        {
          "output_type": "execute_result",
          "data": {
            "text/html": [
              "<div>\n",
              "<style scoped>\n",
              "    .dataframe tbody tr th:only-of-type {\n",
              "        vertical-align: middle;\n",
              "    }\n",
              "\n",
              "    .dataframe tbody tr th {\n",
              "        vertical-align: top;\n",
              "    }\n",
              "\n",
              "    .dataframe thead th {\n",
              "        text-align: right;\n",
              "    }\n",
              "</style>\n",
              "<table border=\"1\" class=\"dataframe\">\n",
              "  <thead>\n",
              "    <tr style=\"text-align: right;\">\n",
              "      <th></th>\n",
              "      <th>Title</th>\n",
              "      <th>Date</th>\n",
              "      <th>RunTime</th>\n",
              "      <th>Genre</th>\n",
              "      <th>Description</th>\n",
              "      <th>Director</th>\n",
              "      <th>Stars</th>\n",
              "      <th>Votes</th>\n",
              "    </tr>\n",
              "  </thead>\n",
              "  <tbody>\n",
              "    <tr>\n",
              "      <th>0</th>\n",
              "      <td>Son of the Mask</td>\n",
              "      <td>2005</td>\n",
              "      <td>94</td>\n",
              "      <td>[Comedy,  Family,  Fantasy]</td>\n",
              "      <td>Tim Avery, an aspiring cartoonist, finds himse...</td>\n",
              "      <td>Lawrence Guterman</td>\n",
              "      <td>[Jamie Kennedy, Traylor Howard, Alan Cumming, ...</td>\n",
              "      <td>51,481</td>\n",
              "    </tr>\n",
              "    <tr>\n",
              "      <th>1</th>\n",
              "      <td>BloodRayne</td>\n",
              "      <td>2005</td>\n",
              "      <td>95</td>\n",
              "      <td>[Action,  Adventure,  Fantasy]</td>\n",
              "      <td>In the eighteenth century, a vampire escapes f...</td>\n",
              "      <td>Uwe Boll</td>\n",
              "      <td>[Kristanna Loken, Ben Kingsley, Michelle Rodri...</td>\n",
              "      <td>33,750</td>\n",
              "    </tr>\n",
              "    <tr>\n",
              "      <th>2</th>\n",
              "      <td>Las Vampiras</td>\n",
              "      <td>1971</td>\n",
              "      <td>89</td>\n",
              "      <td>[Drama,  Horror]</td>\n",
              "      <td>An erotic horror tale about a vixen vampiress ...</td>\n",
              "      <td>Jesús Franco</td>\n",
              "      <td>[Soledad Miranda, Dennis Price, Paul Muller, E...</td>\n",
              "      <td>4,164</td>\n",
              "    </tr>\n",
              "    <tr>\n",
              "      <th>3</th>\n",
              "      <td>Troll 2</td>\n",
              "      <td>1990</td>\n",
              "      <td>95</td>\n",
              "      <td>[Comedy,  Fantasy,  Horror]</td>\n",
              "      <td>A vacationing family discovers that the entire...</td>\n",
              "      <td>Claudio Fragasso</td>\n",
              "      <td>[Michael Paul Stephenson, George Hardy, Margo ...</td>\n",
              "      <td>30,231</td>\n",
              "    </tr>\n",
              "    <tr>\n",
              "      <th>4</th>\n",
              "      <td>In the Name of the King: A Dungeon Siege Tale</td>\n",
              "      <td>2007</td>\n",
              "      <td>127</td>\n",
              "      <td>[Action,  Adventure,  Fantasy]</td>\n",
              "      <td>A man named Farmer sets out to rescue his kidn...</td>\n",
              "      <td>Uwe Boll</td>\n",
              "      <td>[Jason Statham, Ron Perlman, Ray Liotta, Leele...</td>\n",
              "      <td>43,800</td>\n",
              "    </tr>\n",
              "    <tr>\n",
              "      <th>...</th>\n",
              "      <td>...</td>\n",
              "      <td>...</td>\n",
              "      <td>...</td>\n",
              "      <td>...</td>\n",
              "      <td>...</td>\n",
              "      <td>...</td>\n",
              "      <td>...</td>\n",
              "      <td>...</td>\n",
              "    </tr>\n",
              "    <tr>\n",
              "      <th>45</th>\n",
              "      <td>Ein Sommer in Amalfi</td>\n",
              "      <td>2013 TV Movie</td>\n",
              "      <td>89</td>\n",
              "      <td>[Comedy,  Romance]</td>\n",
              "      <td>German travel guide researcher Kai, a gay play...</td>\n",
              "      <td>Jorgo Papavassiliou</td>\n",
              "      <td>[Ann-Kathrin Kramer, Carlos Leal, Steffen Grot...</td>\n",
              "      <td>43</td>\n",
              "    </tr>\n",
              "    <tr>\n",
              "      <th>46</th>\n",
              "      <td>Drei Mädels vom Rhein</td>\n",
              "      <td>1955</td>\n",
              "      <td>90</td>\n",
              "      <td>[Comedy,  Romance]</td>\n",
              "      <td>Add a Plot</td>\n",
              "      <td>Georg Jacoby</td>\n",
              "      <td>[Gardy Granass, Margit Saad, Fita Benkhoff, To...</td>\n",
              "      <td>23</td>\n",
              "    </tr>\n",
              "    <tr>\n",
              "      <th>47</th>\n",
              "      <td>Circus Girl</td>\n",
              "      <td>1954</td>\n",
              "      <td>103</td>\n",
              "      <td>[Adventure,  Romance]</td>\n",
              "      <td>Add a Plot</td>\n",
              "      <td>Veit Harlan</td>\n",
              "      <td>[Kristina Söderbaum, Willy Birgel, Adrian Hove...</td>\n",
              "      <td>30</td>\n",
              "    </tr>\n",
              "    <tr>\n",
              "      <th>48</th>\n",
              "      <td>Unser Doktor ist der Beste</td>\n",
              "      <td>1969</td>\n",
              "      <td>85</td>\n",
              "      <td>[Comedy,  Romance]</td>\n",
              "      <td>Dr Sommer is newly appointed to the hospital, ...</td>\n",
              "      <td>Harald Vock</td>\n",
              "      <td>[Roy Black, Helga Anders, Peter Weck, Christia...</td>\n",
              "      <td>81</td>\n",
              "    </tr>\n",
              "    <tr>\n",
              "      <th>49</th>\n",
              "      <td>Mariandls Heimkehr</td>\n",
              "      <td>1962</td>\n",
              "      <td>93</td>\n",
              "      <td>[Drama]</td>\n",
              "      <td>Add a Plot</td>\n",
              "      <td>Werner Jacobs</td>\n",
              "      <td>[Cornelia Froboess, Rudolf Prack, Waltraut Haa...</td>\n",
              "      <td>56</td>\n",
              "    </tr>\n",
              "  </tbody>\n",
              "</table>\n",
              "<p>3600 rows × 8 columns</p>\n",
              "</div>"
            ],
            "text/plain": [
              "                                            Title  ...   Votes\n",
              "0                                 Son of the Mask  ...  51,481\n",
              "1                                      BloodRayne  ...  33,750\n",
              "2                                    Las Vampiras  ...   4,164\n",
              "3                                         Troll 2  ...  30,231\n",
              "4   In the Name of the King: A Dungeon Siege Tale  ...  43,800\n",
              "..                                            ...  ...     ...\n",
              "45                           Ein Sommer in Amalfi  ...      43\n",
              "46                          Drei Mädels vom Rhein  ...      23\n",
              "47                                    Circus Girl  ...      30\n",
              "48                     Unser Doktor ist der Beste  ...      81\n",
              "49                             Mariandls Heimkehr  ...      56\n",
              "\n",
              "[3600 rows x 8 columns]"
            ]
          },
          "metadata": {
            "tags": []
          },
          "execution_count": 24
        }
      ]
    },
    {
      "cell_type": "markdown",
      "metadata": {
        "id": "5G4YJfVW4iNB",
        "colab_type": "text"
      },
      "source": [
        "# Data Cleaning"
      ]
    },
    {
      "cell_type": "code",
      "metadata": {
        "id": "X7kTlCCd4iNC",
        "colab_type": "code",
        "colab": {}
      },
      "source": [
        "def drop(x):\n",
        "    \n",
        "    '''\n",
        "    \n",
        "    This function recevies a Data Frame generated by IMDB extracting class;\n",
        "    shows the initial shape;\n",
        "    drop all NaN values and duplicates filtered by both title and date collumns.\n",
        "    \n",
        "    '''\n",
        "    \n",
        "    print(f'Initial Shape: {x.shape}')\n",
        "    print(f'Number of rolls that contain NaN values: {x.isna().sum()}')\n",
        "    x = x.dropna()\n",
        "    x = x.drop_duplicates(subset=['Title','Date'])\n",
        "    print(f'Final Shape: {x.shape}')\n",
        "    \n",
        "    return x"
      ],
      "execution_count": 25,
      "outputs": []
    },
    {
      "cell_type": "code",
      "metadata": {
        "id": "Kow_qnA24iNK",
        "colab_type": "code",
        "colab": {
          "base_uri": "https://localhost:8080/",
          "height": 421
        },
        "outputId": "91e16eb2-bedd-473b-c109-a099e6d32fb3"
      },
      "source": [
        "# applying the drop function modifications into Data Frames \n",
        "\n",
        "clear = [pd.DataFrame(drop(x)) for x in movies_lst]\n",
        "pop_movies = clear[0]\n",
        "trash_movies = clear[1]"
      ],
      "execution_count": 26,
      "outputs": [
        {
          "output_type": "stream",
          "text": [
            "Initial Shape: (3600, 8)\n",
            "Number of rolls that contain NaN values: Title          0\n",
            "Date           0\n",
            "RunTime        0\n",
            "Genre          0\n",
            "Description    0\n",
            "Director       0\n",
            "Stars          0\n",
            "Votes          0\n",
            "dtype: int64\n",
            "Final Shape: (1117, 8)\n",
            "Initial Shape: (3600, 8)\n",
            "Number of rolls that contain NaN values: Title          0\n",
            "Date           0\n",
            "RunTime        0\n",
            "Genre          0\n",
            "Description    0\n",
            "Director       0\n",
            "Stars          0\n",
            "Votes          0\n",
            "dtype: int64\n",
            "Final Shape: (987, 8)\n"
          ],
          "name": "stdout"
        }
      ]
    },
    {
      "cell_type": "markdown",
      "metadata": {
        "id": "1L4ec7Dz4iNU",
        "colab_type": "text"
      },
      "source": [
        "#### Using Rake function from NLTK library to extract key words from the Description column"
      ]
    },
    {
      "cell_type": "code",
      "metadata": {
        "id": "jq5pfCyu4iNV",
        "colab_type": "code",
        "colab": {
          "base_uri": "https://localhost:8080/",
          "height": 237
        },
        "outputId": "ac6e4bb6-0082-44fd-da4f-65b47339b693"
      },
      "source": [
        "# initializing the new column\n",
        "pop_movies['Key_words'] = \"\"\n",
        "\n",
        "for index, row in pop_movies.iterrows():\n",
        "    plot = row['Description']\n",
        "    \n",
        "    # instantiating Rake\n",
        "    r = Rake()\n",
        "\n",
        "    # extracting the words by passing the text\n",
        "    r.extract_keywords_from_text(plot)\n",
        "\n",
        "    # getting the dictionary whith key words as keys and their scores as values\n",
        "    key_words_dict_scores = r.get_word_degrees()\n",
        "    \n",
        "    # assigning the key words to the new column for the corresponding movie\n",
        "    row['Key_words'] = list(key_words_dict_scores.keys())\n",
        "    \n",
        "pop_movies['Key_words']"
      ],
      "execution_count": 34,
      "outputs": [
        {
          "output_type": "execute_result",
          "data": {
            "text/plain": [
              "0     [unexpected, new, member, discovered, fight, i...\n",
              "1     [navy, captain, must, lead, early, stalked, na...\n",
              "2     [lively, squad, ..., see, full, summary, », me...\n",
              "3     [held, five, young, mutants, fight, secret, fa...\n",
              "4     [international, espionage, protagonist, journe...\n",
              "                            ...                        \n",
              "44    [disguised, couple, weeks, viola, heads, fall,...\n",
              "46    [newly, cousin, wanted, local, cop, unemployed...\n",
              "47    [murder, turned, upside, accused, wife, life, ...\n",
              "48    [vienna, train, europe, unfortunately, night, ...\n",
              "49    [world, simple, bookshop, owner, changes, famo...\n",
              "Name: Key_words, Length: 1117, dtype: object"
            ]
          },
          "metadata": {
            "tags": []
          },
          "execution_count": 34
        }
      ]
    },
    {
      "cell_type": "code",
      "metadata": {
        "id": "_MtiePHS4iNe",
        "colab_type": "code",
        "colab": {
          "base_uri": "https://localhost:8080/",
          "height": 237
        },
        "outputId": "45cf4645-850d-42fb-c5da-ecbaa8c227c2"
      },
      "source": [
        "# Applying the same for trash_movies data frame\n",
        "trash_movies['Key_words'] = \"\"\n",
        "\n",
        "for index, row in trash_movies.iterrows():\n",
        "    plot = row['Description']\n",
        "    r = Rake()\n",
        "    r.extract_keywords_from_text(plot)\n",
        "    key_words_dict_scores = r.get_word_degrees()\n",
        "    row['Key_words'] = list(key_words_dict_scores.keys())\n",
        "    \n",
        "trash_movies['Key_words']"
      ],
      "execution_count": 35,
      "outputs": [
        {
          "output_type": "execute_result",
          "data": {
            "text/plain": [
              "0     [looney, child, raising, finds, loki, infant, ...\n",
              "1     [vampire, slayers, escapes, kill, freak, show,...\n",
              "2     [killing, women, vixen, vampiress, seducing, e...\n",
              "3     [plan, disguised, entire, town, goblins, inhab...\n",
              "4     [kidnapped, wife, race, warriors, evil, gallia...\n",
              "                            ...                        \n",
              "45    [italian, stallions, amalfi, ..., see, full, s...\n",
              "46                                          [add, plot]\n",
              "47                                          [add, plot]\n",
              "48    [gets, romantic, ..., see, full, summary, », n...\n",
              "49                                          [add, plot]\n",
              "Name: Key_words, Length: 987, dtype: object"
            ]
          },
          "metadata": {
            "tags": []
          },
          "execution_count": 35
        }
      ]
    },
    {
      "cell_type": "code",
      "metadata": {
        "id": "SGl_DTzR4iNl",
        "colab_type": "code",
        "colab": {}
      },
      "source": [
        "# transforming all columns Title in Index and drop duplicates \n",
        "movies = pd.concat([trash_movies, pop_movies])\n",
        "movies.index = movies.Title\n",
        "movies.drop(columns=['Title'], inplace=True)"
      ],
      "execution_count": 36,
      "outputs": []
    },
    {
      "cell_type": "code",
      "metadata": {
        "id": "AbU182O84iNq",
        "colab_type": "code",
        "colab": {}
      },
      "source": [
        "trash_movies.index = trash_movies.Title\n",
        "trash_movies.drop(columns=['Title'], inplace=True)"
      ],
      "execution_count": 37,
      "outputs": []
    },
    {
      "cell_type": "code",
      "metadata": {
        "id": "IRyD4vzM4iNx",
        "colab_type": "code",
        "colab": {}
      },
      "source": [
        "pop_movies.index = pop_movies.Title\n",
        "pop_movies.drop(columns=['Title'], inplace=True)"
      ],
      "execution_count": 38,
      "outputs": []
    },
    {
      "cell_type": "code",
      "metadata": {
        "id": "x1ajlmJ34iN3",
        "colab_type": "code",
        "colab": {
          "base_uri": "https://localhost:8080/",
          "height": 201
        },
        "outputId": "8d959ee4-6ca0-4c1f-9cf1-dbd72b19d0d9"
      },
      "source": [
        "movies.index.drop_duplicates()"
      ],
      "execution_count": 39,
      "outputs": [
        {
          "output_type": "execute_result",
          "data": {
            "text/plain": [
              "Index(['Son of the Mask', 'BloodRayne', 'Las Vampiras', 'Troll 2',\n",
              "       'In the Name of the King: A Dungeon Siege Tale', 'Far Cry',\n",
              "       'Piranha II: The Spawning', 'House of the Dead', 'Alone in the Dark',\n",
              "       'Postal',\n",
              "       ...\n",
              "       'Love Wedding Repeat', 'A Hidden Life', 'The Virgin Suicides',\n",
              "       'Inherent Vice', 'All the Bright Places', 'She's the Man',\n",
              "       'One for the Money', 'The Next Three Days', 'Before Sunrise',\n",
              "       'Notting Hill'],\n",
              "      dtype='object', name='Title', length=2057)"
            ]
          },
          "metadata": {
            "tags": []
          },
          "execution_count": 39
        }
      ]
    },
    {
      "cell_type": "code",
      "metadata": {
        "id": "af3LSJj64iOB",
        "colab_type": "code",
        "colab": {
          "base_uri": "https://localhost:8080/",
          "height": 182
        },
        "outputId": "575078f3-435f-41d0-b095-70217d10001c"
      },
      "source": [
        "pop_movies.index.drop_duplicates()"
      ],
      "execution_count": 40,
      "outputs": [
        {
          "output_type": "execute_result",
          "data": {
            "text/plain": [
              "Index(['The Old Guard', 'Greyhound', 'Rogue', 'The New Mutants', 'Tenet',\n",
              "       'The Gentlemen', 'The Silencing', 'Peninsula', 'Project Power',\n",
              "       'Midway',\n",
              "       ...\n",
              "       'Love Wedding Repeat', 'A Hidden Life', 'The Virgin Suicides',\n",
              "       'Inherent Vice', 'All the Bright Places', 'She's the Man',\n",
              "       'One for the Money', 'The Next Three Days', 'Before Sunrise',\n",
              "       'Notting Hill'],\n",
              "      dtype='object', name='Title', length=1098)"
            ]
          },
          "metadata": {
            "tags": []
          },
          "execution_count": 40
        }
      ]
    },
    {
      "cell_type": "code",
      "metadata": {
        "id": "MOl7ibmB4iOL",
        "colab_type": "code",
        "colab": {
          "base_uri": "https://localhost:8080/",
          "height": 201
        },
        "outputId": "c825f633-718d-430a-be50-297913dcedbd"
      },
      "source": [
        "trash_movies.index.drop_duplicates()"
      ],
      "execution_count": 41,
      "outputs": [
        {
          "output_type": "execute_result",
          "data": {
            "text/plain": [
              "Index(['Son of the Mask', 'BloodRayne', 'Las Vampiras', 'Troll 2',\n",
              "       'In the Name of the King: A Dungeon Siege Tale', 'Far Cry',\n",
              "       'Piranha II: The Spawning', 'House of the Dead', 'Alone in the Dark',\n",
              "       'Postal',\n",
              "       ...\n",
              "       '881', 'Im Prater blüh'n wieder die Bäume',\n",
              "       'Ela Que Mora no Andar de Cima', 'Der Edelweißkönig',\n",
              "       'Schwarzwaldmädel', 'Ein Sommer in Amalfi', 'Drei Mädels vom Rhein',\n",
              "       'Circus Girl', 'Unser Doktor ist der Beste', 'Mariandls Heimkehr'],\n",
              "      dtype='object', name='Title', length=984)"
            ]
          },
          "metadata": {
            "tags": []
          },
          "execution_count": 41
        }
      ]
    },
    {
      "cell_type": "markdown",
      "metadata": {
        "id": "HrmCsUqR4iOS",
        "colab_type": "text"
      },
      "source": [
        "# Datasets to CSV"
      ]
    },
    {
      "cell_type": "code",
      "metadata": {
        "id": "TlkP7xmu4iOT",
        "colab_type": "code",
        "colab": {}
      },
      "source": [
        "trash_movies.to_csv('trash.csv')"
      ],
      "execution_count": 42,
      "outputs": []
    },
    {
      "cell_type": "code",
      "metadata": {
        "id": "QFWkvQzL4iOZ",
        "colab_type": "code",
        "colab": {}
      },
      "source": [
        "pop_movies.to_csv('pop.csv')"
      ],
      "execution_count": 43,
      "outputs": []
    },
    {
      "cell_type": "code",
      "metadata": {
        "id": "6WDzP1aC4iOj",
        "colab_type": "code",
        "colab": {}
      },
      "source": [
        "movies.to_csv('movies.csv')"
      ],
      "execution_count": 44,
      "outputs": []
    },
    {
      "cell_type": "code",
      "metadata": {
        "id": "PKEH3VtO4iOr",
        "colab_type": "code",
        "colab": {}
      },
      "source": [
        ""
      ],
      "execution_count": null,
      "outputs": []
    }
  ]
}