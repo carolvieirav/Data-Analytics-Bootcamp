{
  "nbformat": 4,
  "nbformat_minor": 0,
  "metadata": {
    "kernelspec": {
      "display_name": "Python 3",
      "language": "python",
      "name": "python3"
    },
    "language_info": {
      "codemirror_mode": {
        "name": "ipython",
        "version": 3
      },
      "file_extension": ".py",
      "mimetype": "text/x-python",
      "name": "python",
      "nbconvert_exporter": "python",
      "pygments_lexer": "ipython3",
      "version": "3.7.3"
    },
    "toc": {
      "base_numbering": 1,
      "nav_menu": {},
      "number_sections": true,
      "sideBar": true,
      "skip_h1_title": false,
      "title_cell": "Table of Contents",
      "title_sidebar": "Contents",
      "toc_cell": false,
      "toc_position": {},
      "toc_section_display": true,
      "toc_window_display": false
    },
    "varInspector": {
      "cols": {
        "lenName": 16,
        "lenType": 16,
        "lenVar": 40
      },
      "kernels_config": {
        "python": {
          "delete_cmd_postfix": "",
          "delete_cmd_prefix": "del ",
          "library": "var_list.py",
          "varRefreshCmd": "print(var_dic_list())"
        },
        "r": {
          "delete_cmd_postfix": ") ",
          "delete_cmd_prefix": "rm(",
          "library": "var_list.r",
          "varRefreshCmd": "cat(var_dic_list()) "
        }
      },
      "types_to_exclude": [
        "module",
        "function",
        "builtin_function_or_method",
        "instance",
        "_Feature"
      ],
      "window_display": false
    },
    "colab": {
      "name": "functional_programming.ipynb",
      "provenance": [],
      "collapsed_sections": [],
      "include_colab_link": true
    }
  },
  "cells": [
    {
      "cell_type": "markdown",
      "metadata": {
        "id": "view-in-github",
        "colab_type": "text"
      },
      "source": [
        "<a href=\"https://colab.research.google.com/github/carolvieirav/Labs/blob/master/functional_programming.ipynb\" target=\"_parent\"><img src=\"https://colab.research.google.com/assets/colab-badge.svg\" alt=\"Open In Colab\"/></a>"
      ]
    },
    {
      "cell_type": "markdown",
      "metadata": {
        "id": "LoyagDSbdJ4O",
        "colab_type": "text"
      },
      "source": [
        "# Before your start:\n",
        "- Read the README.md file\n",
        "- Comment as much as you can and use the resources in the README.md file\n",
        "- Happy learning!"
      ]
    },
    {
      "cell_type": "code",
      "metadata": {
        "id": "OY6dDgoKdJ4X",
        "colab_type": "code",
        "colab": {}
      },
      "source": [
        "import numpy as np\n",
        "import pandas as pd"
      ],
      "execution_count": 0,
      "outputs": []
    },
    {
      "cell_type": "markdown",
      "metadata": {
        "id": "ikmoLFuMdJ4v",
        "colab_type": "text"
      },
      "source": [
        "# Challenge - Inside a function\n",
        "You are already familiar with several built in functions on python as well as libraries. Let's try to figure out how they are made in pure python. "
      ]
    },
    {
      "cell_type": "markdown",
      "metadata": {
        "id": "SfquHr1FdJ4z",
        "colab_type": "text"
      },
      "source": [
        "Create a function that returns the count of a list of numbers"
      ]
    },
    {
      "cell_type": "code",
      "metadata": {
        "id": "RsYZvr7EdJ44",
        "colab_type": "code",
        "colab": {}
      },
      "source": [
        "def count_num(a):\n",
        "  count = len(a)\n",
        "  return count"
      ],
      "execution_count": 0,
      "outputs": []
    },
    {
      "cell_type": "markdown",
      "metadata": {
        "id": "teHHNEEvdJ5G",
        "colab_type": "text"
      },
      "source": [
        "Create a function that returns the mean of a list of numbers"
      ]
    },
    {
      "cell_type": "code",
      "metadata": {
        "id": "r4IT4LtzdJ5K",
        "colab_type": "code",
        "colab": {}
      },
      "source": [
        "def mean_num(a):\n",
        "  mean = sum(a)/count_num(a)\n",
        "  return mean"
      ],
      "execution_count": 0,
      "outputs": []
    },
    {
      "cell_type": "markdown",
      "metadata": {
        "id": "WU91QgY7dJ5l",
        "colab_type": "text"
      },
      "source": [
        "Create a function that returns the count, mean and standard deviation of a given list. Document this function using triple quotes, your documentation should have description, parameters, returns and examples. "
      ]
    },
    {
      "cell_type": "code",
      "metadata": {
        "id": "tlJbcGuY5ATO",
        "colab_type": "code",
        "colab": {}
      },
      "source": [
        "import math\n",
        "\n",
        "def count_mean_stdv(a):\n",
        "    \"\"\"\n",
        "    Description: This function receives a list and returns the count, mean and standard deviation of the list.\n",
        "\n",
        "    Parameters -> list\n",
        "\n",
        "    Returns: A tuple with the count, mean and standard deviation of a list.\n",
        "\n",
        "    Example:\n",
        "\n",
        "    my_list = [1,45,2,4]\n",
        "\n",
        "    count_mean_stdv(my_list) = (4, 13.0, 18.506755523321747) \n",
        "    \"\"\"\n",
        "    return (count_num(a), mean_num(a), stdv_num(a))"
      ],
      "execution_count": 0,
      "outputs": []
    },
    {
      "cell_type": "markdown",
      "metadata": {
        "id": "2otvoHBZdJ5V",
        "colab_type": "text"
      },
      "source": [
        "Create a function that returns the standard deviation of a list of numbers using the previous functions you created. "
      ]
    },
    {
      "cell_type": "code",
      "metadata": {
        "id": "LOn2Ix2QdJ5p",
        "colab_type": "code",
        "colab": {}
      },
      "source": [
        "def stdv_num(a):\n",
        "    x = 0\n",
        "    mean = mean_num(a)\n",
        "    count = count_num(a)\n",
        "    for item in a:\n",
        "        x += (item - mean)**2\n",
        "    return (x/count)**0.5"
      ],
      "execution_count": 0,
      "outputs": []
    },
    {
      "cell_type": "markdown",
      "metadata": {
        "id": "bF38jqDYdJ5z",
        "colab_type": "text"
      },
      "source": [
        "# Challenge  - String Cleaning\n",
        "When working with textual data you will often have to clean it before being able to analyze it. Create a function that receives a string and returns that string in all lower case, without special characters and in alphabetical order. "
      ]
    },
    {
      "cell_type": "code",
      "metadata": {
        "id": "BPWZ4wwddJ52",
        "colab_type": "code",
        "colab": {}
      },
      "source": [
        "# Your code here:\n",
        "\n",
        "string = \"Let's clean the hell out of it!\"\n",
        "\n",
        "def string_cleaner(string):\n",
        "  cleaner1 = re.sub('\\W+','', string)\n",
        "  cleaner2 = sorted(cleaner1)\n",
        "  cleaner3 = ''.join(cleaner2)\n",
        "\n",
        "  return cleaner3.lower()"
      ],
      "execution_count": 0,
      "outputs": []
    },
    {
      "cell_type": "markdown",
      "metadata": {
        "id": "9HDQrzwwdJ6G",
        "colab_type": "text"
      },
      "source": [
        "# Challenge  - Classification\n",
        "Sometimes datasets provide very good and precise information but not in the way we need to use it. In this challenge, make a function that takes a numeric value (age or income for example) and turns it into a category (could be from Very Low to Very High or rated from 0 to 10). \n"
      ]
    },
    {
      "cell_type": "code",
      "metadata": {
        "id": "HL0Tu2osdJ6J",
        "colab_type": "code",
        "colab": {}
      },
      "source": [
        "# Your code here:\n",
        "\n",
        "excelent = 0\n",
        "good = 0\n",
        "had_better = 0\n",
        "garbage = 0\n",
        "\n",
        "def movie_rate (rate_list):\n",
        "  for rate in rate_list:\n",
        "    if rate == 5:\n",
        "      excelent =+ 1\n",
        "      print('Excelent movie!')\n",
        "    elif rate == 4:\n",
        "      good =+ 1\n",
        "      print('Good!')\n",
        "    elif rate == 3:\n",
        "      had_better =+ 1\n",
        "      print('I had better!')\n",
        "    else:\n",
        "      garbage =+1\n",
        "      print('Garbage!')\n",
        "    return\n",
        "\n",
        "rate_list = [1,3,3,1,3,5,5,1,3,4,2,2]\n",
        "movie_rate(rate_list)"
      ],
      "execution_count": 0,
      "outputs": []
    },
    {
      "cell_type": "markdown",
      "metadata": {
        "id": "77MJk2nydJ6Y",
        "colab_type": "text"
      },
      "source": [
        "# Challenge  - Recursion \n",
        "In some cases it is interesting to build a function that calls itself. Use a recursive function that asks for an input from the users age and keeps asking for it until the input is a number between 0 and 150. "
      ]
    },
    {
      "cell_type": "code",
      "metadata": {
        "id": "HJSe6BnRdJ6e",
        "colab_type": "code",
        "colab": {}
      },
      "source": [
        "# Your code here:"
      ],
      "execution_count": 0,
      "outputs": []
    },
    {
      "cell_type": "markdown",
      "metadata": {
        "id": "F8BNwnoXdJ6w",
        "colab_type": "text"
      },
      "source": [
        "# Challenge - Global and local variables "
      ]
    },
    {
      "cell_type": "markdown",
      "metadata": {
        "id": "Dfe5RecLdJ6z",
        "colab_type": "text"
      },
      "source": [
        "Make a function that returns the buzz string in alphabetical order  "
      ]
    },
    {
      "cell_type": "code",
      "metadata": {
        "id": "AFuWceBSdJ64",
        "colab_type": "code",
        "colab": {}
      },
      "source": [
        "buzz = \"Big Data, Machine Learning, AI, Data Warehouse, Pipeline\"\n"
      ],
      "execution_count": 0,
      "outputs": []
    },
    {
      "cell_type": "markdown",
      "metadata": {
        "id": "MkJ8yZ9kdJ7D",
        "colab_type": "text"
      },
      "source": [
        "Make a function without return that modifies the buzz string and puts it in alphabetical order"
      ]
    },
    {
      "cell_type": "code",
      "metadata": {
        "id": "TEMObw2RdJ7H",
        "colab_type": "code",
        "colab": {}
      },
      "source": [
        "buzz = \"Big Data, Machine Learning, AI, Data Warehouse, Pipeline\"\n"
      ],
      "execution_count": 0,
      "outputs": []
    },
    {
      "cell_type": "code",
      "metadata": {
        "id": "ys5eWbmCdJ7Q",
        "colab_type": "code",
        "colab": {}
      },
      "source": [
        ""
      ],
      "execution_count": 0,
      "outputs": []
    },
    {
      "cell_type": "markdown",
      "metadata": {
        "id": "n_dk7avtdJ7b",
        "colab_type": "text"
      },
      "source": [
        "# Bonus Challenge  - Applying Functions to DataFrames\n",
        "\n",
        "In this challenge, we will look at how to transform cells or entire columns at once.\n"
      ]
    },
    {
      "cell_type": "code",
      "metadata": {
        "id": "srpEC_4XdJ7d",
        "colab_type": "code",
        "colab": {}
      },
      "source": [
        "import pandas as pd"
      ],
      "execution_count": 0,
      "outputs": []
    },
    {
      "cell_type": "code",
      "metadata": {
        "id": "HyObmpg6dJ7l",
        "colab_type": "code",
        "colab": {}
      },
      "source": [
        "iris_numeric = pd.DataFrame(data =[[5.1,3.5,1.4,0.2], [4.9,3,1.4,0.2],[4.7,3.2,1.3,0.2],[4.6,3.1,1.5,0.2],[5,3.6,1.4,0.2],[5.4,3.9,1.7,0.4],[4.6,3.4,1.4,0.3],[5,3.4,1.5,0.2],[4.4,2.9,1.4,0.2],[4.9,3.1,1.5,0.1]],columns = ['sepal_length', 'sepal_width', 'petal_length','petal_width'])"
      ],
      "execution_count": 0,
      "outputs": []
    },
    {
      "cell_type": "markdown",
      "metadata": {
        "id": "gHYaFNe-dJ7u",
        "colab_type": "text"
      },
      "source": [
        "Let's look at the dataset using the `head` function."
      ]
    },
    {
      "cell_type": "code",
      "metadata": {
        "id": "dVBQzF9ndJ7x",
        "colab_type": "code",
        "colab": {}
      },
      "source": [
        "# Your code here:\n",
        "\n"
      ],
      "execution_count": 0,
      "outputs": []
    },
    {
      "cell_type": "markdown",
      "metadata": {
        "id": "7hrDw8gedJ75",
        "colab_type": "text"
      },
      "source": [
        "Let's start off by using built-in functions. Try to use the numpy mean function and describe what happens in the comments of the code."
      ]
    },
    {
      "cell_type": "code",
      "metadata": {
        "id": "fFSZ3EpDdJ77",
        "colab_type": "code",
        "colab": {}
      },
      "source": [
        ""
      ],
      "execution_count": 0,
      "outputs": []
    },
    {
      "cell_type": "markdown",
      "metadata": {
        "id": "aPHZPjOsdJ8D",
        "colab_type": "text"
      },
      "source": [
        "Next, we'll use the standard deviation function in numpy (np.std). Describe what happened in the comments."
      ]
    },
    {
      "cell_type": "code",
      "metadata": {
        "id": "7YFo0H2OdJ8F",
        "colab_type": "code",
        "colab": {}
      },
      "source": [
        ""
      ],
      "execution_count": 0,
      "outputs": []
    },
    {
      "cell_type": "markdown",
      "metadata": {
        "id": "d_OnUCyLdJ8N",
        "colab_type": "text"
      },
      "source": [
        "The measurements are in centimeters. Let's convert them all to inches. We will write a function that converts centimeters to inches in the cell below. Recall that 1cm = 0.393701in."
      ]
    },
    {
      "cell_type": "code",
      "metadata": {
        "id": "jgeOvPrCdJ8Q",
        "colab_type": "code",
        "outputId": "452cd7a8-56d4-4e25-f2b0-64046c525227",
        "colab": {}
      },
      "source": [
        "def cm_to_in(x):\n",
        "    # This function takes in a numeric value in centimeters and converts it to inches\n",
        "    # Input: numeric value\n",
        "    # Output: float\n",
        "    \n",
        "    # Sample Input: 1.0\n",
        "    # Sample Output: 0.393701\n",
        "    \n",
        "    # Your code here:\n",
        "    "
      ],
      "execution_count": 0,
      "outputs": [
        {
          "output_type": "error",
          "ename": "SyntaxError",
          "evalue": "unexpected EOF while parsing (<ipython-input-31-23a258f56522>, line 10)",
          "traceback": [
            "\u001b[1;36m  File \u001b[1;32m\"<ipython-input-31-23a258f56522>\"\u001b[1;36m, line \u001b[1;32m10\u001b[0m\n\u001b[1;33m    \u001b[0m\n\u001b[1;37m    ^\u001b[0m\n\u001b[1;31mSyntaxError\u001b[0m\u001b[1;31m:\u001b[0m unexpected EOF while parsing\n"
          ]
        }
      ]
    },
    {
      "cell_type": "markdown",
      "metadata": {
        "id": "k7yKLLx2dJ8a",
        "colab_type": "text"
      },
      "source": [
        "Now convert all columns in `iris_numeric` to inches in the cell below. We like to think of functional transformations as immutable. Therefore, save the transformed data in a dataframe called `iris_inch`."
      ]
    },
    {
      "cell_type": "code",
      "metadata": {
        "id": "L9QhwDcUdJ8c",
        "colab_type": "code",
        "colab": {}
      },
      "source": [
        "# Your code here:\n",
        "\n"
      ],
      "execution_count": 0,
      "outputs": []
    },
    {
      "cell_type": "markdown",
      "metadata": {
        "id": "Zw-tX4OqdJ8q",
        "colab_type": "text"
      },
      "source": [
        "We have just found that the original measurements were off by a constant. Define the global constant `error` and set it to 2. Write a function that uses the global constant and adds it to each cell in the dataframe. Apply this function to `iris_numeric` and save the result in `iris_constant`."
      ]
    },
    {
      "cell_type": "code",
      "metadata": {
        "id": "3rgTSyapdJ8s",
        "colab_type": "code",
        "outputId": "a1bd4a6a-387a-4c5c-d602-5b77cbb1ae35",
        "colab": {}
      },
      "source": [
        "# Define constant below:\n",
        "\n",
        "\n",
        "def add_constant(x):\n",
        "    # This function adds a global constant to our input.\n",
        "    # Input: numeric value\n",
        "    # Output: numeric value\n",
        "    \n",
        "    # Your code here:\n",
        "    "
      ],
      "execution_count": 0,
      "outputs": [
        {
          "output_type": "error",
          "ename": "SyntaxError",
          "evalue": "unexpected EOF while parsing (<ipython-input-8-8a9b76198078>, line 10)",
          "traceback": [
            "\u001b[1;36m  File \u001b[1;32m\"<ipython-input-8-8a9b76198078>\"\u001b[1;36m, line \u001b[1;32m10\u001b[0m\n\u001b[1;33m    \u001b[0m\n\u001b[1;37m    ^\u001b[0m\n\u001b[1;31mSyntaxError\u001b[0m\u001b[1;31m:\u001b[0m unexpected EOF while parsing\n"
          ]
        }
      ]
    },
    {
      "cell_type": "markdown",
      "metadata": {
        "id": "5DK_zG1UdJ83",
        "colab_type": "text"
      },
      "source": [
        "Read more about applying functions to either rows or columns [here](https://pandas.pydata.org/pandas-docs/stable/generated/pandas.DataFrame.apply.html) and write a function that computes the maximum value for each row of `iris_numeric`"
      ]
    },
    {
      "cell_type": "code",
      "metadata": {
        "id": "8Z1M9VZUdJ86",
        "colab_type": "code",
        "colab": {}
      },
      "source": [
        "# Your code here:\n",
        "\n"
      ],
      "execution_count": 0,
      "outputs": []
    },
    {
      "cell_type": "markdown",
      "metadata": {
        "id": "KREHECrXdJ9D",
        "colab_type": "text"
      },
      "source": [
        "Compute the combined lengths for each row and the combined widths for each row using a function. Assign these values to new columns `total_length` and `total_width`."
      ]
    },
    {
      "cell_type": "code",
      "metadata": {
        "id": "r4ZIeZTGdJ9G",
        "colab_type": "code",
        "colab": {}
      },
      "source": [
        "# Your code here:\n",
        "\n"
      ],
      "execution_count": 0,
      "outputs": []
    },
    {
      "cell_type": "code",
      "metadata": {
        "id": "5vTFeNsudJ9P",
        "colab_type": "code",
        "colab": {}
      },
      "source": [
        ""
      ],
      "execution_count": 0,
      "outputs": []
    }
  ]
}